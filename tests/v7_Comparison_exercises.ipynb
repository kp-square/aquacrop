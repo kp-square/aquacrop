{
 "cells": [
  {
   "cell_type": "code",
   "execution_count": 1,
   "metadata": {},
   "outputs": [
    {
     "name": "stdout",
     "output_type": "stream",
     "text": [
      "Running the simulation in development mode.\n",
      "INFO: No module named 'numpy.distutils._msvccompiler' in numpy.distutils; trying from distutils\n"
     ]
    },
    {
     "name": "stderr",
     "output_type": "stream",
     "text": [
      "C:\\Users\\s10034cb\\AppData\\Roaming\\Python\\Python39\\site-packages\\aquacrop\\solution\\root_zone_water.py:4: NumbaPendingDeprecationWarning: \u001b[1mThe 'pycc' module is pending deprecation. Replacement technology is being developed.\n",
      "\n",
      "Pending Deprecation in Numba 0.57.0. For more information please see: https://numba.readthedocs.io/en/stable/reference/deprecation.html#deprecation-of-the-numba-pycc-module\u001b[0m\n",
      "  from numba.pycc import CC\n"
     ]
    },
    {
     "name": "stdout",
     "output_type": "stream",
     "text": [
      "INFO: C:\\Program Files (x86)\\Microsoft Visual Studio\\2022\\BuildTools\\VC\\Tools\\MSVC\\14.35.32215\\bin\\HostX86\\x64\\cl.exe /c /nologo /O2 /W3 /GL /DNDEBUG /MD -IC:\\Program Files (x86)\\Microsoft Visual Studio\\2022\\BuildTools\\VC\\Tools\\MSVC\\14.35.32215\\include -IC:\\Program Files (x86)\\Microsoft Visual Studio\\2022\\BuildTools\\VC\\Tools\\MSVC\\14.35.32215\\ATLMFC\\include -IC:\\Program Files (x86)\\Microsoft Visual Studio\\2022\\BuildTools\\VC\\Auxiliary\\VS\\include -IC:\\Program Files (x86)\\Windows Kits\\10\\include\\10.0.22000.0\\ucrt -IC:\\Program Files (x86)\\Windows Kits\\10\\\\include\\10.0.22000.0\\\\um -IC:\\Program Files (x86)\\Windows Kits\\10\\\\include\\10.0.22000.0\\\\shared -IC:\\Program Files (x86)\\Windows Kits\\10\\\\include\\10.0.22000.0\\\\winrt -IC:\\Program Files (x86)\\Windows Kits\\10\\\\include\\10.0.22000.0\\\\cppwinrt /TcC:\\Users\\s10034cb\\AppData\\Local\\Temp\\tmpgj2dh788\\temp.c /FoC:\\Users\\s10034cb\\AppData\\Local\\Temp\\tmpgj2dh788\\temp.obj\n",
      "INFO: C:\\Program Files (x86)\\Microsoft Visual Studio\\2022\\BuildTools\\VC\\Tools\\MSVC\\14.35.32215\\bin\\HostX86\\x64\\cl.exe /c /nologo /O2 /W3 /GL /DNDEBUG /MD -IC:\\Program Files (x86)\\Microsoft Visual Studio\\2022\\BuildTools\\VC\\Tools\\MSVC\\14.35.32215\\include -IC:\\Program Files (x86)\\Microsoft Visual Studio\\2022\\BuildTools\\VC\\Tools\\MSVC\\14.35.32215\\ATLMFC\\include -IC:\\Program Files (x86)\\Microsoft Visual Studio\\2022\\BuildTools\\VC\\Auxiliary\\VS\\include -IC:\\Program Files (x86)\\Windows Kits\\10\\include\\10.0.22000.0\\ucrt -IC:\\Program Files (x86)\\Windows Kits\\10\\\\include\\10.0.22000.0\\\\um -IC:\\Program Files (x86)\\Windows Kits\\10\\\\include\\10.0.22000.0\\\\shared -IC:\\Program Files (x86)\\Windows Kits\\10\\\\include\\10.0.22000.0\\\\winrt -IC:\\Program Files (x86)\\Windows Kits\\10\\\\include\\10.0.22000.0\\\\cppwinrt /EHsc /TpC:\\Users\\s10034cb\\AppData\\Local\\Temp\\tmp0oosn8ol\\temp.cxx /FoC:\\Users\\s10034cb\\AppData\\Local\\Temp\\tmp0oosn8ol\\temp.obj\n",
      "INFO: No module named 'numpy.distutils._msvccompiler' in numpy.distutils; trying from distutils\n",
      "INFO: No module named 'numpy.distutils._msvccompiler' in numpy.distutils; trying from distutils\n",
      "INFO: No module named 'numpy.distutils._msvccompiler' in numpy.distutils; trying from distutils\n",
      "INFO: No module named 'numpy.distutils._msvccompiler' in numpy.distutils; trying from distutils\n",
      "INFO: No module named 'numpy.distutils._msvccompiler' in numpy.distutils; trying from distutils\n",
      "INFO: No module named 'numpy.distutils._msvccompiler' in numpy.distutils; trying from distutils\n",
      "INFO: No module named 'numpy.distutils._msvccompiler' in numpy.distutils; trying from distutils\n",
      "INFO: No module named 'numpy.distutils._msvccompiler' in numpy.distutils; trying from distutils\n",
      "INFO: No module named 'numpy.distutils._msvccompiler' in numpy.distutils; trying from distutils\n",
      "INFO: No module named 'numpy.distutils._msvccompiler' in numpy.distutils; trying from distutils\n",
      "INFO: No module named 'numpy.distutils._msvccompiler' in numpy.distutils; trying from distutils\n",
      "INFO: No module named 'numpy.distutils._msvccompiler' in numpy.distutils; trying from distutils\n",
      "INFO: No module named 'numpy.distutils._msvccompiler' in numpy.distutils; trying from distutils\n",
      "INFO: No module named 'numpy.distutils._msvccompiler' in numpy.distutils; trying from distutils\n",
      "INFO: No module named 'numpy.distutils._msvccompiler' in numpy.distutils; trying from distutils\n",
      "INFO: No module named 'numpy.distutils._msvccompiler' in numpy.distutils; trying from distutils\n",
      "INFO: No module named 'numpy.distutils._msvccompiler' in numpy.distutils; trying from distutils\n",
      "INFO: No module named 'numpy.distutils._msvccompiler' in numpy.distutils; trying from distutils\n",
      "INFO: No module named 'numpy.distutils._msvccompiler' in numpy.distutils; trying from distutils\n",
      "INFO: No module named 'numpy.distutils._msvccompiler' in numpy.distutils; trying from distutils\n"
     ]
    }
   ],
   "source": [
    "import os\n",
    "os.environ['DEVELOPMENT'] = 'True'\n",
    "import pandas as pd\n",
    "import matplotlib.pyplot as plt\n",
    "import seaborn as sns\n",
    "import numpy as np\n",
    "import datetime\n",
    "\n",
    "from aquacrop import AquaCropModel, Soil, Crop, InitialWaterContent, IrrigationManagement, GroundWater, FieldMngt\n",
    "from aquacrop.utils import prepare_weather, get_filepath\n",
    "\n"
   ]
  },
  {
   "cell_type": "markdown",
   "metadata": {},
   "source": [
    "## Setup comparison function"
   ]
  },
  {
   "cell_type": "markdown",
   "metadata": {},
   "source": [
    "### Remove headers fn"
   ]
  },
  {
   "cell_type": "code",
   "execution_count": 2,
   "metadata": {},
   "outputs": [],
   "source": [
    "# drop rows that contain repetitions of the headers throughout the file, one per successive annual run\n",
    "def remove_headers(data):\n",
    "    start_points=data[data.isin(['Day']).any(axis=1)].index # begin row drops where 'Day' is in any col\n",
    "    end_points = [x+3 for x in start_points] # end 3 lines later\n",
    "    to_drop=[]\n",
    "    n=0\n",
    "\n",
    "    while(n < len(start_points)):\n",
    "        x=list(range(start_points[n]-1, end_points[n]-1)) # adjust drops, one line before the indexes found previously\n",
    "        to_drop.extend(x) # add all indexes to drop to a list\n",
    "        n=n+1\n",
    "\n",
    "    new_data = data.drop(index=to_drop)\n",
    "\n",
    "    return new_data"
   ]
  },
  {
   "cell_type": "markdown",
   "metadata": {},
   "source": [
    "### Extract py data fn"
   ]
  },
  {
   "cell_type": "code",
   "execution_count": 3,
   "metadata": {},
   "outputs": [],
   "source": [
    "def extract_py_data(py_model):\n",
    "    py_growth=py_model.get_crop_growth()\n",
    "    py_wflux=py_model.get_water_flux()\n",
    "    #py_wstorage=py_model.get_water_storage()\n",
    "\n",
    "    start_year=py_model.sim_start_time.split('/')[0]\n",
    "    start_month,start_day=py_model.crop.planting_date.split('/')\n",
    "\n",
    "    py_growth['datetime']=py_growth.apply(lambda x:datetime.datetime(int(x['season_counter']+int(start_year)),int(start_month),int(start_day)+1)+datetime.timedelta(int(x['dap']-1)),axis=1)\n",
    "    py_wflux['datetime']=py_wflux.apply(lambda x:datetime.datetime(int(x['season_counter']+int(start_year)),int(start_month),int(start_day)+1)+datetime.timedelta(int(x['dap']-1)),axis=1)\n",
    "\n",
    "    py_growth.drop(['dap','time_step_counter','season_counter'], inplace=True,axis=1)\n",
    "    py_wflux.drop(['dap','time_step_counter','season_counter'], inplace=True,axis=1)\n",
    "\n",
    "    py_outputs=pd.merge(py_growth, py_wflux, on='datetime')\n",
    "    py_outputs['source']='AQ-Py'\n",
    "    py_outputs.rename(columns={\n",
    "            'yield_': 'dry_yield',\n",
    "            # 'Month': 'month',\n",
    "            # 'Day': 'day',\n",
    "            },\n",
    "            inplace=True, \n",
    "            errors='raise')\n",
    "\n",
    "    return py_outputs\n",
    "\n",
    "    "
   ]
  },
  {
   "cell_type": "markdown",
   "metadata": {},
   "source": [
    "### Extract Win data fn"
   ]
  },
  {
   "cell_type": "code",
   "execution_count": 4,
   "metadata": {},
   "outputs": [],
   "source": [
    "def extract_win_data(proj_name):\n",
    "\n",
    "    file_list=['Crop','Wabal','Prof','Clim'] # ,'CompWC'\n",
    "    data=[]\n",
    "\n",
    "    for i in range(0,len(file_list)):\n",
    "        file_type=file_list[i]\n",
    "        path='C:/Users/s10034cb/Dropbox (The University of Manchester)/Manchester Postdoc/AquaCrop-windows/AquaCropV7.1/OUTP/'+proj_name+file_type+'.OUT'\n",
    "        if file_type=='Crop':\n",
    "            temp=pd.read_csv(path,delim_whitespace=True,encoding=\"ISO-8859-1\", skiprows=4, skipfooter=33)\n",
    "        elif file_type=='Wabal':\n",
    "            temp=pd.read_csv(path,delim_whitespace=True,encoding=\"ISO-8859-1\", skiprows=4, skipfooter=27)\n",
    "            temp=temp.drop(['Tr', 'Trx','Tr/Trx', 'WCTot','Rain'],axis=1)\n",
    "        elif file_type=='Prof':\n",
    "            temp=pd.read_csv(path,delim_whitespace=True,encoding=\"ISO-8859-1\", skiprows=4, skipfooter=19, index_col=False)\n",
    "            temp=temp.drop(['Z'],axis=1)\n",
    "        #elif file_type=='CompWC':\n",
    "        #    temp=pd.read_csv(path,delim_whitespace=True,encoding=\"ISO-8859-1\", skiprows=5, skipfooter=9)\n",
    "        elif file_type=='Clim':\n",
    "            temp=pd.read_csv(path,delim_whitespace=True,encoding=\"ISO-8859-1\", skiprows=4, skipfooter=15)\n",
    "        \n",
    "        #if file_type != 'CompWC':\n",
    "        temp=temp.drop([0])\n",
    "        \n",
    "        temp.rename(columns={\n",
    "            'Year': 'year',\n",
    "            'Month': 'month',\n",
    "            'Day': 'day',\n",
    "            },\n",
    "            inplace=True, \n",
    "            errors='raise'\n",
    "        )\n",
    "        temp=remove_headers(temp)\n",
    "        # add datetime column\n",
    "        temp['datetime'] = pd.to_datetime(temp[['year','month','day']])\n",
    "        # convert all cols except date-related cols to floats\n",
    "        cols=temp.columns.drop(['day','month','year','datetime'])\n",
    "        temp[cols]=temp[cols].apply(pd.to_numeric, errors='coerce')\n",
    "        temp=temp.drop(['year','month','day','DAP','Stage'], axis=1)\n",
    "        data.append(temp)\n",
    "\n",
    "    temp1=pd.merge(data[0],data[1], on='datetime')\n",
    "    temp2=pd.merge(temp1,data[2], on='datetime')\n",
    "    win_data=pd.merge(temp2,data[3], on='datetime')\n",
    "    #win_data=pd.merge(temp3,data[4], on='datetime')   \n",
    "    \n",
    "    # rename cols to align with py col names\n",
    "    win_data.rename(columns={'CC': 'canopy_cover',\n",
    "                            'Y(dry)': 'dry_yield',\n",
    "                            'Biomass': 'biomass',\n",
    "                            'HI':'harvest_index',\n",
    "                            'Z':'z_root',\n",
    "                            },\n",
    "                    inplace=True, errors='raise'\n",
    "                    )\n",
    "    win_data['harvest_index']=win_data['harvest_index']/100\n",
    "    win_data['canopy_cover']=win_data['canopy_cover']/100\n",
    "    win_data['biomass']=win_data['biomass']*100\n",
    "    \n",
    "    win_data['source']='AQ-Win'\n",
    "\n",
    "    return win_data\n",
    "    # Crop: daily crop growth: 4, 33\n",
    "\n",
    "    # Wabal: daily water balance: 4,27\n",
    "\n",
    "    # Prof: daily soil-water content in soil profile (WC) and root zone (Wr): 4,19\n",
    "\n",
    "    # CompWC: daily soil-water content at various depths: 4,9\n",
    "\n",
    "    # Clim: climate input data: 4,15"
   ]
  },
  {
   "cell_type": "markdown",
   "metadata": {},
   "source": [
    "### Create datetime"
   ]
  },
  {
   "cell_type": "code",
   "execution_count": 3,
   "metadata": {},
   "outputs": [],
   "source": [
    "def get_datetime(df, start_year, start_month, start_day):    \n",
    "    df['year']=df['season_counter'].astype(int)+int(start_year)\n",
    "    df['combined']=df['year'].astype(str) + ' ' + str(start_month) + ' ' + str(start_day)\n",
    "    df['start_date']=pd.to_datetime(df['combined'], format='%Y %m %d')\n",
    "    df['dap-1']=df['dap']-1\n",
    "    df['time_added']=pd.to_timedelta(df['dap-1'], 'd')\n",
    "    df['datetime']=df['start_date'] + df['time_added']\n",
    "    # df.drop(['combined','start_date','start_doy','doy_dap','time_added'],axis=1, inplace=True)\n",
    "    df=df[(df['dap-1'] >= 0)] # dap starts at 0, anything below 0 is NA\n",
    "    return(df)"
   ]
  },
  {
   "cell_type": "markdown",
   "metadata": {},
   "source": [
    "# Run comparison fn"
   ]
  },
  {
   "cell_type": "code",
   "execution_count": 4,
   "metadata": {},
   "outputs": [],
   "source": [
    "import plotly.express as px\n",
    "import plotly.graph_objects as go\n",
    "from plotly.subplots import make_subplots"
   ]
  },
  {
   "cell_type": "code",
   "execution_count": 51,
   "metadata": {},
   "outputs": [],
   "source": [
    "def run_comparison(win_filename, py_model, target_year=None):\n",
    "\n",
    "    # Get Python daily output\n",
    "    py_daily_outputs = py_model.get_crop_growth()\n",
    "    # py_daily_outputs.rename(columns={'biomass':'biomass_old','canopy_cover':'canopy_cover_old'}, inplace=True) # 'biomass':'biomass_old',\n",
    "    print(max(py_daily_outputs['biomass']))\n",
    "    py_daily_outputs['biomass']=py_daily_outputs['biomass']/100\n",
    "    print(max(py_daily_outputs['biomass']))\n",
    "    # print(py_daily_outputs.columns)\n",
    "    py_daily_outputs['canopy_cover']=py_daily_outputs['canopy_cover']*100\n",
    "    # PY GROWTH COLS = ['time_step_counter', 'season_counter', 'dap', 'gdd', 'gdd_cum',\n",
    "    #    'z_root', 'canopy_cover', 'canopy_cover_ns', 'biomass', 'biomass_ns',\n",
    "    #    'harvest_index', 'harvest_index_adj', 'DryYield', 'FreshYield',\n",
    "    #    'YieldPot']\n",
    "\n",
    "    py_daily_water=py_model.get_water_flux()\n",
    "    # PY WATER COLS = ['time_step_counter', 'season_counter', 'dap', 'Wr', 'z_gw',\n",
    "    #    'surface_storage', 'IrrDay', 'Infl', 'Runoff', 'DeepPerc', 'CR', 'GwIn',\n",
    "    #    'Es', 'EsPot', 'Tr', 'TrPot']\n",
    "\n",
    "    # py_daily_storage=py_model.get_water_storage()\n",
    "    # PY STORAGE COLS = ['time_step_counter', 'growing_season', 'dap', 'th1', 'th2', 'th3',\n",
    "    #    'th4', 'th5', 'th6', 'th7', 'th8', 'th9', 'th10', 'th11', 'th12']\n",
    "\n",
    "    start_year=int(py_model.sim_start_time.split('/')[0])\n",
    "    start_month,start_day=py_model.crop.planting_date.split('/')\n",
    "\n",
    "    py_daily_outputs=get_datetime(py_daily_outputs, start_year,start_month,start_day)\n",
    "\n",
    "    py_daily_water=get_datetime(py_daily_water, start_year,start_month,start_day)\n",
    "\n",
    "    # py_daily_storage=get_datetime(py_daily_storage, start_year,start_month,start_day)\n",
    "    \n",
    "    # py_daily_outputs.to_csv('py_daily_outputs.csv', index = False, encoding='utf-8')\n",
    "    # py_daily_water.to_csv('py_daily_water.csv', index = False, encoding='utf-8')\n",
    "    py_outputs=pd.merge(py_daily_outputs, py_daily_water, on='datetime')\n",
    "    # py_outputs=pd.merge(py_outputs, py_daily_storage,on='datetime')\n",
    "\n",
    "    py_outputs['source']='AQ-Py'\n",
    "    py_outputs.to_csv('py_outputs.csv', index = False, encoding='utf-8')\n",
    "    # print(py_outputs.columns)\n",
    "    # print(py_outputs.head())\n",
    "\n",
    "    # Get Python annual outputs\n",
    "    py_annual_outputs = py_model._outputs.final_stats.round(3)\n",
    "    py_annual_outputs.columns = [\"Season\",\"CropType\",\"datetime\",\"HarvestDate (Step)\",\"dry_yield\", \"fresh_yield\",\"yield_potential\", \"Seasonal irrigation (mm)\"]\n",
    "    # py_annual_outputs.columns = [\"Season\",\"CropType\",\"datetime\",\"HarvestDate (Step)\",\"dry_yield\", \"Seasonal irrigation (mm)\"]\n",
    "    # py_annual_outputs['date'] = pd.to_datetime(py_annual_outputs['datetime'],format='%Y%m%d')\n",
    "    # py_annual_outputs['year'] = pd.DatetimeIndex(py_annual_outputs['date']).year\n",
    "    # py_annual_outputs['year'] = py_annual_outputs['year'] - 1\n",
    "    # py_annual_outputs['year'] = py_annual_outputs['year'].astype(str)\n",
    "    py_annual_outputs['source']='Py'\n",
    "\n",
    "    # Get windows daily outputs (CROP)\n",
    "    win_daily_outputs = pd.read_table('C:/Users/s10034cb/Dropbox (The University of Manchester)/Manchester Postdoc/AquaCrop-windows/AquaCropV7.1/OUTP/'+win_filename+'Crop.OUT', \n",
    "                            skiprows=4, skipfooter=33,  delim_whitespace=True,encoding=\"latin1\")\n",
    "    # win_daily_outputs = pd.read_table('C:/Users/s10034cb/Dropbox (The University of Manchester)/Manchester Postdoc/AquaCrop-windows/AquaCropV60/AquaCropV60/OUTP/'+win_filename+'Crop.OUT', \n",
    "    #                         skiprows=4, skipfooter=33,  delim_whitespace=True,encoding=\"latin1\")\n",
    "    # WIN DAILY CROP COLS = ['Day', 'Month', 'Year', 'DAP', 'Stage', 'GD', 'Z', 'StExp', 'StSto',\n",
    "    #    'StSen', 'StSalt', 'StWeed', 'CC', 'CCw', 'StTr', 'Kc(Tr)', 'Trx', 'Tr',\n",
    "    #    'TrW', 'Tr/Trx', 'WP', 'Biomass', 'HI', 'Y(dry)', 'Y(fresh)',\n",
    "    #    'Brelative', 'WPet', 'Bin', 'Bout']\n",
    "    win_daily_outputs=win_daily_outputs.drop([0])\n",
    "    win_daily_outputs.rename(columns={\n",
    "        'Year': 'year',\n",
    "        'Month': 'month',\n",
    "        'Day': 'day',\n",
    "        },\n",
    "        inplace=True, \n",
    "        errors='raise')\n",
    "    win_daily_outputs=remove_headers(win_daily_outputs)\n",
    "\n",
    "    # Get windows daily water outputs (WABAL)\n",
    "    win_daily_water = pd.read_table('C:/Users/s10034cb/Dropbox (The University of Manchester)/Manchester Postdoc/AquaCrop-windows/AquaCropV7.1/OUTP/'+win_filename+'WABAL.OUT', \n",
    "                            skiprows=4, skipfooter=27,  delim_whitespace=True,encoding=\"latin1\")\n",
    "    # win_daily_water = pd.read_table('C:/Users/s10034cb/Dropbox (The University of Manchester)/Manchester Postdoc/AquaCrop-windows/AquaCropV60/AquaCropV60/OUTP/'+win_filename+'WABAL.OUT', \n",
    "    #                         skiprows=4, skipfooter=27,  delim_whitespace=True,encoding=\"latin1\")\n",
    "     # WIN DAILY WABAL COLS = ['Day', 'Month', 'Year', 'DAP', 'Stage', 'WCTot', 'Rain', 'Irri', 'Surf',\n",
    "    #    'Infilt', 'RO', 'Drain', 'CR', 'Zgwt', 'Ex', 'E', 'E/Ex', 'Trx', 'Tr',\n",
    "    #    'Tr/Trx', 'ETx', 'ET', 'ET/ETx']\n",
    "    win_daily_water=win_daily_water.drop([0])\n",
    "    win_daily_water.rename(columns={\n",
    "        'Year': 'year',\n",
    "        'Month': 'month',\n",
    "        'Day': 'day',\n",
    "        },\n",
    "        inplace=True, \n",
    "        errors='raise')\n",
    "    win_daily_water=remove_headers(win_daily_water)\n",
    "    win_daily_water.drop(['Tr'],axis=1,inplace=True) # remove Tr because it's a duplicate of win_daily_outputs version\n",
    "\n",
    "    def line_fixer(x):\n",
    "        if not x[0].isnumeric() and x[-1].isnumeric():\n",
    "            return x[1:] \n",
    "        \n",
    "        if not x[-1].isnumeric() and x[0].isnumeric():\n",
    "            return x[:-1]\n",
    "        \n",
    "        return None\n",
    "\n",
    "    # Get windows daily soil profile outputs (Prof)\n",
    "    win_daily_profile = pd.read_csv('C:/Users/s10034cb/Dropbox (The University of Manchester)/Manchester Postdoc/AquaCrop-windows/AquaCropV7.1/OUTP/'+win_filename+'Prof.OUT', \n",
    "                            skiprows=4, skipfooter=20,  delim_whitespace=True, encoding=\"latin1\", on_bad_lines=line_fixer, engine='python')\n",
    "    # win_daily_profile = pd.read_csv('C:/Users/s10034cb/Dropbox (The University of Manchester)/Manchester Postdoc/AquaCrop-windows/AquaCropV60/AquaCropV60/OUTP/'+win_filename+'Prof.OUT', \n",
    "    #                         skiprows=4, skipfooter=20,  delim_whitespace=True, encoding=\"latin1\", on_bad_lines=line_fixer, engine='python')\n",
    "     # WIN DAILY PROFILE COLS = ['Day', 'Month', 'Year', 'DAP', 'Stage', 'WCTot', 'Wr(Zx)', 'Z', 'Wr',\n",
    "    #    'Wr(SAT)', 'Wr(FC)', 'Wr(exp)', 'Wr(sto)', 'Wr(sen)', 'Wr(PWP)']\n",
    "    win_daily_profile=win_daily_profile.drop([0])\n",
    "    win_daily_profile.rename(columns={\n",
    "        'Year': 'year',\n",
    "        'Month': 'month',\n",
    "        'Day': 'day',\n",
    "        },\n",
    "        inplace=True, \n",
    "        errors='raise')\n",
    "    win_daily_profile=remove_headers(win_daily_profile)\n",
    "    # win_daily_profile.to_csv('win_daily_profile.csv', index = False, encoding='utf-8')\n",
    "    # print(win_daily_water.columns)\n",
    "    win_daily_profile.drop(['Z'],axis=1,inplace=True) # remove Z because it's a duplicate of win_daily_outputs version\n",
    "\n",
    "    # Get windows daily soil water storage\n",
    "    # win_daily_storage = pd.read_table('C:/Users/s10034cb/Dropbox (The University of Manchester)/Manchester Postdoc/AquaCrop-windows/AquaCropV7.1/OUTP/'+win_filename+'WC.OUT', \n",
    "    #                         skiprows=4, skipfooter=9,  delim_whitespace=True,encoding=\"latin1\")\n",
    "    # win_daily_storage = pd.read_table('C:/Users/s10034cb/Dropbox (The University of Manchester)/Manchester Postdoc/AquaCrop-windows/AquaCropV60/AquaCropV60/OUTP/'+win_filename+'WC.OUT', \n",
    "    #                         skiprows=4, skipfooter=9,  delim_whitespace=True,encoding=\"latin1\")\n",
    "    # add datetime columns\n",
    "    win_daily_outputs['datetime'] = pd.to_datetime(win_daily_outputs[['year','month','day']])\n",
    "    win_daily_water['datetime'] = pd.to_datetime(win_daily_water[['year','month','day']])\n",
    "    win_daily_profile['datetime'] = pd.to_datetime(win_daily_profile[['year','month','day']])\n",
    "    # win_daily_storage['datetime'] = pd.to_datetime(win_daily_storage[['year','month','day']])\n",
    "\n",
    "    # convert all cols except date-related cols to floats\n",
    "    cols=win_daily_outputs.columns.drop(['day','month','year','datetime'])\n",
    "    cols_water=win_daily_water.columns.drop(['day','month','year','datetime'])\n",
    "    cols_profile=win_daily_profile.columns.drop(['day','month','year','datetime'])\n",
    "    # cols_storage=win_daily_storage.columns.drop(['day','month','year','datetime'])\n",
    "\n",
    "    win_daily_outputs[cols]=win_daily_outputs[cols].apply(pd.to_numeric, errors='coerce')\n",
    "    win_daily_water[cols_water]=win_daily_water[cols_water].apply(pd.to_numeric, errors='coerce')\n",
    "    win_daily_profile[cols_profile]=win_daily_profile[cols_profile].apply(pd.to_numeric, errors='coerce')\n",
    "    # win_daily_storage[cols_storage]=win_daily_storage[cols_storage].apply(pd.to_numeric, errors='coerce')\n",
    "\n",
    "    win_temp=pd.merge(win_daily_outputs,win_daily_water,on='datetime')\n",
    "    # win_temp2=pd.merge()\n",
    "    win_outputs=pd.merge(win_temp,win_daily_profile, on='datetime')\n",
    "    # rename cols to align with py col names\n",
    "    win_outputs.rename(columns={'CC': 'canopy_cover',\n",
    "                                'Y(dry)': 'Yield',\n",
    "                                # 'YieldPart' : 'Yield',\n",
    "                                'Biomass': 'biomass',\n",
    "                                'HI':'harvest_index',\n",
    "                                'Zgwt':'z_gw',\n",
    "                                'Infilt':'Infl',\n",
    "                                'Z':'z_root',\n",
    "                                'Irri':'IrrDay',\n",
    "                                'E':'Es',\n",
    "                                'Surf':'surface_storage'\n",
    "                                },\n",
    "                    inplace=True, errors='raise')\n",
    "    win_outputs['harvest_index']=win_outputs['harvest_index']/100\n",
    "    win_outputs['source']='AQ-Win'\n",
    "    win_outputs.to_csv('win_outputs.csv', index = False, encoding='utf-8')\n",
    "\n",
    "    # Get windows annual outputs\n",
    "    # V7 READING\n",
    "    win_annual_outputs=pd.read_csv('C:/Users/s10034cb/Dropbox (The University of Manchester)/Manchester Postdoc/AquaCrop-windows/AquaCropV7.1/OUTP/'+win_filename+'Harvest.OUT', \n",
    "                                skiprows=4, skipfooter=8,  delim_whitespace=True,encoding=\"ISO-8859-1\")\n",
    "    win_annual_outputs=win_annual_outputs.drop([0])\n",
    "    win_annual_outputs=remove_headers(win_annual_outputs)\n",
    "    win_annual_outputs = win_annual_outputs.iloc[: , :-5] # remove 5 blank cols due to reading error\n",
    "    win_annual_outputs['datetime']=pd.to_datetime(win_annual_outputs[['Year','Month','Day']])\n",
    "    win_annual_outputs.columns=['Nr','Day','Month','Year','biomass','dry_yield','fresh-yield', 'datetime']\n",
    "    win_annual_outputs=win_annual_outputs[win_annual_outputs['Nr'] != '0'] # remove blank rows\n",
    "    win_annual_outputs['source']='Win'\n",
    "\n",
    "    # V6 READING\n",
    "    # win_annual_outputs=pd.read_csv('C:/Users/s10034cb/Dropbox (The University of Manchester)/Manchester Postdoc/AquaCrop-windows/AquaCropV60/AquaCropV60/OUTP/'+win_filename+'Run.OUT', \n",
    "    #                             skiprows=3, skipfooter=40,  delim_whitespace=True,encoding=\"ISO-8859-1\")\n",
    "    # win_annual_outputs=win_annual_outputs.drop([0])\n",
    "    # win_annual_outputs=remove_headers(win_annual_outputs)\n",
    "    # win_annual_outputs = win_annual_outputs.iloc[: , :-5] # remove 5 blank cols due to reading error\n",
    "    # win_annual_outputs.rename(columns={\n",
    "    #     'Year1': 'year',\n",
    "    #     'Month1': 'month',\n",
    "    #     'Day1': 'day',\n",
    "    #     'Yield' : 'dry_yield',\n",
    "    #     },\n",
    "    #     inplace=True, \n",
    "    #     errors='raise')\n",
    "    # win_annual_outputs['datetime']=pd.to_datetime(win_annual_outputs[['year','month','day']])\n",
    "    # print(win_annual_outputs.head())\n",
    "    # win_annual_outputs.columns=['Nr','Day','Month','Year','biomass','dry_yield','fresh-yield', 'datetime']\n",
    "    # win_annual_outputs=win_annual_outputs[win_annual_outputs['Nr'] != '0'] # remove blank rows\n",
    "    # win_annual_outputs['source']='Win'\n",
    " \n",
    "    # Combine annual outputs\n",
    "    combined_annual=pd.concat([win_annual_outputs, py_annual_outputs])\n",
    "    combined_annual['dry_yield']=combined_annual['dry_yield'].astype(float)\n",
    "    combined_annual.to_csv('C:/Users/s10034cb/Dropbox (The University of Manchester)/Manchester Postdoc/aquacrop/outputs/' + win_filename + '_annual_outputs.csv', index = False, encoding='utf-8')\n",
    "    # win_outputs.to_csv('C:/Users/s10034cb/Dropbox (The University of Manchester)/Manchester Postdoc/aquacrop/outputs/' + win_filename + 'win_daily_outputs.csv', index = False, encoding='utf-8')\n",
    "    # combined_annual.drop(['datetime','day','month'],axis=1,inplace=True)\n",
    "\n",
    "    # custom year\n",
    "    if target_year:\n",
    "        date_1= str(target_year-1) + '-05-01'\n",
    "        date_2= str(target_year) + '-04-30'\n",
    "\n",
    "    # manipulating for specific plot\n",
    "    temp_a = py_outputs[['datetime', 'Wr']]\n",
    "    temp_a.rename(columns={'Wr' : 'Py_Wr'}, inplace=True)\n",
    "    temp_b = win_outputs[['datetime', 'Wr']]\n",
    "    temp_b.rename(columns={'Wr' : 'Win_Wr'}, inplace=True)\n",
    "    temp_c = pd.merge(temp_a, temp_b, on='datetime', how='left')\n",
    "    diff_series=pd.Series(temp_c['Py_Wr'].sub(temp_c['Win_Wr']), name='Wr_diff')\n",
    "    temp_d = pd.concat([temp_c['datetime'], diff_series.to_frame()], axis=1)\n",
    "    if target_year:\n",
    "        temp_d=temp_d[(temp_d['datetime'] < date_2) & (temp_d['datetime'] > date_1)]\n",
    "        temp_e=win_outputs[(win_outputs['datetime'] < date_2) & (win_outputs['datetime'] > date_1)]\n",
    "        # sns.lineplot(data=temp_e, x='datetime', y='CR')\n",
    "    # sns.lineplot(data=temp_d, x='datetime', y='Wr_diff')\n",
    "    \n",
    "    # plt.show()\n",
    "\n",
    "    # Combine daily outputs\n",
    "    both_daily_outputs=pd.concat([win_outputs, py_outputs])\n",
    "    both_daily_outputs.to_csv('both_daily_outputs.csv', index = False, encoding='utf-8')\n",
    "    if target_year:\n",
    "        both_daily_outputs=both_daily_outputs[(both_daily_outputs['datetime'] < date_2) & (both_daily_outputs['datetime'] > date_1)]\n",
    "\n",
    "    fig1, ax =plt.subplots(ncols=2, nrows=2, figsize=(10,8))\n",
    "\n",
    "\n",
    "    sns.lineplot(data=both_daily_outputs, x='datetime',y='harvest_index', hue='source', ax=ax[0,0]).get_legend().remove() # , ax=ax[0,0] , dashes=dash_style, style='source'\n",
    "    sns.lineplot(data=combined_annual, x='datetime', y='dry_yield', hue='source', ax=ax[1,1]) # .reset_index()\n",
    "    sns.lineplot(data=both_daily_outputs, x='datetime',y='canopy_cover', hue='source', ax=ax[0,1]).get_legend().remove() # , ax=ax[0,0]\n",
    "    sns.lineplot(data=both_daily_outputs, x='datetime',y='biomass', hue='source', ax=ax[1,0]).get_legend().remove()#, ax=ax[1,0]\n",
    "    plt.show()\n",
    "    \n",
    "    fig2,ax2=plt.subplots(ncols=2,nrows=5,figsize=(10,8))\n",
    "    sns.lineplot(data=both_daily_outputs, x='datetime',y='IrrDay', hue='source', ax=ax2[0,0]).get_legend().remove()#, ax=ax[0,1]\n",
    "    sns.lineplot(data=both_daily_outputs, x='datetime',y='Es', hue='source', ax=ax2[0,1]).get_legend().remove() # , ax=ax[0,0]\n",
    "    sns.lineplot(data=both_daily_outputs, x='datetime',y='Tr', hue='source', ax=ax2[1,1]).get_legend().remove()#, ax=ax[1,1]\n",
    "    sns.lineplot(data=both_daily_outputs, x='datetime',y='z_gw', hue='source', ax=ax2[1,0]).get_legend().remove()\n",
    "    sns.lineplot(data=both_daily_outputs, x='datetime',y='CR', hue='source', ax=ax2[2,0]).get_legend().remove()\n",
    "    sns.lineplot(data=both_daily_outputs, x='datetime',y='Infl', hue='source', ax=ax2[2,1]).get_legend().remove()\n",
    "    sns.lineplot(data=both_daily_outputs, x='datetime',y='Wr', hue='source', ax=ax2[3,0]).get_legend().remove()\n",
    "    sns.lineplot(data=both_daily_outputs, x='datetime',y='z_root', hue='source', ax=ax2[3,1]).get_legend().remove()\n",
    "    sns.lineplot(data=both_daily_outputs, x='datetime',y='surface_storage', hue='source', ax=ax2[4,0]).get_legend().remove()\n",
    "    plt.show()\n",
    "\n",
    "    #save all_daily_outputs\n",
    "    python_output(py_model, win_filename)"
   ]
  },
  {
   "cell_type": "markdown",
   "metadata": {},
   "source": [
    "## Save output fn"
   ]
  },
  {
   "cell_type": "code",
   "execution_count": 6,
   "metadata": {},
   "outputs": [],
   "source": [
    "def python_output(model, name):\n",
    "    # get model outputs\n",
    "    model_growth = model.get_crop_growth()\n",
    "    model_water = model.get_water_flux()\n",
    "    model_storage = model.get_water_storage()\n",
    "\n",
    "    # # get save path\n",
    "    base_path = 'C:/Users/s10034cb/Dropbox (The University of Manchester)/Manchester Postdoc/aquacrop/outputs/'\n",
    "    sp_path = base_path + name\n",
    "    growth_path = sp_path + '_growth.csv'\n",
    "    water_path = sp_path + '_water.csv'\n",
    "    storage_path = sp_path + '_storage.csv'\n",
    "\n",
    "    # # save outputs\n",
    "    model_growth.to_csv(growth_path, index = False, encoding='utf-8')\n",
    "    model_water.to_csv(water_path, index = False, encoding='utf-8')\n",
    "    model_storage.to_csv(storage_path, index = False, encoding='utf-8')\n",
    "\n",
    "    # # get start year and date\n",
    "    start_year=int(model.sim_start_time.split('/')[0])\n",
    "    start_month,start_day=model.crop.planting_date.split('/')\n",
    "\n",
    "    # # save starting date info\n",
    "    start_info = pd.DataFrame(data = {'date_info' : [str(start_day) + '-' + str(start_month) + '-' + str(start_year)]})\n",
    "    # print(start_info)\n",
    "    start_info.to_csv(sp_path + '_date.csv', index = False, encoding='utf-8')"
   ]
  },
  {
   "cell_type": "markdown",
   "metadata": {},
   "source": [
    "# Exercise 7"
   ]
  },
  {
   "cell_type": "markdown",
   "metadata": {},
   "source": [
    "## Exercise 7.1 with Tunis Local soil"
   ]
  },
  {
   "cell_type": "code",
   "execution_count": 52,
   "metadata": {},
   "outputs": [
    {
     "data": {
      "text/plain": [
       "True"
      ]
     },
     "execution_count": 52,
     "metadata": {},
     "output_type": "execute_result"
    }
   ],
   "source": [
    "# Tunis climate\n",
    "filepath=get_filepath('tunis_climate.txt')\n",
    "tunis_weather = prepare_weather(filepath)\n",
    "\n",
    "# Local Tunis soil\n",
    "tunis_soil = Soil(soil_type='ac_TunisLocal')\n",
    "\n",
    "# crops\n",
    "wheat = Crop('WheatGDD', planting_date='10/15')\n",
    "\n",
    "# IWC\n",
    "wet_dry = InitialWaterContent(wc_type='Num',\n",
    "                              method='Depth',\n",
    "                              depth_layer=[0.3,0.9],\n",
    "                              value=[0.3,0.15])\n",
    "\n",
    "# irr management\n",
    "irr_mngt = IrrigationManagement(irrigation_method=0)\n",
    "\n",
    "model = AquaCropModel(sim_start_time=f'{1979}/10/15',\n",
    "                      sim_end_time=f'{2002}/03/31',\n",
    "                      weather_df=tunis_weather,\n",
    "                      soil=tunis_soil,\n",
    "                      crop=wheat,\n",
    "                      irrigation_management=irr_mngt,\n",
    "                      initial_water_content=wet_dry,\n",
    "                      )\n",
    "model.run_model(till_termination=True)"
   ]
  },
  {
   "cell_type": "code",
   "execution_count": 8,
   "metadata": {},
   "outputs": [],
   "source": [
    "# python_output(model, 'Tun_WW_LocalSoil')"
   ]
  },
  {
   "cell_type": "code",
   "execution_count": 8,
   "metadata": {},
   "outputs": [
    {
     "name": "stdout",
     "output_type": "stream",
     "text": [
      "1904.7095936377193\n",
      "19.047095936377193\n"
     ]
    },
    {
     "name": "stderr",
     "output_type": "stream",
     "text": [
      "C:\\Users\\s10034cb\\AppData\\Local\\Temp\\ipykernel_6868\\3743229160.py:55: ParserWarning: Falling back to the 'python' engine because the 'c' engine does not support skipfooter; you can avoid this warning by specifying engine='python'.\n",
      "  win_daily_outputs = pd.read_table('C:/Users/s10034cb/Dropbox (The University of Manchester)/Manchester Postdoc/AquaCrop-windows/AquaCropV7.1/OUTP/'+win_filename+'Crop.OUT',\n",
      "C:\\Users\\s10034cb\\AppData\\Local\\Temp\\ipykernel_6868\\3743229160.py:74: ParserWarning: Falling back to the 'python' engine because the 'c' engine does not support skipfooter; you can avoid this warning by specifying engine='python'.\n",
      "  win_daily_water = pd.read_table('C:/Users/s10034cb/Dropbox (The University of Manchester)/Manchester Postdoc/AquaCrop-windows/AquaCropV7.1/OUTP/'+win_filename+'WABAL.OUT',\n",
      "C:\\Users\\s10034cb\\AppData\\Local\\Temp\\ipykernel_6868\\3743229160.py:166: ParserWarning: Falling back to the 'python' engine because the 'c' engine does not support skipfooter; you can avoid this warning by specifying engine='python'.\n",
      "  win_annual_outputs=pd.read_csv('C:/Users/s10034cb/Dropbox (The University of Manchester)/Manchester Postdoc/AquaCrop-windows/AquaCropV7.1/OUTP/'+win_filename+'Harvest.OUT',\n",
      "C:\\Users\\s10034cb\\AppData\\Local\\Temp\\ipykernel_6868\\3743229160.py:210: SettingWithCopyWarning: \n",
      "A value is trying to be set on a copy of a slice from a DataFrame\n",
      "\n",
      "See the caveats in the documentation: https://pandas.pydata.org/pandas-docs/stable/user_guide/indexing.html#returning-a-view-versus-a-copy\n",
      "  temp_a.rename(columns={'Wr' : 'Py_Wr'}, inplace=True)\n",
      "C:\\Users\\s10034cb\\AppData\\Local\\Temp\\ipykernel_6868\\3743229160.py:212: SettingWithCopyWarning: \n",
      "A value is trying to be set on a copy of a slice from a DataFrame\n",
      "\n",
      "See the caveats in the documentation: https://pandas.pydata.org/pandas-docs/stable/user_guide/indexing.html#returning-a-view-versus-a-copy\n",
      "  temp_b.rename(columns={'Wr' : 'Win_Wr'}, inplace=True)\n"
     ]
    }
   ],
   "source": [
    "run_comparison('Tun_WW_LocalSoil3',model)"
   ]
  },
  {
   "cell_type": "markdown",
   "metadata": {},
   "source": [
    "### Exercise 7.1 with Sandy Loam"
   ]
  },
  {
   "cell_type": "code",
   "execution_count": 10,
   "metadata": {},
   "outputs": [
    {
     "name": "stdout",
     "output_type": "stream",
     "text": [
      "1922.0250874810938\n",
      "19.220250874810937\n"
     ]
    },
    {
     "name": "stderr",
     "output_type": "stream",
     "text": [
      "C:\\Users\\s10034cb\\AppData\\Local\\Temp\\ipykernel_6868\\341318044.py:55: ParserWarning: Falling back to the 'python' engine because the 'c' engine does not support skipfooter; you can avoid this warning by specifying engine='python'.\n",
      "  win_daily_outputs = pd.read_table('C:/Users/s10034cb/Dropbox (The University of Manchester)/Manchester Postdoc/AquaCrop-windows/AquaCropV7.1/OUTP/'+win_filename+'Crop.OUT',\n",
      "C:\\Users\\s10034cb\\AppData\\Local\\Temp\\ipykernel_6868\\341318044.py:74: ParserWarning: Falling back to the 'python' engine because the 'c' engine does not support skipfooter; you can avoid this warning by specifying engine='python'.\n",
      "  win_daily_water = pd.read_table('C:/Users/s10034cb/Dropbox (The University of Manchester)/Manchester Postdoc/AquaCrop-windows/AquaCropV7.1/OUTP/'+win_filename+'WABAL.OUT',\n",
      "C:\\Users\\s10034cb\\AppData\\Local\\Temp\\ipykernel_6868\\341318044.py:166: ParserWarning: Falling back to the 'python' engine because the 'c' engine does not support skipfooter; you can avoid this warning by specifying engine='python'.\n",
      "  win_annual_outputs=pd.read_csv('C:/Users/s10034cb/Dropbox (The University of Manchester)/Manchester Postdoc/AquaCrop-windows/AquaCropV7.1/OUTP/'+win_filename+'Harvest.OUT',\n",
      "C:\\Users\\s10034cb\\AppData\\Local\\Temp\\ipykernel_6868\\341318044.py:210: SettingWithCopyWarning: \n",
      "A value is trying to be set on a copy of a slice from a DataFrame\n",
      "\n",
      "See the caveats in the documentation: https://pandas.pydata.org/pandas-docs/stable/user_guide/indexing.html#returning-a-view-versus-a-copy\n",
      "  temp_a.rename(columns={'Wr' : 'Py_Wr'}, inplace=True)\n",
      "C:\\Users\\s10034cb\\AppData\\Local\\Temp\\ipykernel_6868\\341318044.py:212: SettingWithCopyWarning: \n",
      "A value is trying to be set on a copy of a slice from a DataFrame\n",
      "\n",
      "See the caveats in the documentation: https://pandas.pydata.org/pandas-docs/stable/user_guide/indexing.html#returning-a-view-versus-a-copy\n",
      "  temp_b.rename(columns={'Wr' : 'Win_Wr'}, inplace=True)\n"
     ]
    }
   ],
   "source": [
    "# Sandy loam soil\n",
    "sandy_loam = Soil(soil_type='SandyLoam')\n",
    "\n",
    "model = AquaCropModel(sim_start_time=f'{1979}/10/15',\n",
    "                      sim_end_time=f'{2002}/03/30',\n",
    "                      weather_df=tunis_weather,\n",
    "                      soil=sandy_loam,\n",
    "                      crop=wheat,\n",
    "                      irrigation_management=irr_mngt,\n",
    "                      initial_water_content=wet_dry,\n",
    "                      )\n",
    "model.run_model(till_termination=True)\n",
    "\n",
    "# python_output(model, 'Tun_WW_SLSoil')\n",
    "run_comparison('Tun_WW_SLSoil3', model)"
   ]
  },
  {
   "cell_type": "markdown",
   "metadata": {},
   "source": [
    "## Exercise 7.2 Local wheat variety"
   ]
  },
  {
   "cell_type": "code",
   "execution_count": 49,
   "metadata": {},
   "outputs": [
    {
     "name": "stdout",
     "output_type": "stream",
     "text": [
      "2301.831093377243\n",
      "23.018310933772433\n"
     ]
    },
    {
     "name": "stderr",
     "output_type": "stream",
     "text": [
      "C:\\Users\\s10034cb\\AppData\\Local\\Temp\\ipykernel_6868\\341318044.py:55: ParserWarning: Falling back to the 'python' engine because the 'c' engine does not support skipfooter; you can avoid this warning by specifying engine='python'.\n",
      "  win_daily_outputs = pd.read_table('C:/Users/s10034cb/Dropbox (The University of Manchester)/Manchester Postdoc/AquaCrop-windows/AquaCropV7.1/OUTP/'+win_filename+'Crop.OUT',\n",
      "C:\\Users\\s10034cb\\AppData\\Local\\Temp\\ipykernel_6868\\341318044.py:74: ParserWarning: Falling back to the 'python' engine because the 'c' engine does not support skipfooter; you can avoid this warning by specifying engine='python'.\n",
      "  win_daily_water = pd.read_table('C:/Users/s10034cb/Dropbox (The University of Manchester)/Manchester Postdoc/AquaCrop-windows/AquaCropV7.1/OUTP/'+win_filename+'WABAL.OUT',\n",
      "C:\\Users\\s10034cb\\AppData\\Local\\Temp\\ipykernel_6868\\341318044.py:166: ParserWarning: Falling back to the 'python' engine because the 'c' engine does not support skipfooter; you can avoid this warning by specifying engine='python'.\n",
      "  win_annual_outputs=pd.read_csv('C:/Users/s10034cb/Dropbox (The University of Manchester)/Manchester Postdoc/AquaCrop-windows/AquaCropV7.1/OUTP/'+win_filename+'Harvest.OUT',\n",
      "C:\\Users\\s10034cb\\AppData\\Local\\Temp\\ipykernel_6868\\341318044.py:210: SettingWithCopyWarning: \n",
      "A value is trying to be set on a copy of a slice from a DataFrame\n",
      "\n",
      "See the caveats in the documentation: https://pandas.pydata.org/pandas-docs/stable/user_guide/indexing.html#returning-a-view-versus-a-copy\n",
      "  temp_a.rename(columns={'Wr' : 'Py_Wr'}, inplace=True)\n",
      "C:\\Users\\s10034cb\\AppData\\Local\\Temp\\ipykernel_6868\\341318044.py:212: SettingWithCopyWarning: \n",
      "A value is trying to be set on a copy of a slice from a DataFrame\n",
      "\n",
      "See the caveats in the documentation: https://pandas.pydata.org/pandas-docs/stable/user_guide/indexing.html#returning-a-view-versus-a-copy\n",
      "  temp_b.rename(columns={'Wr' : 'Win_Wr'}, inplace=True)\n"
     ]
    }
   ],
   "source": [
    "# Local wheat variety\n",
    "local_wheat=Crop('WheatLongGDD', planting_date= '10/15')\n",
    "\n",
    "model = AquaCropModel(sim_start_time=f'{1979}/10/15',\n",
    "                      sim_end_time=f'{2002}/05/31',\n",
    "                      weather_df=tunis_weather,\n",
    "                      soil=sandy_loam,\n",
    "                      crop=local_wheat,\n",
    "                      irrigation_management=irr_mngt,\n",
    "                      initial_water_content=wet_dry,\n",
    "                      )\n",
    "model.run_model(till_termination=True)\n",
    "\n",
    "python_output(model, 'Tun_WW_LongVar')\n",
    "run_comparison('Tun_WW_LongVar2', model)"
   ]
  },
  {
   "cell_type": "code",
   "execution_count": 50,
   "metadata": {},
   "outputs": [
    {
     "data": {
      "text/html": [
       "<div>\n",
       "<style scoped>\n",
       "    .dataframe tbody tr th:only-of-type {\n",
       "        vertical-align: middle;\n",
       "    }\n",
       "\n",
       "    .dataframe tbody tr th {\n",
       "        vertical-align: top;\n",
       "    }\n",
       "\n",
       "    .dataframe thead th {\n",
       "        text-align: right;\n",
       "    }\n",
       "</style>\n",
       "<table border=\"1\" class=\"dataframe\">\n",
       "  <thead>\n",
       "    <tr style=\"text-align: right;\">\n",
       "      <th></th>\n",
       "      <th>Season</th>\n",
       "      <th>crop Type</th>\n",
       "      <th>Harvest Date (YYYY/MM/DD)</th>\n",
       "      <th>Harvest Date (Step)</th>\n",
       "      <th>Dry yield (tonne/ha)</th>\n",
       "      <th>Fresh yield (tonne/ha)</th>\n",
       "      <th>Yield potential (tonne/ha)</th>\n",
       "      <th>Seasonal irrigation (mm)</th>\n",
       "    </tr>\n",
       "  </thead>\n",
       "  <tbody>\n",
       "    <tr>\n",
       "      <th>0</th>\n",
       "      <td>0</td>\n",
       "      <td>WheatLongGDD</td>\n",
       "      <td>1980-06-12</td>\n",
       "      <td>240</td>\n",
       "      <td>9.482092</td>\n",
       "      <td>94.820924</td>\n",
       "      <td>10.795086</td>\n",
       "      <td>0</td>\n",
       "    </tr>\n",
       "    <tr>\n",
       "      <th>1</th>\n",
       "      <td>1</td>\n",
       "      <td>WheatLongGDD</td>\n",
       "      <td>1981-06-09</td>\n",
       "      <td>602</td>\n",
       "      <td>7.324720</td>\n",
       "      <td>73.247196</td>\n",
       "      <td>10.172598</td>\n",
       "      <td>0</td>\n",
       "    </tr>\n",
       "    <tr>\n",
       "      <th>2</th>\n",
       "      <td>2</td>\n",
       "      <td>WheatLongGDD</td>\n",
       "      <td>1982-06-04</td>\n",
       "      <td>962</td>\n",
       "      <td>10.172808</td>\n",
       "      <td>101.728083</td>\n",
       "      <td>10.651749</td>\n",
       "      <td>0</td>\n",
       "    </tr>\n",
       "    <tr>\n",
       "      <th>3</th>\n",
       "      <td>3</td>\n",
       "      <td>WheatLongGDD</td>\n",
       "      <td>1983-06-01</td>\n",
       "      <td>1324</td>\n",
       "      <td>6.973368</td>\n",
       "      <td>69.733684</td>\n",
       "      <td>9.828693</td>\n",
       "      <td>0</td>\n",
       "    </tr>\n",
       "    <tr>\n",
       "      <th>4</th>\n",
       "      <td>4</td>\n",
       "      <td>WheatLongGDD</td>\n",
       "      <td>1984-06-10</td>\n",
       "      <td>1699</td>\n",
       "      <td>8.010311</td>\n",
       "      <td>80.103112</td>\n",
       "      <td>10.635433</td>\n",
       "      <td>0</td>\n",
       "    </tr>\n",
       "    <tr>\n",
       "      <th>5</th>\n",
       "      <td>5</td>\n",
       "      <td>WheatLongGDD</td>\n",
       "      <td>1985-06-05</td>\n",
       "      <td>2059</td>\n",
       "      <td>10.077800</td>\n",
       "      <td>100.778000</td>\n",
       "      <td>10.635419</td>\n",
       "      <td>0</td>\n",
       "    </tr>\n",
       "    <tr>\n",
       "      <th>6</th>\n",
       "      <td>6</td>\n",
       "      <td>WheatLongGDD</td>\n",
       "      <td>1986-05-28</td>\n",
       "      <td>2416</td>\n",
       "      <td>9.255992</td>\n",
       "      <td>92.559917</td>\n",
       "      <td>10.527221</td>\n",
       "      <td>0</td>\n",
       "    </tr>\n",
       "    <tr>\n",
       "      <th>7</th>\n",
       "      <td>7</td>\n",
       "      <td>WheatLongGDD</td>\n",
       "      <td>1987-06-11</td>\n",
       "      <td>2795</td>\n",
       "      <td>8.849079</td>\n",
       "      <td>88.490792</td>\n",
       "      <td>10.873153</td>\n",
       "      <td>0</td>\n",
       "    </tr>\n",
       "    <tr>\n",
       "      <th>8</th>\n",
       "      <td>8</td>\n",
       "      <td>WheatLongGDD</td>\n",
       "      <td>1988-05-21</td>\n",
       "      <td>3140</td>\n",
       "      <td>6.732839</td>\n",
       "      <td>67.328393</td>\n",
       "      <td>10.499824</td>\n",
       "      <td>0</td>\n",
       "    </tr>\n",
       "    <tr>\n",
       "      <th>9</th>\n",
       "      <td>9</td>\n",
       "      <td>WheatLongGDD</td>\n",
       "      <td>1989-06-01</td>\n",
       "      <td>3516</td>\n",
       "      <td>7.477476</td>\n",
       "      <td>74.774760</td>\n",
       "      <td>10.853154</td>\n",
       "      <td>0</td>\n",
       "    </tr>\n",
       "    <tr>\n",
       "      <th>10</th>\n",
       "      <td>10</td>\n",
       "      <td>WheatLongGDD</td>\n",
       "      <td>1990-05-24</td>\n",
       "      <td>3873</td>\n",
       "      <td>8.723928</td>\n",
       "      <td>87.239282</td>\n",
       "      <td>10.801494</td>\n",
       "      <td>0</td>\n",
       "    </tr>\n",
       "    <tr>\n",
       "      <th>11</th>\n",
       "      <td>11</td>\n",
       "      <td>WheatLongGDD</td>\n",
       "      <td>1991-06-09</td>\n",
       "      <td>4254</td>\n",
       "      <td>9.495605</td>\n",
       "      <td>94.956051</td>\n",
       "      <td>11.312663</td>\n",
       "      <td>0</td>\n",
       "    </tr>\n",
       "    <tr>\n",
       "      <th>12</th>\n",
       "      <td>12</td>\n",
       "      <td>WheatLongGDD</td>\n",
       "      <td>1992-06-10</td>\n",
       "      <td>4621</td>\n",
       "      <td>9.532279</td>\n",
       "      <td>95.322789</td>\n",
       "      <td>11.057739</td>\n",
       "      <td>0</td>\n",
       "    </tr>\n",
       "    <tr>\n",
       "      <th>13</th>\n",
       "      <td>13</td>\n",
       "      <td>WheatLongGDD</td>\n",
       "      <td>1993-06-06</td>\n",
       "      <td>4982</td>\n",
       "      <td>9.866913</td>\n",
       "      <td>98.669127</td>\n",
       "      <td>10.952634</td>\n",
       "      <td>0</td>\n",
       "    </tr>\n",
       "    <tr>\n",
       "      <th>14</th>\n",
       "      <td>14</td>\n",
       "      <td>WheatLongGDD</td>\n",
       "      <td>1994-05-26</td>\n",
       "      <td>5336</td>\n",
       "      <td>7.540288</td>\n",
       "      <td>75.402881</td>\n",
       "      <td>10.933396</td>\n",
       "      <td>0</td>\n",
       "    </tr>\n",
       "    <tr>\n",
       "      <th>15</th>\n",
       "      <td>15</td>\n",
       "      <td>WheatLongGDD</td>\n",
       "      <td>1995-05-22</td>\n",
       "      <td>5697</td>\n",
       "      <td>7.973065</td>\n",
       "      <td>79.730653</td>\n",
       "      <td>10.830637</td>\n",
       "      <td>0</td>\n",
       "    </tr>\n",
       "    <tr>\n",
       "      <th>16</th>\n",
       "      <td>16</td>\n",
       "      <td>WheatLongGDD</td>\n",
       "      <td>1996-05-25</td>\n",
       "      <td>6066</td>\n",
       "      <td>11.048789</td>\n",
       "      <td>110.487894</td>\n",
       "      <td>11.052052</td>\n",
       "      <td>0</td>\n",
       "    </tr>\n",
       "    <tr>\n",
       "      <th>17</th>\n",
       "      <td>17</td>\n",
       "      <td>WheatLongGDD</td>\n",
       "      <td>1997-05-22</td>\n",
       "      <td>6428</td>\n",
       "      <td>8.124861</td>\n",
       "      <td>81.248613</td>\n",
       "      <td>10.984273</td>\n",
       "      <td>0</td>\n",
       "    </tr>\n",
       "    <tr>\n",
       "      <th>18</th>\n",
       "      <td>18</td>\n",
       "      <td>WheatLongGDD</td>\n",
       "      <td>1998-05-25</td>\n",
       "      <td>6796</td>\n",
       "      <td>9.721184</td>\n",
       "      <td>97.211840</td>\n",
       "      <td>11.086208</td>\n",
       "      <td>0</td>\n",
       "    </tr>\n",
       "    <tr>\n",
       "      <th>19</th>\n",
       "      <td>19</td>\n",
       "      <td>WheatLongGDD</td>\n",
       "      <td>1999-05-30</td>\n",
       "      <td>7166</td>\n",
       "      <td>8.547460</td>\n",
       "      <td>85.474603</td>\n",
       "      <td>10.892232</td>\n",
       "      <td>0</td>\n",
       "    </tr>\n",
       "    <tr>\n",
       "      <th>20</th>\n",
       "      <td>20</td>\n",
       "      <td>WheatLongGDD</td>\n",
       "      <td>2000-05-21</td>\n",
       "      <td>7523</td>\n",
       "      <td>8.351900</td>\n",
       "      <td>83.518996</td>\n",
       "      <td>11.052179</td>\n",
       "      <td>0</td>\n",
       "    </tr>\n",
       "    <tr>\n",
       "      <th>21</th>\n",
       "      <td>21</td>\n",
       "      <td>WheatLongGDD</td>\n",
       "      <td>2001-05-17</td>\n",
       "      <td>7884</td>\n",
       "      <td>9.320478</td>\n",
       "      <td>93.204777</td>\n",
       "      <td>10.945681</td>\n",
       "      <td>0</td>\n",
       "    </tr>\n",
       "    <tr>\n",
       "      <th>22</th>\n",
       "      <td>22</td>\n",
       "      <td>WheatLongGDD</td>\n",
       "      <td>2002-05-21</td>\n",
       "      <td>8253</td>\n",
       "      <td>7.188917</td>\n",
       "      <td>71.889165</td>\n",
       "      <td>11.062620</td>\n",
       "      <td>0</td>\n",
       "    </tr>\n",
       "  </tbody>\n",
       "</table>\n",
       "</div>"
      ],
      "text/plain": [
       "    Season     crop Type Harvest Date (YYYY/MM/DD)  Harvest Date (Step)  \\\n",
       "0        0  WheatLongGDD                1980-06-12                  240   \n",
       "1        1  WheatLongGDD                1981-06-09                  602   \n",
       "2        2  WheatLongGDD                1982-06-04                  962   \n",
       "3        3  WheatLongGDD                1983-06-01                 1324   \n",
       "4        4  WheatLongGDD                1984-06-10                 1699   \n",
       "5        5  WheatLongGDD                1985-06-05                 2059   \n",
       "6        6  WheatLongGDD                1986-05-28                 2416   \n",
       "7        7  WheatLongGDD                1987-06-11                 2795   \n",
       "8        8  WheatLongGDD                1988-05-21                 3140   \n",
       "9        9  WheatLongGDD                1989-06-01                 3516   \n",
       "10      10  WheatLongGDD                1990-05-24                 3873   \n",
       "11      11  WheatLongGDD                1991-06-09                 4254   \n",
       "12      12  WheatLongGDD                1992-06-10                 4621   \n",
       "13      13  WheatLongGDD                1993-06-06                 4982   \n",
       "14      14  WheatLongGDD                1994-05-26                 5336   \n",
       "15      15  WheatLongGDD                1995-05-22                 5697   \n",
       "16      16  WheatLongGDD                1996-05-25                 6066   \n",
       "17      17  WheatLongGDD                1997-05-22                 6428   \n",
       "18      18  WheatLongGDD                1998-05-25                 6796   \n",
       "19      19  WheatLongGDD                1999-05-30                 7166   \n",
       "20      20  WheatLongGDD                2000-05-21                 7523   \n",
       "21      21  WheatLongGDD                2001-05-17                 7884   \n",
       "22      22  WheatLongGDD                2002-05-21                 8253   \n",
       "\n",
       "    Dry yield (tonne/ha)  Fresh yield (tonne/ha)  Yield potential (tonne/ha)  \\\n",
       "0               9.482092               94.820924                   10.795086   \n",
       "1               7.324720               73.247196                   10.172598   \n",
       "2              10.172808              101.728083                   10.651749   \n",
       "3               6.973368               69.733684                    9.828693   \n",
       "4               8.010311               80.103112                   10.635433   \n",
       "5              10.077800              100.778000                   10.635419   \n",
       "6               9.255992               92.559917                   10.527221   \n",
       "7               8.849079               88.490792                   10.873153   \n",
       "8               6.732839               67.328393                   10.499824   \n",
       "9               7.477476               74.774760                   10.853154   \n",
       "10              8.723928               87.239282                   10.801494   \n",
       "11              9.495605               94.956051                   11.312663   \n",
       "12              9.532279               95.322789                   11.057739   \n",
       "13              9.866913               98.669127                   10.952634   \n",
       "14              7.540288               75.402881                   10.933396   \n",
       "15              7.973065               79.730653                   10.830637   \n",
       "16             11.048789              110.487894                   11.052052   \n",
       "17              8.124861               81.248613                   10.984273   \n",
       "18              9.721184               97.211840                   11.086208   \n",
       "19              8.547460               85.474603                   10.892232   \n",
       "20              8.351900               83.518996                   11.052179   \n",
       "21              9.320478               93.204777                   10.945681   \n",
       "22              7.188917               71.889165                   11.062620   \n",
       "\n",
       "    Seasonal irrigation (mm)  \n",
       "0                          0  \n",
       "1                          0  \n",
       "2                          0  \n",
       "3                          0  \n",
       "4                          0  \n",
       "5                          0  \n",
       "6                          0  \n",
       "7                          0  \n",
       "8                          0  \n",
       "9                          0  \n",
       "10                         0  \n",
       "11                         0  \n",
       "12                         0  \n",
       "13                         0  \n",
       "14                         0  \n",
       "15                         0  \n",
       "16                         0  \n",
       "17                         0  \n",
       "18                         0  \n",
       "19                         0  \n",
       "20                         0  \n",
       "21                         0  \n",
       "22                         0  "
      ]
     },
     "execution_count": 50,
     "metadata": {},
     "output_type": "execute_result"
    }
   ],
   "source": [
    "model.get_simulation_results()"
   ]
  },
  {
   "cell_type": "markdown",
   "metadata": {},
   "source": [
    "## Exercise 7.3 Different initial conditions"
   ]
  },
  {
   "cell_type": "markdown",
   "metadata": {},
   "source": [
    "WetDry"
   ]
  },
  {
   "cell_type": "code",
   "execution_count": 12,
   "metadata": {},
   "outputs": [
    {
     "name": "stdout",
     "output_type": "stream",
     "text": [
      "1922.0250874810938\n",
      "19.220250874810937\n"
     ]
    },
    {
     "name": "stderr",
     "output_type": "stream",
     "text": [
      "C:\\Users\\s10034cb\\AppData\\Local\\Temp\\ipykernel_6868\\341318044.py:55: ParserWarning: Falling back to the 'python' engine because the 'c' engine does not support skipfooter; you can avoid this warning by specifying engine='python'.\n",
      "  win_daily_outputs = pd.read_table('C:/Users/s10034cb/Dropbox (The University of Manchester)/Manchester Postdoc/AquaCrop-windows/AquaCropV7.1/OUTP/'+win_filename+'Crop.OUT',\n",
      "C:\\Users\\s10034cb\\AppData\\Local\\Temp\\ipykernel_6868\\341318044.py:74: ParserWarning: Falling back to the 'python' engine because the 'c' engine does not support skipfooter; you can avoid this warning by specifying engine='python'.\n",
      "  win_daily_water = pd.read_table('C:/Users/s10034cb/Dropbox (The University of Manchester)/Manchester Postdoc/AquaCrop-windows/AquaCropV7.1/OUTP/'+win_filename+'WABAL.OUT',\n",
      "C:\\Users\\s10034cb\\AppData\\Local\\Temp\\ipykernel_6868\\341318044.py:166: ParserWarning: Falling back to the 'python' engine because the 'c' engine does not support skipfooter; you can avoid this warning by specifying engine='python'.\n",
      "  win_annual_outputs=pd.read_csv('C:/Users/s10034cb/Dropbox (The University of Manchester)/Manchester Postdoc/AquaCrop-windows/AquaCropV7.1/OUTP/'+win_filename+'Harvest.OUT',\n",
      "C:\\Users\\s10034cb\\AppData\\Local\\Temp\\ipykernel_6868\\341318044.py:210: SettingWithCopyWarning: \n",
      "A value is trying to be set on a copy of a slice from a DataFrame\n",
      "\n",
      "See the caveats in the documentation: https://pandas.pydata.org/pandas-docs/stable/user_guide/indexing.html#returning-a-view-versus-a-copy\n",
      "  temp_a.rename(columns={'Wr' : 'Py_Wr'}, inplace=True)\n",
      "C:\\Users\\s10034cb\\AppData\\Local\\Temp\\ipykernel_6868\\341318044.py:212: SettingWithCopyWarning: \n",
      "A value is trying to be set on a copy of a slice from a DataFrame\n",
      "\n",
      "See the caveats in the documentation: https://pandas.pydata.org/pandas-docs/stable/user_guide/indexing.html#returning-a-view-versus-a-copy\n",
      "  temp_b.rename(columns={'Wr' : 'Win_Wr'}, inplace=True)\n"
     ]
    }
   ],
   "source": [
    "irr_mngt = IrrigationManagement(irrigation_method=0)\n",
    "\n",
    "model = AquaCropModel(sim_start_time=f'{1979}/10/15',\n",
    "                      sim_end_time=f'{2002}/05/31',\n",
    "                      weather_df=tunis_weather,\n",
    "                      soil=sandy_loam,\n",
    "                      crop=wheat,\n",
    "                      irrigation_management=irr_mngt,\n",
    "                      initial_water_content=wet_dry,\n",
    "                      )\n",
    "model.run_model(till_termination=True)\n",
    "\n",
    "python_output(model, 'Tun_WW_WetDry')\n",
    "run_comparison('Tun_WW_WetDry', model)"
   ]
  },
  {
   "cell_type": "markdown",
   "metadata": {},
   "source": [
    "Field Capacity:"
   ]
  },
  {
   "cell_type": "code",
   "execution_count": 13,
   "metadata": {},
   "outputs": [
    {
     "name": "stdout",
     "output_type": "stream",
     "text": [
      "1922.0250874810938\n",
      "19.220250874810937\n"
     ]
    },
    {
     "name": "stderr",
     "output_type": "stream",
     "text": [
      "C:\\Users\\s10034cb\\AppData\\Local\\Temp\\ipykernel_6868\\341318044.py:55: ParserWarning: Falling back to the 'python' engine because the 'c' engine does not support skipfooter; you can avoid this warning by specifying engine='python'.\n",
      "  win_daily_outputs = pd.read_table('C:/Users/s10034cb/Dropbox (The University of Manchester)/Manchester Postdoc/AquaCrop-windows/AquaCropV7.1/OUTP/'+win_filename+'Crop.OUT',\n",
      "C:\\Users\\s10034cb\\AppData\\Local\\Temp\\ipykernel_6868\\341318044.py:74: ParserWarning: Falling back to the 'python' engine because the 'c' engine does not support skipfooter; you can avoid this warning by specifying engine='python'.\n",
      "  win_daily_water = pd.read_table('C:/Users/s10034cb/Dropbox (The University of Manchester)/Manchester Postdoc/AquaCrop-windows/AquaCropV7.1/OUTP/'+win_filename+'WABAL.OUT',\n",
      "C:\\Users\\s10034cb\\AppData\\Local\\Temp\\ipykernel_6868\\341318044.py:166: ParserWarning: Falling back to the 'python' engine because the 'c' engine does not support skipfooter; you can avoid this warning by specifying engine='python'.\n",
      "  win_annual_outputs=pd.read_csv('C:/Users/s10034cb/Dropbox (The University of Manchester)/Manchester Postdoc/AquaCrop-windows/AquaCropV7.1/OUTP/'+win_filename+'Harvest.OUT',\n",
      "C:\\Users\\s10034cb\\AppData\\Local\\Temp\\ipykernel_6868\\341318044.py:210: SettingWithCopyWarning: \n",
      "A value is trying to be set on a copy of a slice from a DataFrame\n",
      "\n",
      "See the caveats in the documentation: https://pandas.pydata.org/pandas-docs/stable/user_guide/indexing.html#returning-a-view-versus-a-copy\n",
      "  temp_a.rename(columns={'Wr' : 'Py_Wr'}, inplace=True)\n",
      "C:\\Users\\s10034cb\\AppData\\Local\\Temp\\ipykernel_6868\\341318044.py:212: SettingWithCopyWarning: \n",
      "A value is trying to be set on a copy of a slice from a DataFrame\n",
      "\n",
      "See the caveats in the documentation: https://pandas.pydata.org/pandas-docs/stable/user_guide/indexing.html#returning-a-view-versus-a-copy\n",
      "  temp_b.rename(columns={'Wr' : 'Win_Wr'}, inplace=True)\n"
     ]
    }
   ],
   "source": [
    "# Change initial water content \n",
    "field_capacity = InitialWaterContent(value=['FC'])\n",
    "\n",
    "model = AquaCropModel(sim_start_time=f'{1979}/10/15',\n",
    "                      sim_end_time=f'{2002}/05/31',\n",
    "                      weather_df=tunis_weather,\n",
    "                      soil=sandy_loam,\n",
    "                      crop=wheat,\n",
    "                      irrigation_management=irr_mngt,\n",
    "                      initial_water_content=field_capacity,\n",
    "                      )\n",
    "model.run_model(till_termination=True)\n",
    "\n",
    "# python_output(model, 'Tun_WW_FC')\n",
    "run_comparison('Tun_WW_FC', model)"
   ]
  },
  {
   "cell_type": "markdown",
   "metadata": {},
   "source": [
    "30% TAW"
   ]
  },
  {
   "cell_type": "code",
   "execution_count": 14,
   "metadata": {},
   "outputs": [
    {
     "name": "stdout",
     "output_type": "stream",
     "text": [
      "1869.415122304942\n",
      "18.69415122304942\n"
     ]
    },
    {
     "name": "stderr",
     "output_type": "stream",
     "text": [
      "C:\\Users\\s10034cb\\AppData\\Local\\Temp\\ipykernel_6868\\341318044.py:55: ParserWarning: Falling back to the 'python' engine because the 'c' engine does not support skipfooter; you can avoid this warning by specifying engine='python'.\n",
      "  win_daily_outputs = pd.read_table('C:/Users/s10034cb/Dropbox (The University of Manchester)/Manchester Postdoc/AquaCrop-windows/AquaCropV7.1/OUTP/'+win_filename+'Crop.OUT',\n",
      "C:\\Users\\s10034cb\\AppData\\Local\\Temp\\ipykernel_6868\\341318044.py:74: ParserWarning: Falling back to the 'python' engine because the 'c' engine does not support skipfooter; you can avoid this warning by specifying engine='python'.\n",
      "  win_daily_water = pd.read_table('C:/Users/s10034cb/Dropbox (The University of Manchester)/Manchester Postdoc/AquaCrop-windows/AquaCropV7.1/OUTP/'+win_filename+'WABAL.OUT',\n",
      "C:\\Users\\s10034cb\\AppData\\Local\\Temp\\ipykernel_6868\\341318044.py:166: ParserWarning: Falling back to the 'python' engine because the 'c' engine does not support skipfooter; you can avoid this warning by specifying engine='python'.\n",
      "  win_annual_outputs=pd.read_csv('C:/Users/s10034cb/Dropbox (The University of Manchester)/Manchester Postdoc/AquaCrop-windows/AquaCropV7.1/OUTP/'+win_filename+'Harvest.OUT',\n",
      "C:\\Users\\s10034cb\\AppData\\Local\\Temp\\ipykernel_6868\\341318044.py:210: SettingWithCopyWarning: \n",
      "A value is trying to be set on a copy of a slice from a DataFrame\n",
      "\n",
      "See the caveats in the documentation: https://pandas.pydata.org/pandas-docs/stable/user_guide/indexing.html#returning-a-view-versus-a-copy\n",
      "  temp_a.rename(columns={'Wr' : 'Py_Wr'}, inplace=True)\n",
      "C:\\Users\\s10034cb\\AppData\\Local\\Temp\\ipykernel_6868\\341318044.py:212: SettingWithCopyWarning: \n",
      "A value is trying to be set on a copy of a slice from a DataFrame\n",
      "\n",
      "See the caveats in the documentation: https://pandas.pydata.org/pandas-docs/stable/user_guide/indexing.html#returning-a-view-versus-a-copy\n",
      "  temp_b.rename(columns={'Wr' : 'Win_Wr'}, inplace=True)\n"
     ]
    }
   ],
   "source": [
    "# Change initial water content\n",
    "iwc30taw = InitialWaterContent('Pct','Layer',[1],[30])\n",
    "\n",
    "model = AquaCropModel(sim_start_time=f'{1979}/10/15',\n",
    "                      sim_end_time=f'{2002}/05/31',\n",
    "                      weather_df=tunis_weather,\n",
    "                      soil=sandy_loam,\n",
    "                      crop=wheat,\n",
    "                      irrigation_management=irr_mngt,\n",
    "                      initial_water_content=iwc30taw,\n",
    "                      )\n",
    "model.run_model(till_termination=True)\n",
    "\n",
    "# python_output(model, 'Tun_WW_30TAW')\n",
    "run_comparison('Tun_WW_30TAW', model)"
   ]
  },
  {
   "cell_type": "markdown",
   "metadata": {},
   "source": [
    "75% TAW"
   ]
  },
  {
   "cell_type": "code",
   "execution_count": 15,
   "metadata": {},
   "outputs": [
    {
     "name": "stdout",
     "output_type": "stream",
     "text": [
      "1921.9419451101605\n",
      "19.219419451101604\n"
     ]
    },
    {
     "name": "stderr",
     "output_type": "stream",
     "text": [
      "C:\\Users\\s10034cb\\AppData\\Local\\Temp\\ipykernel_6868\\341318044.py:55: ParserWarning: Falling back to the 'python' engine because the 'c' engine does not support skipfooter; you can avoid this warning by specifying engine='python'.\n",
      "  win_daily_outputs = pd.read_table('C:/Users/s10034cb/Dropbox (The University of Manchester)/Manchester Postdoc/AquaCrop-windows/AquaCropV7.1/OUTP/'+win_filename+'Crop.OUT',\n",
      "C:\\Users\\s10034cb\\AppData\\Local\\Temp\\ipykernel_6868\\341318044.py:74: ParserWarning: Falling back to the 'python' engine because the 'c' engine does not support skipfooter; you can avoid this warning by specifying engine='python'.\n",
      "  win_daily_water = pd.read_table('C:/Users/s10034cb/Dropbox (The University of Manchester)/Manchester Postdoc/AquaCrop-windows/AquaCropV7.1/OUTP/'+win_filename+'WABAL.OUT',\n",
      "C:\\Users\\s10034cb\\AppData\\Local\\Temp\\ipykernel_6868\\341318044.py:166: ParserWarning: Falling back to the 'python' engine because the 'c' engine does not support skipfooter; you can avoid this warning by specifying engine='python'.\n",
      "  win_annual_outputs=pd.read_csv('C:/Users/s10034cb/Dropbox (The University of Manchester)/Manchester Postdoc/AquaCrop-windows/AquaCropV7.1/OUTP/'+win_filename+'Harvest.OUT',\n",
      "C:\\Users\\s10034cb\\AppData\\Local\\Temp\\ipykernel_6868\\341318044.py:210: SettingWithCopyWarning: \n",
      "A value is trying to be set on a copy of a slice from a DataFrame\n",
      "\n",
      "See the caveats in the documentation: https://pandas.pydata.org/pandas-docs/stable/user_guide/indexing.html#returning-a-view-versus-a-copy\n",
      "  temp_a.rename(columns={'Wr' : 'Py_Wr'}, inplace=True)\n",
      "C:\\Users\\s10034cb\\AppData\\Local\\Temp\\ipykernel_6868\\341318044.py:212: SettingWithCopyWarning: \n",
      "A value is trying to be set on a copy of a slice from a DataFrame\n",
      "\n",
      "See the caveats in the documentation: https://pandas.pydata.org/pandas-docs/stable/user_guide/indexing.html#returning-a-view-versus-a-copy\n",
      "  temp_b.rename(columns={'Wr' : 'Win_Wr'}, inplace=True)\n"
     ]
    }
   ],
   "source": [
    "# Change initial water content\n",
    "iwc75taw = InitialWaterContent('Pct','Layer',[1],[75])\n",
    "\n",
    "model = AquaCropModel(sim_start_time=f'{1979}/10/15',\n",
    "                      sim_end_time=f'{2002}/05/31',\n",
    "                      weather_df=tunis_weather,\n",
    "                      soil=sandy_loam,\n",
    "                      crop=wheat,\n",
    "                      irrigation_management=irr_mngt,\n",
    "                      initial_water_content=iwc75taw,\n",
    "                      )\n",
    "model.run_model(till_termination=True)\n",
    "\n",
    "# python_output(model, 'Tun_WW_75TAW')\n",
    "run_comparison('Tun_WW_75TAW', model)"
   ]
  },
  {
   "cell_type": "markdown",
   "metadata": {},
   "source": [
    "Wilting Point"
   ]
  },
  {
   "cell_type": "code",
   "execution_count": 16,
   "metadata": {},
   "outputs": [
    {
     "name": "stdout",
     "output_type": "stream",
     "text": [
      "1898.3484908506846\n",
      "18.983484908506846\n"
     ]
    },
    {
     "name": "stderr",
     "output_type": "stream",
     "text": [
      "C:\\Users\\s10034cb\\AppData\\Local\\Temp\\ipykernel_6868\\341318044.py:55: ParserWarning: Falling back to the 'python' engine because the 'c' engine does not support skipfooter; you can avoid this warning by specifying engine='python'.\n",
      "  win_daily_outputs = pd.read_table('C:/Users/s10034cb/Dropbox (The University of Manchester)/Manchester Postdoc/AquaCrop-windows/AquaCropV7.1/OUTP/'+win_filename+'Crop.OUT',\n",
      "C:\\Users\\s10034cb\\AppData\\Local\\Temp\\ipykernel_6868\\341318044.py:74: ParserWarning: Falling back to the 'python' engine because the 'c' engine does not support skipfooter; you can avoid this warning by specifying engine='python'.\n",
      "  win_daily_water = pd.read_table('C:/Users/s10034cb/Dropbox (The University of Manchester)/Manchester Postdoc/AquaCrop-windows/AquaCropV7.1/OUTP/'+win_filename+'WABAL.OUT',\n",
      "C:\\Users\\s10034cb\\AppData\\Local\\Temp\\ipykernel_6868\\341318044.py:166: ParserWarning: Falling back to the 'python' engine because the 'c' engine does not support skipfooter; you can avoid this warning by specifying engine='python'.\n",
      "  win_annual_outputs=pd.read_csv('C:/Users/s10034cb/Dropbox (The University of Manchester)/Manchester Postdoc/AquaCrop-windows/AquaCropV7.1/OUTP/'+win_filename+'Harvest.OUT',\n",
      "C:\\Users\\s10034cb\\AppData\\Local\\Temp\\ipykernel_6868\\341318044.py:210: SettingWithCopyWarning: \n",
      "A value is trying to be set on a copy of a slice from a DataFrame\n",
      "\n",
      "See the caveats in the documentation: https://pandas.pydata.org/pandas-docs/stable/user_guide/indexing.html#returning-a-view-versus-a-copy\n",
      "  temp_a.rename(columns={'Wr' : 'Py_Wr'}, inplace=True)\n",
      "C:\\Users\\s10034cb\\AppData\\Local\\Temp\\ipykernel_6868\\341318044.py:212: SettingWithCopyWarning: \n",
      "A value is trying to be set on a copy of a slice from a DataFrame\n",
      "\n",
      "See the caveats in the documentation: https://pandas.pydata.org/pandas-docs/stable/user_guide/indexing.html#returning-a-view-versus-a-copy\n",
      "  temp_b.rename(columns={'Wr' : 'Win_Wr'}, inplace=True)\n"
     ]
    }
   ],
   "source": [
    "# Change initial water content\n",
    "iwc_wp = InitialWaterContent('Prop','Layer',[1],['WP'])\n",
    "iwc_wp2 = InitialWaterContent('Pct','Layer',[1],[10])\n",
    "\n",
    "irr_mngt = IrrigationManagement(irrigation_method=0)\n",
    "\n",
    "model = AquaCropModel(sim_start_time=f'{1979}/10/15',\n",
    "                      sim_end_time=f'{2002}/05/31',\n",
    "                      weather_df=tunis_weather,\n",
    "                      soil=sandy_loam,\n",
    "                      crop=wheat,\n",
    "                      irrigation_management=irr_mngt,\n",
    "                      initial_water_content=iwc_wp,\n",
    "                      )\n",
    "model.run_model(till_termination=True)\n",
    "\n",
    "# python_output(model, 'Tun_WW_WP')\n",
    "run_comparison('Tun_WW_WP', model)"
   ]
  },
  {
   "cell_type": "markdown",
   "metadata": {},
   "source": [
    "## Exercise 7.6 Net irrigation requirement"
   ]
  },
  {
   "cell_type": "code",
   "execution_count": 17,
   "metadata": {},
   "outputs": [
    {
     "name": "stdout",
     "output_type": "stream",
     "text": [
      "1804.5095943584206\n",
      "18.045095943584204\n"
     ]
    },
    {
     "name": "stderr",
     "output_type": "stream",
     "text": [
      "C:\\Users\\s10034cb\\AppData\\Local\\Temp\\ipykernel_6868\\341318044.py:55: ParserWarning: Falling back to the 'python' engine because the 'c' engine does not support skipfooter; you can avoid this warning by specifying engine='python'.\n",
      "  win_daily_outputs = pd.read_table('C:/Users/s10034cb/Dropbox (The University of Manchester)/Manchester Postdoc/AquaCrop-windows/AquaCropV7.1/OUTP/'+win_filename+'Crop.OUT',\n",
      "C:\\Users\\s10034cb\\AppData\\Local\\Temp\\ipykernel_6868\\341318044.py:74: ParserWarning: Falling back to the 'python' engine because the 'c' engine does not support skipfooter; you can avoid this warning by specifying engine='python'.\n",
      "  win_daily_water = pd.read_table('C:/Users/s10034cb/Dropbox (The University of Manchester)/Manchester Postdoc/AquaCrop-windows/AquaCropV7.1/OUTP/'+win_filename+'WABAL.OUT',\n",
      "C:\\Users\\s10034cb\\AppData\\Local\\Temp\\ipykernel_6868\\341318044.py:166: ParserWarning: Falling back to the 'python' engine because the 'c' engine does not support skipfooter; you can avoid this warning by specifying engine='python'.\n",
      "  win_annual_outputs=pd.read_csv('C:/Users/s10034cb/Dropbox (The University of Manchester)/Manchester Postdoc/AquaCrop-windows/AquaCropV7.1/OUTP/'+win_filename+'Harvest.OUT',\n",
      "C:\\Users\\s10034cb\\AppData\\Local\\Temp\\ipykernel_6868\\341318044.py:210: SettingWithCopyWarning: \n",
      "A value is trying to be set on a copy of a slice from a DataFrame\n",
      "\n",
      "See the caveats in the documentation: https://pandas.pydata.org/pandas-docs/stable/user_guide/indexing.html#returning-a-view-versus-a-copy\n",
      "  temp_a.rename(columns={'Wr' : 'Py_Wr'}, inplace=True)\n",
      "C:\\Users\\s10034cb\\AppData\\Local\\Temp\\ipykernel_6868\\341318044.py:212: SettingWithCopyWarning: \n",
      "A value is trying to be set on a copy of a slice from a DataFrame\n",
      "\n",
      "See the caveats in the documentation: https://pandas.pydata.org/pandas-docs/stable/user_guide/indexing.html#returning-a-view-versus-a-copy\n",
      "  temp_b.rename(columns={'Wr' : 'Win_Wr'}, inplace=True)\n"
     ]
    }
   ],
   "source": [
    "# Exercise states 30% of RAW, that's what I have input into the irrigation file in AQ-Win\n",
    "# AQ-Py only deals with TAW, not RAW, so a conversion must be done.\n",
    "# Conversion is based on the p_up2 attribute of crop, reflects proportion of TAW that is RAW.\n",
    "# In this case (WheatGDD) has p_up2 of 0.65 so 30 * 0.65 = 19.5, find inverse: 100 - 19.5 = 80.5\n",
    "net_irr = IrrigationManagement(irrigation_method=4,NetIrrSMT=80.5, MaxIrr=50)\n",
    "wp = InitialWaterContent(value=['WP'])\n",
    "wheat_dec = Crop('WheatGDD',planting_date='12/01')\n",
    "\n",
    "model = AquaCropModel(sim_start_time=f'{1979}/12/01',\n",
    "                      sim_end_time=f'{2002}/05/31',\n",
    "                      weather_df=tunis_weather,\n",
    "                      soil=sandy_loam,\n",
    "                      crop=wheat_dec,\n",
    "                      irrigation_management=net_irr,\n",
    "                      initial_water_content=wp,\n",
    "                      )\n",
    "model.run_model(till_termination=True)\n",
    "\n",
    "# python_output(model, 'Tun_WW_NetIrr')\n",
    "run_comparison('Tun_WW_NetIrr3', model)"
   ]
  },
  {
   "cell_type": "markdown",
   "metadata": {},
   "source": [
    "## Exercise 7.7 Assess deficit irrigation schedules"
   ]
  },
  {
   "cell_type": "code",
   "execution_count": 18,
   "metadata": {},
   "outputs": [
    {
     "name": "stdout",
     "output_type": "stream",
     "text": [
      "         Date Depth\n",
      "0  1979-12-01    30\n",
      "1  1980-01-01    40\n",
      "2  1980-01-31    40\n",
      "3  1980-12-01    30\n",
      "4  1981-01-01    40\n",
      "..        ...   ...\n",
      "64 2001-01-01    40\n",
      "65 2001-01-31    40\n",
      "66 2001-12-01    30\n",
      "67 2002-01-01    40\n",
      "68 2002-01-31    40\n",
      "\n",
      "[69 rows x 2 columns]\n",
      "1790.6198121568323\n",
      "17.906198121568323\n"
     ]
    },
    {
     "name": "stderr",
     "output_type": "stream",
     "text": [
      "C:\\Users\\s10034cb\\AppData\\Local\\Temp\\ipykernel_6868\\341318044.py:55: ParserWarning: Falling back to the 'python' engine because the 'c' engine does not support skipfooter; you can avoid this warning by specifying engine='python'.\n",
      "  win_daily_outputs = pd.read_table('C:/Users/s10034cb/Dropbox (The University of Manchester)/Manchester Postdoc/AquaCrop-windows/AquaCropV7.1/OUTP/'+win_filename+'Crop.OUT',\n",
      "C:\\Users\\s10034cb\\AppData\\Local\\Temp\\ipykernel_6868\\341318044.py:74: ParserWarning: Falling back to the 'python' engine because the 'c' engine does not support skipfooter; you can avoid this warning by specifying engine='python'.\n",
      "  win_daily_water = pd.read_table('C:/Users/s10034cb/Dropbox (The University of Manchester)/Manchester Postdoc/AquaCrop-windows/AquaCropV7.1/OUTP/'+win_filename+'WABAL.OUT',\n",
      "C:\\Users\\s10034cb\\AppData\\Local\\Temp\\ipykernel_6868\\341318044.py:166: ParserWarning: Falling back to the 'python' engine because the 'c' engine does not support skipfooter; you can avoid this warning by specifying engine='python'.\n",
      "  win_annual_outputs=pd.read_csv('C:/Users/s10034cb/Dropbox (The University of Manchester)/Manchester Postdoc/AquaCrop-windows/AquaCropV7.1/OUTP/'+win_filename+'Harvest.OUT',\n",
      "C:\\Users\\s10034cb\\AppData\\Local\\Temp\\ipykernel_6868\\341318044.py:210: SettingWithCopyWarning: \n",
      "A value is trying to be set on a copy of a slice from a DataFrame\n",
      "\n",
      "See the caveats in the documentation: https://pandas.pydata.org/pandas-docs/stable/user_guide/indexing.html#returning-a-view-versus-a-copy\n",
      "  temp_a.rename(columns={'Wr' : 'Py_Wr'}, inplace=True)\n",
      "C:\\Users\\s10034cb\\AppData\\Local\\Temp\\ipykernel_6868\\341318044.py:212: SettingWithCopyWarning: \n",
      "A value is trying to be set on a copy of a slice from a DataFrame\n",
      "\n",
      "See the caveats in the documentation: https://pandas.pydata.org/pandas-docs/stable/user_guide/indexing.html#returning-a-view-versus-a-copy\n",
      "  temp_b.rename(columns={'Wr' : 'Win_Wr'}, inplace=True)\n"
     ]
    }
   ],
   "source": [
    "all_1_decs=pd.date_range('1979/12/01', '2001/12/01',freq='12MS')\n",
    "\n",
    "dates=[]\n",
    "\n",
    "for each_start in all_1_decs:\n",
    "    app1=each_start\n",
    "    app2=each_start+pd.Timedelta(31,'d')\n",
    "    app3=each_start+pd.Timedelta(61,'d')\n",
    "    dates.extend([app1,app2,app3])\n",
    "\n",
    "n_years=len(all_1_decs)\n",
    "depths=[30,40,40]*n_years\n",
    "\n",
    "schedule=pd.DataFrame([dates,depths]).T # create pandas DataFrame\n",
    "schedule.columns=['Date','Depth'] # name columns\n",
    "\n",
    "print(schedule)\n",
    "\n",
    "net_irr = IrrigationManagement(irrigation_method=3, Schedule=schedule, MaxIrr = 50)\n",
    "wp = InitialWaterContent(wc_type='Pct',method='Layer',depth_layer=[1],value=[10])\n",
    "wp2 = InitialWaterContent(wc_type='Prop',method='Layer',depth_layer=[1],value=['WP'])\n",
    "wheat_dec = Crop('WheatGDD',planting_date='12/01')\n",
    "sandy_loam = Soil(soil_type='SandyLoam')\n",
    "\n",
    "model = AquaCropModel(sim_start_time=f'{1979}/12/01',\n",
    "                      sim_end_time=f'{2002}/05/25',\n",
    "                      weather_df=tunis_weather,\n",
    "                      soil=sandy_loam,\n",
    "                      crop=wheat_dec,\n",
    "                      irrigation_management=net_irr,\n",
    "                      initial_water_content=wp2,\n",
    "                      )\n",
    "model.run_model(till_termination=True)\n",
    "\n",
    "# python_output(model, 'Tun_WW_Deficit')\n",
    "run_comparison('Tun_WW_Deficit3', model)"
   ]
  },
  {
   "cell_type": "markdown",
   "metadata": {},
   "source": [
    "With field capacity:"
   ]
  },
  {
   "cell_type": "code",
   "execution_count": null,
   "metadata": {},
   "outputs": [],
   "source": []
  },
  {
   "cell_type": "markdown",
   "metadata": {},
   "source": [
    "# Exercise 8"
   ]
  },
  {
   "cell_type": "markdown",
   "metadata": {},
   "source": [
    "## Exercise 8.2 Paddy rice in Hyderabad planting dates"
   ]
  },
  {
   "cell_type": "code",
   "execution_count": 19,
   "metadata": {},
   "outputs": [
    {
     "name": "stdout",
     "output_type": "stream",
     "text": [
      "1491.7549387586002\n",
      "14.917549387586002\n"
     ]
    },
    {
     "name": "stderr",
     "output_type": "stream",
     "text": [
      "C:\\Users\\s10034cb\\AppData\\Local\\Temp\\ipykernel_6868\\341318044.py:55: ParserWarning: Falling back to the 'python' engine because the 'c' engine does not support skipfooter; you can avoid this warning by specifying engine='python'.\n",
      "  win_daily_outputs = pd.read_table('C:/Users/s10034cb/Dropbox (The University of Manchester)/Manchester Postdoc/AquaCrop-windows/AquaCropV7.1/OUTP/'+win_filename+'Crop.OUT',\n",
      "C:\\Users\\s10034cb\\AppData\\Local\\Temp\\ipykernel_6868\\341318044.py:74: ParserWarning: Falling back to the 'python' engine because the 'c' engine does not support skipfooter; you can avoid this warning by specifying engine='python'.\n",
      "  win_daily_water = pd.read_table('C:/Users/s10034cb/Dropbox (The University of Manchester)/Manchester Postdoc/AquaCrop-windows/AquaCropV7.1/OUTP/'+win_filename+'WABAL.OUT',\n",
      "C:\\Users\\s10034cb\\AppData\\Local\\Temp\\ipykernel_6868\\341318044.py:166: ParserWarning: Falling back to the 'python' engine because the 'c' engine does not support skipfooter; you can avoid this warning by specifying engine='python'.\n",
      "  win_annual_outputs=pd.read_csv('C:/Users/s10034cb/Dropbox (The University of Manchester)/Manchester Postdoc/AquaCrop-windows/AquaCropV7.1/OUTP/'+win_filename+'Harvest.OUT',\n",
      "C:\\Users\\s10034cb\\AppData\\Local\\Temp\\ipykernel_6868\\341318044.py:210: SettingWithCopyWarning: \n",
      "A value is trying to be set on a copy of a slice from a DataFrame\n",
      "\n",
      "See the caveats in the documentation: https://pandas.pydata.org/pandas-docs/stable/user_guide/indexing.html#returning-a-view-versus-a-copy\n",
      "  temp_a.rename(columns={'Wr' : 'Py_Wr'}, inplace=True)\n",
      "C:\\Users\\s10034cb\\AppData\\Local\\Temp\\ipykernel_6868\\341318044.py:212: SettingWithCopyWarning: \n",
      "A value is trying to be set on a copy of a slice from a DataFrame\n",
      "\n",
      "See the caveats in the documentation: https://pandas.pydata.org/pandas-docs/stable/user_guide/indexing.html#returning-a-view-versus-a-copy\n",
      "  temp_b.rename(columns={'Wr' : 'Win_Wr'}, inplace=True)\n"
     ]
    }
   ],
   "source": [
    "# NO BUNDS TEST\n",
    "\n",
    "# Hyderabad climate\n",
    "filepath=get_filepath('hyderabad_climate.txt')\n",
    "hyderabad_weather = prepare_weather(filepath)\n",
    "\n",
    "# Hyderabad soil\n",
    "paddy_soil = Soil(soil_type='Paddy')\n",
    "\n",
    "# crop\n",
    "local_rice = Crop('localpaddy', planting_date='08/01')\n",
    "\n",
    "# IWC\n",
    "fc = InitialWaterContent(value=['FC'])\n",
    "\n",
    "# irr management\n",
    "irr_mngt = IrrigationManagement(irrigation_method=0)\n",
    "\n",
    "model = AquaCropModel(sim_start_time=f'{2000}/08/01',\n",
    "                      sim_end_time=f'{2010}/12/31',\n",
    "                      weather_df=hyderabad_weather,\n",
    "                      soil=paddy_soil,\n",
    "                      crop=local_rice,\n",
    "                      irrigation_management=irr_mngt,\n",
    "                      initial_water_content=fc,\n",
    "                      )\n",
    "model.run_model(till_termination=True)\n",
    "\n",
    "# python_output(model, 'Hyd_Rice_1Aug_noBunds')\n",
    "run_comparison('Hyd_Rice_1Aug_noBunds', model)"
   ]
  },
  {
   "cell_type": "code",
   "execution_count": 20,
   "metadata": {},
   "outputs": [
    {
     "name": "stdout",
     "output_type": "stream",
     "text": [
      "1625.5004211089204\n",
      "16.255004211089204\n"
     ]
    },
    {
     "name": "stderr",
     "output_type": "stream",
     "text": [
      "C:\\Users\\s10034cb\\AppData\\Local\\Temp\\ipykernel_6868\\341318044.py:55: ParserWarning: Falling back to the 'python' engine because the 'c' engine does not support skipfooter; you can avoid this warning by specifying engine='python'.\n",
      "  win_daily_outputs = pd.read_table('C:/Users/s10034cb/Dropbox (The University of Manchester)/Manchester Postdoc/AquaCrop-windows/AquaCropV7.1/OUTP/'+win_filename+'Crop.OUT',\n",
      "C:\\Users\\s10034cb\\AppData\\Local\\Temp\\ipykernel_6868\\341318044.py:74: ParserWarning: Falling back to the 'python' engine because the 'c' engine does not support skipfooter; you can avoid this warning by specifying engine='python'.\n",
      "  win_daily_water = pd.read_table('C:/Users/s10034cb/Dropbox (The University of Manchester)/Manchester Postdoc/AquaCrop-windows/AquaCropV7.1/OUTP/'+win_filename+'WABAL.OUT',\n",
      "C:\\Users\\s10034cb\\AppData\\Local\\Temp\\ipykernel_6868\\341318044.py:166: ParserWarning: Falling back to the 'python' engine because the 'c' engine does not support skipfooter; you can avoid this warning by specifying engine='python'.\n",
      "  win_annual_outputs=pd.read_csv('C:/Users/s10034cb/Dropbox (The University of Manchester)/Manchester Postdoc/AquaCrop-windows/AquaCropV7.1/OUTP/'+win_filename+'Harvest.OUT',\n",
      "C:\\Users\\s10034cb\\AppData\\Local\\Temp\\ipykernel_6868\\341318044.py:210: SettingWithCopyWarning: \n",
      "A value is trying to be set on a copy of a slice from a DataFrame\n",
      "\n",
      "See the caveats in the documentation: https://pandas.pydata.org/pandas-docs/stable/user_guide/indexing.html#returning-a-view-versus-a-copy\n",
      "  temp_a.rename(columns={'Wr' : 'Py_Wr'}, inplace=True)\n",
      "C:\\Users\\s10034cb\\AppData\\Local\\Temp\\ipykernel_6868\\341318044.py:212: SettingWithCopyWarning: \n",
      "A value is trying to be set on a copy of a slice from a DataFrame\n",
      "\n",
      "See the caveats in the documentation: https://pandas.pydata.org/pandas-docs/stable/user_guide/indexing.html#returning-a-view-versus-a-copy\n",
      "  temp_b.rename(columns={'Wr' : 'Win_Wr'}, inplace=True)\n"
     ]
    }
   ],
   "source": [
    "# Hyderabad climate\n",
    "filepath=get_filepath('hyderabad_climate.txt')\n",
    "hyderabad_weather = prepare_weather(filepath)\n",
    "\n",
    "# Hyderabad soil\n",
    "paddy_soil = Soil(soil_type='Paddy')\n",
    "\n",
    "# crop\n",
    "local_rice = Crop('localpaddy', planting_date='08/01')\n",
    "\n",
    "# IWC\n",
    "fc = InitialWaterContent(value=['FC'])\n",
    "\n",
    "# irr management\n",
    "irr_mngt = IrrigationManagement(irrigation_method=0)\n",
    "\n",
    "# field management\n",
    "bunds20 = FieldMngt(bunds=True, z_bund=0.20)\n",
    "\n",
    "model = AquaCropModel(sim_start_time=f'{2000}/08/01',\n",
    "                      sim_end_time=f'{2010}/12/31',\n",
    "                      weather_df=hyderabad_weather,\n",
    "                      soil=paddy_soil,\n",
    "                      crop=local_rice,\n",
    "                      field_management=bunds20,\n",
    "                      irrigation_management=irr_mngt,\n",
    "                      initial_water_content=fc,\n",
    "                      )\n",
    "model.run_model(till_termination=True)\n",
    "\n",
    "# python_output(model, 'Hyd_Rice_1Aug')\n",
    "run_comparison('Hyd_Rice_1Aug3', model)"
   ]
  },
  {
   "cell_type": "code",
   "execution_count": 21,
   "metadata": {},
   "outputs": [
    {
     "name": "stdout",
     "output_type": "stream",
     "text": [
      "1504.8963594486308\n",
      "15.048963594486308\n"
     ]
    },
    {
     "name": "stderr",
     "output_type": "stream",
     "text": [
      "C:\\Users\\s10034cb\\AppData\\Local\\Temp\\ipykernel_6868\\341318044.py:55: ParserWarning: Falling back to the 'python' engine because the 'c' engine does not support skipfooter; you can avoid this warning by specifying engine='python'.\n",
      "  win_daily_outputs = pd.read_table('C:/Users/s10034cb/Dropbox (The University of Manchester)/Manchester Postdoc/AquaCrop-windows/AquaCropV7.1/OUTP/'+win_filename+'Crop.OUT',\n",
      "C:\\Users\\s10034cb\\AppData\\Local\\Temp\\ipykernel_6868\\341318044.py:74: ParserWarning: Falling back to the 'python' engine because the 'c' engine does not support skipfooter; you can avoid this warning by specifying engine='python'.\n",
      "  win_daily_water = pd.read_table('C:/Users/s10034cb/Dropbox (The University of Manchester)/Manchester Postdoc/AquaCrop-windows/AquaCropV7.1/OUTP/'+win_filename+'WABAL.OUT',\n",
      "C:\\Users\\s10034cb\\AppData\\Local\\Temp\\ipykernel_6868\\341318044.py:166: ParserWarning: Falling back to the 'python' engine because the 'c' engine does not support skipfooter; you can avoid this warning by specifying engine='python'.\n",
      "  win_annual_outputs=pd.read_csv('C:/Users/s10034cb/Dropbox (The University of Manchester)/Manchester Postdoc/AquaCrop-windows/AquaCropV7.1/OUTP/'+win_filename+'Harvest.OUT',\n",
      "C:\\Users\\s10034cb\\AppData\\Local\\Temp\\ipykernel_6868\\341318044.py:210: SettingWithCopyWarning: \n",
      "A value is trying to be set on a copy of a slice from a DataFrame\n",
      "\n",
      "See the caveats in the documentation: https://pandas.pydata.org/pandas-docs/stable/user_guide/indexing.html#returning-a-view-versus-a-copy\n",
      "  temp_a.rename(columns={'Wr' : 'Py_Wr'}, inplace=True)\n",
      "C:\\Users\\s10034cb\\AppData\\Local\\Temp\\ipykernel_6868\\341318044.py:212: SettingWithCopyWarning: \n",
      "A value is trying to be set on a copy of a slice from a DataFrame\n",
      "\n",
      "See the caveats in the documentation: https://pandas.pydata.org/pandas-docs/stable/user_guide/indexing.html#returning-a-view-versus-a-copy\n",
      "  temp_b.rename(columns={'Wr' : 'Win_Wr'}, inplace=True)\n"
     ]
    }
   ],
   "source": [
    "# NO BUNDS TEST\n",
    "\n",
    "# crop\n",
    "local_rice = Crop('localpaddy', planting_date='07/15')\n",
    "\n",
    "model = AquaCropModel(sim_start_time=f'{2000}/07/15',\n",
    "                      sim_end_time=f'{2010}/12/31',\n",
    "                      weather_df=hyderabad_weather,\n",
    "                      soil=paddy_soil,\n",
    "                      crop=local_rice,\n",
    "                      irrigation_management=irr_mngt,\n",
    "                      initial_water_content=fc,\n",
    "                      )\n",
    "model.run_model(till_termination=True)\n",
    "\n",
    "# python_output(model, 'Hyd_Rice_15Jul_noBunds')\n",
    "run_comparison('Hyd_Rice_15Jul_noBunds', model)"
   ]
  },
  {
   "cell_type": "code",
   "execution_count": 22,
   "metadata": {},
   "outputs": [
    {
     "name": "stdout",
     "output_type": "stream",
     "text": [
      "1604.5281788826824\n",
      "16.045281788826824\n"
     ]
    },
    {
     "name": "stderr",
     "output_type": "stream",
     "text": [
      "C:\\Users\\s10034cb\\AppData\\Local\\Temp\\ipykernel_6868\\341318044.py:55: ParserWarning: Falling back to the 'python' engine because the 'c' engine does not support skipfooter; you can avoid this warning by specifying engine='python'.\n",
      "  win_daily_outputs = pd.read_table('C:/Users/s10034cb/Dropbox (The University of Manchester)/Manchester Postdoc/AquaCrop-windows/AquaCropV7.1/OUTP/'+win_filename+'Crop.OUT',\n",
      "C:\\Users\\s10034cb\\AppData\\Local\\Temp\\ipykernel_6868\\341318044.py:74: ParserWarning: Falling back to the 'python' engine because the 'c' engine does not support skipfooter; you can avoid this warning by specifying engine='python'.\n",
      "  win_daily_water = pd.read_table('C:/Users/s10034cb/Dropbox (The University of Manchester)/Manchester Postdoc/AquaCrop-windows/AquaCropV7.1/OUTP/'+win_filename+'WABAL.OUT',\n",
      "C:\\Users\\s10034cb\\AppData\\Local\\Temp\\ipykernel_6868\\341318044.py:166: ParserWarning: Falling back to the 'python' engine because the 'c' engine does not support skipfooter; you can avoid this warning by specifying engine='python'.\n",
      "  win_annual_outputs=pd.read_csv('C:/Users/s10034cb/Dropbox (The University of Manchester)/Manchester Postdoc/AquaCrop-windows/AquaCropV7.1/OUTP/'+win_filename+'Harvest.OUT',\n",
      "C:\\Users\\s10034cb\\AppData\\Local\\Temp\\ipykernel_6868\\341318044.py:210: SettingWithCopyWarning: \n",
      "A value is trying to be set on a copy of a slice from a DataFrame\n",
      "\n",
      "See the caveats in the documentation: https://pandas.pydata.org/pandas-docs/stable/user_guide/indexing.html#returning-a-view-versus-a-copy\n",
      "  temp_a.rename(columns={'Wr' : 'Py_Wr'}, inplace=True)\n",
      "C:\\Users\\s10034cb\\AppData\\Local\\Temp\\ipykernel_6868\\341318044.py:212: SettingWithCopyWarning: \n",
      "A value is trying to be set on a copy of a slice from a DataFrame\n",
      "\n",
      "See the caveats in the documentation: https://pandas.pydata.org/pandas-docs/stable/user_guide/indexing.html#returning-a-view-versus-a-copy\n",
      "  temp_b.rename(columns={'Wr' : 'Win_Wr'}, inplace=True)\n"
     ]
    }
   ],
   "source": [
    "# crop\n",
    "local_rice = Crop('localpaddy', planting_date='07/15')\n",
    "\n",
    "model = AquaCropModel(sim_start_time=f'{2000}/07/15',\n",
    "                      sim_end_time=f'{2010}/12/31',\n",
    "                      weather_df=hyderabad_weather,\n",
    "                      soil=paddy_soil,\n",
    "                      crop=local_rice,\n",
    "                      field_management=bunds20,\n",
    "                      irrigation_management=irr_mngt,\n",
    "                      initial_water_content=fc,\n",
    "                      )\n",
    "model.run_model(till_termination=True)\n",
    "\n",
    "# python_output(model, 'Hyd_Rice_15Jul')\n",
    "run_comparison('Hyd_Rice_15Jul_check', model)"
   ]
  },
  {
   "cell_type": "markdown",
   "metadata": {},
   "source": [
    "## Exercise 8.3 Initial conditions"
   ]
  },
  {
   "cell_type": "markdown",
   "metadata": {},
   "source": [
    "Field capacity"
   ]
  },
  {
   "cell_type": "code",
   "execution_count": 23,
   "metadata": {},
   "outputs": [
    {
     "name": "stdout",
     "output_type": "stream",
     "text": [
      "1625.5004211089204\n",
      "16.255004211089204\n"
     ]
    },
    {
     "name": "stderr",
     "output_type": "stream",
     "text": [
      "C:\\Users\\s10034cb\\AppData\\Local\\Temp\\ipykernel_6868\\341318044.py:55: ParserWarning: Falling back to the 'python' engine because the 'c' engine does not support skipfooter; you can avoid this warning by specifying engine='python'.\n",
      "  win_daily_outputs = pd.read_table('C:/Users/s10034cb/Dropbox (The University of Manchester)/Manchester Postdoc/AquaCrop-windows/AquaCropV7.1/OUTP/'+win_filename+'Crop.OUT',\n",
      "C:\\Users\\s10034cb\\AppData\\Local\\Temp\\ipykernel_6868\\341318044.py:74: ParserWarning: Falling back to the 'python' engine because the 'c' engine does not support skipfooter; you can avoid this warning by specifying engine='python'.\n",
      "  win_daily_water = pd.read_table('C:/Users/s10034cb/Dropbox (The University of Manchester)/Manchester Postdoc/AquaCrop-windows/AquaCropV7.1/OUTP/'+win_filename+'WABAL.OUT',\n",
      "C:\\Users\\s10034cb\\AppData\\Local\\Temp\\ipykernel_6868\\341318044.py:166: ParserWarning: Falling back to the 'python' engine because the 'c' engine does not support skipfooter; you can avoid this warning by specifying engine='python'.\n",
      "  win_annual_outputs=pd.read_csv('C:/Users/s10034cb/Dropbox (The University of Manchester)/Manchester Postdoc/AquaCrop-windows/AquaCropV7.1/OUTP/'+win_filename+'Harvest.OUT',\n",
      "C:\\Users\\s10034cb\\AppData\\Local\\Temp\\ipykernel_6868\\341318044.py:210: SettingWithCopyWarning: \n",
      "A value is trying to be set on a copy of a slice from a DataFrame\n",
      "\n",
      "See the caveats in the documentation: https://pandas.pydata.org/pandas-docs/stable/user_guide/indexing.html#returning-a-view-versus-a-copy\n",
      "  temp_a.rename(columns={'Wr' : 'Py_Wr'}, inplace=True)\n",
      "C:\\Users\\s10034cb\\AppData\\Local\\Temp\\ipykernel_6868\\341318044.py:212: SettingWithCopyWarning: \n",
      "A value is trying to be set on a copy of a slice from a DataFrame\n",
      "\n",
      "See the caveats in the documentation: https://pandas.pydata.org/pandas-docs/stable/user_guide/indexing.html#returning-a-view-versus-a-copy\n",
      "  temp_b.rename(columns={'Wr' : 'Win_Wr'}, inplace=True)\n"
     ]
    }
   ],
   "source": [
    "# Hyderabad climate\n",
    "filepath=get_filepath('hyderabad_climate.txt')\n",
    "hyderabad_weather = prepare_weather(filepath)\n",
    "\n",
    "# Local Brussels soil\n",
    "paddy_soil = Soil(soil_type='Paddy')\n",
    "\n",
    "# crop\n",
    "local_rice = Crop('localpaddy', planting_date='08/01')\n",
    "\n",
    "# IWC\n",
    "fc = InitialWaterContent(value=['FC'])\n",
    "\n",
    "# irr management\n",
    "irr_mngt = IrrigationManagement(irrigation_method=0)\n",
    "\n",
    "model = AquaCropModel(sim_start_time=f'{2000}/08/01',\n",
    "                      sim_end_time=f'{2010}/12/31',\n",
    "                      weather_df=hyderabad_weather,\n",
    "                      soil=paddy_soil,\n",
    "                      crop=local_rice,\n",
    "                      irrigation_management=irr_mngt,\n",
    "                      field_management=bunds20,\n",
    "                      initial_water_content=fc,\n",
    "                      )\n",
    "model.run_model(till_termination=True)\n",
    "\n",
    "# python_output(model, 'Hyd_Rice_FC')\n",
    "run_comparison('Hyd_Rice_FC3', model)"
   ]
  },
  {
   "cell_type": "markdown",
   "metadata": {},
   "source": [
    "30% TAW"
   ]
  },
  {
   "cell_type": "code",
   "execution_count": 24,
   "metadata": {},
   "outputs": [
    {
     "name": "stdout",
     "output_type": "stream",
     "text": [
      "1624.2501984040168\n",
      "16.242501984040167\n"
     ]
    },
    {
     "name": "stderr",
     "output_type": "stream",
     "text": [
      "C:\\Users\\s10034cb\\AppData\\Local\\Temp\\ipykernel_6868\\341318044.py:55: ParserWarning: Falling back to the 'python' engine because the 'c' engine does not support skipfooter; you can avoid this warning by specifying engine='python'.\n",
      "  win_daily_outputs = pd.read_table('C:/Users/s10034cb/Dropbox (The University of Manchester)/Manchester Postdoc/AquaCrop-windows/AquaCropV7.1/OUTP/'+win_filename+'Crop.OUT',\n",
      "C:\\Users\\s10034cb\\AppData\\Local\\Temp\\ipykernel_6868\\341318044.py:74: ParserWarning: Falling back to the 'python' engine because the 'c' engine does not support skipfooter; you can avoid this warning by specifying engine='python'.\n",
      "  win_daily_water = pd.read_table('C:/Users/s10034cb/Dropbox (The University of Manchester)/Manchester Postdoc/AquaCrop-windows/AquaCropV7.1/OUTP/'+win_filename+'WABAL.OUT',\n",
      "C:\\Users\\s10034cb\\AppData\\Local\\Temp\\ipykernel_6868\\341318044.py:166: ParserWarning: Falling back to the 'python' engine because the 'c' engine does not support skipfooter; you can avoid this warning by specifying engine='python'.\n",
      "  win_annual_outputs=pd.read_csv('C:/Users/s10034cb/Dropbox (The University of Manchester)/Manchester Postdoc/AquaCrop-windows/AquaCropV7.1/OUTP/'+win_filename+'Harvest.OUT',\n",
      "C:\\Users\\s10034cb\\AppData\\Local\\Temp\\ipykernel_6868\\341318044.py:210: SettingWithCopyWarning: \n",
      "A value is trying to be set on a copy of a slice from a DataFrame\n",
      "\n",
      "See the caveats in the documentation: https://pandas.pydata.org/pandas-docs/stable/user_guide/indexing.html#returning-a-view-versus-a-copy\n",
      "  temp_a.rename(columns={'Wr' : 'Py_Wr'}, inplace=True)\n",
      "C:\\Users\\s10034cb\\AppData\\Local\\Temp\\ipykernel_6868\\341318044.py:212: SettingWithCopyWarning: \n",
      "A value is trying to be set on a copy of a slice from a DataFrame\n",
      "\n",
      "See the caveats in the documentation: https://pandas.pydata.org/pandas-docs/stable/user_guide/indexing.html#returning-a-view-versus-a-copy\n",
      "  temp_b.rename(columns={'Wr' : 'Win_Wr'}, inplace=True)\n"
     ]
    }
   ],
   "source": [
    "# IWC\n",
    "taw30 = InitialWaterContent('Pct','Layer',[1,2],[30,30])\n",
    "model = AquaCropModel(sim_start_time=f'{2000}/01/01',\n",
    "                      sim_end_time=f'{2010}/12/31',\n",
    "                      weather_df=hyderabad_weather,\n",
    "                      soil=paddy_soil,\n",
    "                      crop=local_rice,\n",
    "                      irrigation_management=irr_mngt,\n",
    "                      field_management=bunds20,\n",
    "                      initial_water_content=taw30,\n",
    "                      )\n",
    "model.run_model(till_termination=True)\n",
    "\n",
    "# python_output(model, 'Hyd_Rice_30TAW')\n",
    "run_comparison('Hyd_Rice_30TAW', model)"
   ]
  },
  {
   "cell_type": "markdown",
   "metadata": {},
   "source": [
    "75% TAW"
   ]
  },
  {
   "cell_type": "code",
   "execution_count": 25,
   "metadata": {},
   "outputs": [
    {
     "name": "stdout",
     "output_type": "stream",
     "text": [
      "1631.4289806017036\n",
      "16.314289806017037\n"
     ]
    },
    {
     "name": "stderr",
     "output_type": "stream",
     "text": [
      "C:\\Users\\s10034cb\\AppData\\Local\\Temp\\ipykernel_6868\\341318044.py:55: ParserWarning: Falling back to the 'python' engine because the 'c' engine does not support skipfooter; you can avoid this warning by specifying engine='python'.\n",
      "  win_daily_outputs = pd.read_table('C:/Users/s10034cb/Dropbox (The University of Manchester)/Manchester Postdoc/AquaCrop-windows/AquaCropV7.1/OUTP/'+win_filename+'Crop.OUT',\n",
      "C:\\Users\\s10034cb\\AppData\\Local\\Temp\\ipykernel_6868\\341318044.py:74: ParserWarning: Falling back to the 'python' engine because the 'c' engine does not support skipfooter; you can avoid this warning by specifying engine='python'.\n",
      "  win_daily_water = pd.read_table('C:/Users/s10034cb/Dropbox (The University of Manchester)/Manchester Postdoc/AquaCrop-windows/AquaCropV7.1/OUTP/'+win_filename+'WABAL.OUT',\n",
      "C:\\Users\\s10034cb\\AppData\\Local\\Temp\\ipykernel_6868\\341318044.py:166: ParserWarning: Falling back to the 'python' engine because the 'c' engine does not support skipfooter; you can avoid this warning by specifying engine='python'.\n",
      "  win_annual_outputs=pd.read_csv('C:/Users/s10034cb/Dropbox (The University of Manchester)/Manchester Postdoc/AquaCrop-windows/AquaCropV7.1/OUTP/'+win_filename+'Harvest.OUT',\n",
      "C:\\Users\\s10034cb\\AppData\\Local\\Temp\\ipykernel_6868\\341318044.py:210: SettingWithCopyWarning: \n",
      "A value is trying to be set on a copy of a slice from a DataFrame\n",
      "\n",
      "See the caveats in the documentation: https://pandas.pydata.org/pandas-docs/stable/user_guide/indexing.html#returning-a-view-versus-a-copy\n",
      "  temp_a.rename(columns={'Wr' : 'Py_Wr'}, inplace=True)\n",
      "C:\\Users\\s10034cb\\AppData\\Local\\Temp\\ipykernel_6868\\341318044.py:212: SettingWithCopyWarning: \n",
      "A value is trying to be set on a copy of a slice from a DataFrame\n",
      "\n",
      "See the caveats in the documentation: https://pandas.pydata.org/pandas-docs/stable/user_guide/indexing.html#returning-a-view-versus-a-copy\n",
      "  temp_b.rename(columns={'Wr' : 'Win_Wr'}, inplace=True)\n"
     ]
    }
   ],
   "source": [
    "# IWC\n",
    "taw75 = InitialWaterContent('Pct','Layer',[1,2],[75,75])\n",
    "\n",
    "model = AquaCropModel(sim_start_time=f'{2000}/01/01',\n",
    "                      sim_end_time=f'{2010}/12/31',\n",
    "                      weather_df=hyderabad_weather,\n",
    "                      soil=paddy_soil,\n",
    "                      crop=local_rice,\n",
    "                      field_management=bunds20,\n",
    "                      irrigation_management=irr_mngt,\n",
    "                      initial_water_content=taw75,\n",
    "                      )\n",
    "model.run_model(till_termination=True)\n",
    "\n",
    "# python_output(model, 'Hyd_Rice_75TAW')\n",
    "run_comparison('Hyd_Rice_75TAW', model)"
   ]
  },
  {
   "cell_type": "markdown",
   "metadata": {},
   "source": [
    "Wet Top"
   ]
  },
  {
   "cell_type": "code",
   "execution_count": 26,
   "metadata": {},
   "outputs": [
    {
     "name": "stdout",
     "output_type": "stream",
     "text": [
      "1631.8057827946927\n",
      "16.318057827946927\n"
     ]
    },
    {
     "name": "stderr",
     "output_type": "stream",
     "text": [
      "C:\\Users\\s10034cb\\AppData\\Local\\Temp\\ipykernel_6868\\341318044.py:55: ParserWarning: Falling back to the 'python' engine because the 'c' engine does not support skipfooter; you can avoid this warning by specifying engine='python'.\n",
      "  win_daily_outputs = pd.read_table('C:/Users/s10034cb/Dropbox (The University of Manchester)/Manchester Postdoc/AquaCrop-windows/AquaCropV7.1/OUTP/'+win_filename+'Crop.OUT',\n",
      "C:\\Users\\s10034cb\\AppData\\Local\\Temp\\ipykernel_6868\\341318044.py:74: ParserWarning: Falling back to the 'python' engine because the 'c' engine does not support skipfooter; you can avoid this warning by specifying engine='python'.\n",
      "  win_daily_water = pd.read_table('C:/Users/s10034cb/Dropbox (The University of Manchester)/Manchester Postdoc/AquaCrop-windows/AquaCropV7.1/OUTP/'+win_filename+'WABAL.OUT',\n",
      "C:\\Users\\s10034cb\\AppData\\Local\\Temp\\ipykernel_6868\\341318044.py:166: ParserWarning: Falling back to the 'python' engine because the 'c' engine does not support skipfooter; you can avoid this warning by specifying engine='python'.\n",
      "  win_annual_outputs=pd.read_csv('C:/Users/s10034cb/Dropbox (The University of Manchester)/Manchester Postdoc/AquaCrop-windows/AquaCropV7.1/OUTP/'+win_filename+'Harvest.OUT',\n",
      "C:\\Users\\s10034cb\\AppData\\Local\\Temp\\ipykernel_6868\\341318044.py:210: SettingWithCopyWarning: \n",
      "A value is trying to be set on a copy of a slice from a DataFrame\n",
      "\n",
      "See the caveats in the documentation: https://pandas.pydata.org/pandas-docs/stable/user_guide/indexing.html#returning-a-view-versus-a-copy\n",
      "  temp_a.rename(columns={'Wr' : 'Py_Wr'}, inplace=True)\n",
      "C:\\Users\\s10034cb\\AppData\\Local\\Temp\\ipykernel_6868\\341318044.py:212: SettingWithCopyWarning: \n",
      "A value is trying to be set on a copy of a slice from a DataFrame\n",
      "\n",
      "See the caveats in the documentation: https://pandas.pydata.org/pandas-docs/stable/user_guide/indexing.html#returning-a-view-versus-a-copy\n",
      "  temp_b.rename(columns={'Wr' : 'Win_Wr'}, inplace=True)\n"
     ]
    }
   ],
   "source": [
    "# IWC\n",
    "wetTop = InitialWaterContent('Prop','Depth',[0.5,2],['FC','WP'])\n",
    "wetTopManual = InitialWaterContent('Pct', 'Depth',[0.5,2], [50, 30])\n",
    "\n",
    "model = AquaCropModel(sim_start_time=f'{2000}/08/01',\n",
    "                      sim_end_time=f'{2010}/12/31',\n",
    "                      weather_df=hyderabad_weather,\n",
    "                      soil=paddy_soil,\n",
    "                      crop=local_rice,\n",
    "                      field_management=bunds20,\n",
    "                      irrigation_management=irr_mngt,\n",
    "                      initial_water_content=wetTopManual,\n",
    "                      )\n",
    "model.run_model(till_termination=True)\n",
    "\n",
    "# python_output(model, 'Hyd_Rice_wetTop')\n",
    "run_comparison('Hyd_Rice_wetTop', model)"
   ]
  },
  {
   "cell_type": "markdown",
   "metadata": {},
   "source": [
    "## Exercise 8.7 Irr. req. with shallow groundwater table"
   ]
  },
  {
   "cell_type": "markdown",
   "metadata": {},
   "source": [
    "### a\\) 1m groundwater"
   ]
  },
  {
   "cell_type": "code",
   "execution_count": 27,
   "metadata": {},
   "outputs": [
    {
     "name": "stdout",
     "output_type": "stream",
     "text": [
      "1747.4100688628628\n",
      "17.474100688628628\n"
     ]
    },
    {
     "name": "stderr",
     "output_type": "stream",
     "text": [
      "C:\\Users\\s10034cb\\AppData\\Local\\Temp\\ipykernel_6868\\341318044.py:55: ParserWarning: Falling back to the 'python' engine because the 'c' engine does not support skipfooter; you can avoid this warning by specifying engine='python'.\n",
      "  win_daily_outputs = pd.read_table('C:/Users/s10034cb/Dropbox (The University of Manchester)/Manchester Postdoc/AquaCrop-windows/AquaCropV7.1/OUTP/'+win_filename+'Crop.OUT',\n",
      "C:\\Users\\s10034cb\\AppData\\Local\\Temp\\ipykernel_6868\\341318044.py:74: ParserWarning: Falling back to the 'python' engine because the 'c' engine does not support skipfooter; you can avoid this warning by specifying engine='python'.\n",
      "  win_daily_water = pd.read_table('C:/Users/s10034cb/Dropbox (The University of Manchester)/Manchester Postdoc/AquaCrop-windows/AquaCropV7.1/OUTP/'+win_filename+'WABAL.OUT',\n",
      "C:\\Users\\s10034cb\\AppData\\Local\\Temp\\ipykernel_6868\\341318044.py:166: ParserWarning: Falling back to the 'python' engine because the 'c' engine does not support skipfooter; you can avoid this warning by specifying engine='python'.\n",
      "  win_annual_outputs=pd.read_csv('C:/Users/s10034cb/Dropbox (The University of Manchester)/Manchester Postdoc/AquaCrop-windows/AquaCropV7.1/OUTP/'+win_filename+'Harvest.OUT',\n",
      "C:\\Users\\s10034cb\\AppData\\Local\\Temp\\ipykernel_6868\\341318044.py:210: SettingWithCopyWarning: \n",
      "A value is trying to be set on a copy of a slice from a DataFrame\n",
      "\n",
      "See the caveats in the documentation: https://pandas.pydata.org/pandas-docs/stable/user_guide/indexing.html#returning-a-view-versus-a-copy\n",
      "  temp_a.rename(columns={'Wr' : 'Py_Wr'}, inplace=True)\n",
      "C:\\Users\\s10034cb\\AppData\\Local\\Temp\\ipykernel_6868\\341318044.py:212: SettingWithCopyWarning: \n",
      "A value is trying to be set on a copy of a slice from a DataFrame\n",
      "\n",
      "See the caveats in the documentation: https://pandas.pydata.org/pandas-docs/stable/user_guide/indexing.html#returning-a-view-versus-a-copy\n",
      "  temp_b.rename(columns={'Wr' : 'Win_Wr'}, inplace=True)\n"
     ]
    }
   ],
   "source": [
    "# Hyderabad climate\n",
    "filepath=get_filepath('hyderabad_climate.txt')\n",
    "hyderabad_weather = prepare_weather(filepath)\n",
    "\n",
    "# Exercise states 30% of RAW, that's what I have input into the irrigation file in AQ-Win\n",
    "# AQ-Py only deals with TAW, not RAW, so a conversion must be done.\n",
    "# Conversion is based on the p_up2 attribute of crop, reflects proportion of TAW that is RAW.\n",
    "# BUT Win works from top down, whereas Py works from bottom up when measuring SMT\n",
    "# In this case (WheatGDD) has p_up2 of 0.65 so 30 * 0.65 = 0.195\n",
    "# Then invert the percentage to get bottom-up value: 1 - 0.195 = 80.5 % of TAW\n",
    "net_irr = IrrigationManagement(irrigation_method=4,NetIrrSMT=80.5)\n",
    "clay_loam = Soil(soil_type='ClayLoam')\n",
    "wheat_nov = Crop('HydWheatGDD', planting_date='11/01')\n",
    "fc = InitialWaterContent(value=['FC'])\n",
    "groundwater_1m = GroundWater('Y','Constant',dates=[f'{2000}/09/01'], values=[1])\n",
    "\n",
    "model = AquaCropModel(sim_start_time=f'{2000}/09/01',\n",
    "                      sim_end_time=f'{2010}/12/31',\n",
    "                      weather_df=hyderabad_weather,\n",
    "                      soil=clay_loam,\n",
    "                      crop=wheat_nov,\n",
    "                      irrigation_management=net_irr,\n",
    "                      initial_water_content=fc,\n",
    "                      groundwater=groundwater_1m,\n",
    "                      )\n",
    "model.run_model(till_termination=True)\n",
    "\n",
    "# python_output(model, 'Hyd_W_NetIrr_GW1m')\n",
    "run_comparison('Hyd_W_NetIrr_GW1m_2', model)"
   ]
  },
  {
   "cell_type": "markdown",
   "metadata": {},
   "source": [
    "### b\\) 2m groundwater"
   ]
  },
  {
   "cell_type": "code",
   "execution_count": 28,
   "metadata": {},
   "outputs": [
    {
     "name": "stdout",
     "output_type": "stream",
     "text": [
      "1747.4100688628628\n",
      "17.474100688628628\n"
     ]
    },
    {
     "name": "stderr",
     "output_type": "stream",
     "text": [
      "C:\\Users\\s10034cb\\AppData\\Local\\Temp\\ipykernel_6868\\341318044.py:55: ParserWarning: Falling back to the 'python' engine because the 'c' engine does not support skipfooter; you can avoid this warning by specifying engine='python'.\n",
      "  win_daily_outputs = pd.read_table('C:/Users/s10034cb/Dropbox (The University of Manchester)/Manchester Postdoc/AquaCrop-windows/AquaCropV7.1/OUTP/'+win_filename+'Crop.OUT',\n",
      "C:\\Users\\s10034cb\\AppData\\Local\\Temp\\ipykernel_6868\\341318044.py:74: ParserWarning: Falling back to the 'python' engine because the 'c' engine does not support skipfooter; you can avoid this warning by specifying engine='python'.\n",
      "  win_daily_water = pd.read_table('C:/Users/s10034cb/Dropbox (The University of Manchester)/Manchester Postdoc/AquaCrop-windows/AquaCropV7.1/OUTP/'+win_filename+'WABAL.OUT',\n",
      "C:\\Users\\s10034cb\\AppData\\Local\\Temp\\ipykernel_6868\\341318044.py:166: ParserWarning: Falling back to the 'python' engine because the 'c' engine does not support skipfooter; you can avoid this warning by specifying engine='python'.\n",
      "  win_annual_outputs=pd.read_csv('C:/Users/s10034cb/Dropbox (The University of Manchester)/Manchester Postdoc/AquaCrop-windows/AquaCropV7.1/OUTP/'+win_filename+'Harvest.OUT',\n",
      "C:\\Users\\s10034cb\\AppData\\Local\\Temp\\ipykernel_6868\\341318044.py:210: SettingWithCopyWarning: \n",
      "A value is trying to be set on a copy of a slice from a DataFrame\n",
      "\n",
      "See the caveats in the documentation: https://pandas.pydata.org/pandas-docs/stable/user_guide/indexing.html#returning-a-view-versus-a-copy\n",
      "  temp_a.rename(columns={'Wr' : 'Py_Wr'}, inplace=True)\n",
      "C:\\Users\\s10034cb\\AppData\\Local\\Temp\\ipykernel_6868\\341318044.py:212: SettingWithCopyWarning: \n",
      "A value is trying to be set on a copy of a slice from a DataFrame\n",
      "\n",
      "See the caveats in the documentation: https://pandas.pydata.org/pandas-docs/stable/user_guide/indexing.html#returning-a-view-versus-a-copy\n",
      "  temp_b.rename(columns={'Wr' : 'Win_Wr'}, inplace=True)\n"
     ]
    }
   ],
   "source": [
    "groundwater_2m = GroundWater('Y','Constant',dates=[f'{2000}/09/01'], values=[2])\n",
    "\n",
    "model = AquaCropModel(sim_start_time=f'{2000}/09/01',\n",
    "                      sim_end_time=f'{2010}/12/31',\n",
    "                      weather_df=hyderabad_weather,\n",
    "                      soil=clay_loam,\n",
    "                      crop=wheat_nov,\n",
    "                      irrigation_management=net_irr,\n",
    "                      initial_water_content=fc,\n",
    "                      groundwater=groundwater_2m,\n",
    "                      )\n",
    "model.run_model(till_termination=True)\n",
    "\n",
    "# python_output(model, 'Hyd_W_NetIrr_GW2m_fixedStart')\n",
    "run_comparison('Hyd_W_NetIrr_GW2m_2', model)"
   ]
  },
  {
   "cell_type": "markdown",
   "metadata": {},
   "source": [
    "# Exercise 9"
   ]
  },
  {
   "cell_type": "markdown",
   "metadata": {},
   "source": [
    "## Exercise 9.1 Potato in Brussels"
   ]
  },
  {
   "cell_type": "code",
   "execution_count": 29,
   "metadata": {},
   "outputs": [
    {
     "name": "stdout",
     "output_type": "stream",
     "text": [
      "1390.9983956694628\n",
      "13.909983956694628\n"
     ]
    },
    {
     "name": "stderr",
     "output_type": "stream",
     "text": [
      "C:\\Users\\s10034cb\\AppData\\Local\\Temp\\ipykernel_6868\\341318044.py:55: ParserWarning: Falling back to the 'python' engine because the 'c' engine does not support skipfooter; you can avoid this warning by specifying engine='python'.\n",
      "  win_daily_outputs = pd.read_table('C:/Users/s10034cb/Dropbox (The University of Manchester)/Manchester Postdoc/AquaCrop-windows/AquaCropV7.1/OUTP/'+win_filename+'Crop.OUT',\n",
      "C:\\Users\\s10034cb\\AppData\\Local\\Temp\\ipykernel_6868\\341318044.py:74: ParserWarning: Falling back to the 'python' engine because the 'c' engine does not support skipfooter; you can avoid this warning by specifying engine='python'.\n",
      "  win_daily_water = pd.read_table('C:/Users/s10034cb/Dropbox (The University of Manchester)/Manchester Postdoc/AquaCrop-windows/AquaCropV7.1/OUTP/'+win_filename+'WABAL.OUT',\n",
      "C:\\Users\\s10034cb\\AppData\\Local\\Temp\\ipykernel_6868\\341318044.py:166: ParserWarning: Falling back to the 'python' engine because the 'c' engine does not support skipfooter; you can avoid this warning by specifying engine='python'.\n",
      "  win_annual_outputs=pd.read_csv('C:/Users/s10034cb/Dropbox (The University of Manchester)/Manchester Postdoc/AquaCrop-windows/AquaCropV7.1/OUTP/'+win_filename+'Harvest.OUT',\n",
      "C:\\Users\\s10034cb\\AppData\\Local\\Temp\\ipykernel_6868\\341318044.py:210: SettingWithCopyWarning: \n",
      "A value is trying to be set on a copy of a slice from a DataFrame\n",
      "\n",
      "See the caveats in the documentation: https://pandas.pydata.org/pandas-docs/stable/user_guide/indexing.html#returning-a-view-versus-a-copy\n",
      "  temp_a.rename(columns={'Wr' : 'Py_Wr'}, inplace=True)\n",
      "C:\\Users\\s10034cb\\AppData\\Local\\Temp\\ipykernel_6868\\341318044.py:212: SettingWithCopyWarning: \n",
      "A value is trying to be set on a copy of a slice from a DataFrame\n",
      "\n",
      "See the caveats in the documentation: https://pandas.pydata.org/pandas-docs/stable/user_guide/indexing.html#returning-a-view-versus-a-copy\n",
      "  temp_b.rename(columns={'Wr' : 'Win_Wr'}, inplace=True)\n"
     ]
    }
   ],
   "source": [
    "# Brussels climate\n",
    "filepath=get_filepath('brussels_climate.txt')\n",
    "brussels_weather = prepare_weather(filepath)\n",
    "\n",
    "# Local Brussels soil\n",
    "loam_soil = Soil(soil_type='Loam')\n",
    "\n",
    "# crops\n",
    "potato = Crop('PotatoLocalGDD', planting_date='04/25')\n",
    "\n",
    "# IWC\n",
    "fc = InitialWaterContent(value=['FC'])\n",
    "\n",
    "# irr management\n",
    "irr_mngt = IrrigationManagement(irrigation_method=0)\n",
    "\n",
    "model = AquaCropModel(sim_start_time=f'{1976}/04/25', # 1976\n",
    "                      sim_end_time=f'{2005}/12/31', # 2005\n",
    "                      weather_df=brussels_weather,\n",
    "                      soil=loam_soil,\n",
    "                      crop=potato,\n",
    "                      irrigation_management=irr_mngt,\n",
    "                      initial_water_content=fc,\n",
    "                      )\n",
    "model.run_model(till_termination=True)\n",
    "\n",
    "python_output(model, 'Bru_Pot')\n",
    "run_comparison('Bru_Pot3', model)\n",
    "\n",
    "#daily_outputs = run_comparison_v7('Bru_Pot', model)"
   ]
  },
  {
   "cell_type": "markdown",
   "metadata": {},
   "source": [
    "## 9.4 Net irrigation requirement"
   ]
  },
  {
   "cell_type": "code",
   "execution_count": 30,
   "metadata": {},
   "outputs": [
    {
     "name": "stdout",
     "output_type": "stream",
     "text": [
      "1451.4529795565302\n",
      "14.514529795565302\n"
     ]
    },
    {
     "name": "stderr",
     "output_type": "stream",
     "text": [
      "C:\\Users\\s10034cb\\AppData\\Local\\Temp\\ipykernel_6868\\341318044.py:55: ParserWarning: Falling back to the 'python' engine because the 'c' engine does not support skipfooter; you can avoid this warning by specifying engine='python'.\n",
      "  win_daily_outputs = pd.read_table('C:/Users/s10034cb/Dropbox (The University of Manchester)/Manchester Postdoc/AquaCrop-windows/AquaCropV7.1/OUTP/'+win_filename+'Crop.OUT',\n",
      "C:\\Users\\s10034cb\\AppData\\Local\\Temp\\ipykernel_6868\\341318044.py:74: ParserWarning: Falling back to the 'python' engine because the 'c' engine does not support skipfooter; you can avoid this warning by specifying engine='python'.\n",
      "  win_daily_water = pd.read_table('C:/Users/s10034cb/Dropbox (The University of Manchester)/Manchester Postdoc/AquaCrop-windows/AquaCropV7.1/OUTP/'+win_filename+'WABAL.OUT',\n",
      "C:\\Users\\s10034cb\\AppData\\Local\\Temp\\ipykernel_6868\\341318044.py:166: ParserWarning: Falling back to the 'python' engine because the 'c' engine does not support skipfooter; you can avoid this warning by specifying engine='python'.\n",
      "  win_annual_outputs=pd.read_csv('C:/Users/s10034cb/Dropbox (The University of Manchester)/Manchester Postdoc/AquaCrop-windows/AquaCropV7.1/OUTP/'+win_filename+'Harvest.OUT',\n",
      "C:\\Users\\s10034cb\\AppData\\Local\\Temp\\ipykernel_6868\\341318044.py:210: SettingWithCopyWarning: \n",
      "A value is trying to be set on a copy of a slice from a DataFrame\n",
      "\n",
      "See the caveats in the documentation: https://pandas.pydata.org/pandas-docs/stable/user_guide/indexing.html#returning-a-view-versus-a-copy\n",
      "  temp_a.rename(columns={'Wr' : 'Py_Wr'}, inplace=True)\n",
      "C:\\Users\\s10034cb\\AppData\\Local\\Temp\\ipykernel_6868\\341318044.py:212: SettingWithCopyWarning: \n",
      "A value is trying to be set on a copy of a slice from a DataFrame\n",
      "\n",
      "See the caveats in the documentation: https://pandas.pydata.org/pandas-docs/stable/user_guide/indexing.html#returning-a-view-versus-a-copy\n",
      "  temp_b.rename(columns={'Wr' : 'Win_Wr'}, inplace=True)\n"
     ]
    }
   ],
   "source": [
    "# Exercise states 35% of RAW, that's what I have input into the irrigation file in AQ-Win\n",
    "# AQ-Py only deals with TAW, not RAW, so a conversion must be done.\n",
    "# Conversion is based on the p_up2 attribute of crop, reflects proportion of TAW that is RAW.\n",
    "# In this case (PotatoLocalGDD) has p_up2 of 0.6 so 35 * 0.6 = 21\n",
    "\n",
    "net_irr = IrrigationManagement(irrigation_method=4,NetIrrSMT=79, MaxIrr=40)\n",
    "\n",
    "model = AquaCropModel(sim_start_time=f'{1976}/03/01',\n",
    "                      sim_end_time=f'{2005}/12/31',\n",
    "                      weather_df=brussels_weather,\n",
    "                      soil=loam_soil,\n",
    "                      crop=potato,\n",
    "                      irrigation_management=net_irr,\n",
    "                      initial_water_content=fc,\n",
    "                      )\n",
    "model.run_model(till_termination=True)\n",
    "\n",
    "# python_output(model, 'Bru_Pot_NetIrr2')\n",
    "run_comparison('Bru_Pot_NetIrr2', model)"
   ]
  },
  {
   "cell_type": "markdown",
   "metadata": {},
   "source": [
    "## 9.5 Generating irrigation schedules"
   ]
  },
  {
   "cell_type": "code",
   "execution_count": 31,
   "metadata": {},
   "outputs": [],
   "source": [
    "# function to return the irrigation depth to apply on next day\n",
    "def get_depth(model, taw):    \n",
    "    t = model._clock_struct.time_step_counter # current timestep\n",
    "    # print(f'Depletion = {model._init_cond.depletion}, model TAW = {model._init_cond.taw}, target TAW: {taw}')\n",
    "    # if t>0 and model._init_cond.depletion/model._init_cond.taw > taw:\n",
    "    if t>0 and model._init_cond.taw < taw:\n",
    "        depth=15\n",
    "    else:\n",
    "        depth=0\n",
    "\n",
    "    return depth"
   ]
  },
  {
   "cell_type": "markdown",
   "metadata": {},
   "source": [
    "Rainfed test"
   ]
  },
  {
   "cell_type": "code",
   "execution_count": 32,
   "metadata": {},
   "outputs": [
    {
     "name": "stdout",
     "output_type": "stream",
     "text": [
      "1272.2030826510295\n",
      "12.722030826510295\n"
     ]
    },
    {
     "name": "stderr",
     "output_type": "stream",
     "text": [
      "C:\\Users\\s10034cb\\AppData\\Local\\Temp\\ipykernel_6868\\341318044.py:55: ParserWarning: Falling back to the 'python' engine because the 'c' engine does not support skipfooter; you can avoid this warning by specifying engine='python'.\n",
      "  win_daily_outputs = pd.read_table('C:/Users/s10034cb/Dropbox (The University of Manchester)/Manchester Postdoc/AquaCrop-windows/AquaCropV7.1/OUTP/'+win_filename+'Crop.OUT',\n",
      "C:\\Users\\s10034cb\\AppData\\Local\\Temp\\ipykernel_6868\\341318044.py:74: ParserWarning: Falling back to the 'python' engine because the 'c' engine does not support skipfooter; you can avoid this warning by specifying engine='python'.\n",
      "  win_daily_water = pd.read_table('C:/Users/s10034cb/Dropbox (The University of Manchester)/Manchester Postdoc/AquaCrop-windows/AquaCropV7.1/OUTP/'+win_filename+'WABAL.OUT',\n",
      "C:\\Users\\s10034cb\\AppData\\Local\\Temp\\ipykernel_6868\\341318044.py:166: ParserWarning: Falling back to the 'python' engine because the 'c' engine does not support skipfooter; you can avoid this warning by specifying engine='python'.\n",
      "  win_annual_outputs=pd.read_csv('C:/Users/s10034cb/Dropbox (The University of Manchester)/Manchester Postdoc/AquaCrop-windows/AquaCropV7.1/OUTP/'+win_filename+'Harvest.OUT',\n",
      "C:\\Users\\s10034cb\\AppData\\Local\\Temp\\ipykernel_6868\\341318044.py:210: SettingWithCopyWarning: \n",
      "A value is trying to be set on a copy of a slice from a DataFrame\n",
      "\n",
      "See the caveats in the documentation: https://pandas.pydata.org/pandas-docs/stable/user_guide/indexing.html#returning-a-view-versus-a-copy\n",
      "  temp_a.rename(columns={'Wr' : 'Py_Wr'}, inplace=True)\n",
      "C:\\Users\\s10034cb\\AppData\\Local\\Temp\\ipykernel_6868\\341318044.py:212: SettingWithCopyWarning: \n",
      "A value is trying to be set on a copy of a slice from a DataFrame\n",
      "\n",
      "See the caveats in the documentation: https://pandas.pydata.org/pandas-docs/stable/user_guide/indexing.html#returning-a-view-versus-a-copy\n",
      "  temp_b.rename(columns={'Wr' : 'Win_Wr'}, inplace=True)\n"
     ]
    }
   ],
   "source": [
    "# Loamy sand soil\n",
    "loamy_sand = Soil(soil_type='LoamySand')\n",
    "\n",
    "# crop\n",
    "potato = Crop('PotatoLocalGDD', planting_date='04/25')\n",
    "\n",
    "# create model with IrrMethod= Constant depth\n",
    "model = AquaCropModel(sim_start_time=f'{1976}/04/25',\n",
    "                      sim_end_time=f'{2005}/12/31',\n",
    "                      weather_df=brussels_weather,\n",
    "                      soil=loamy_sand,\n",
    "                      crop=potato,\n",
    "                      irrigation_management=IrrigationManagement(irrigation_method=0),\n",
    "                      initial_water_content=fc,\n",
    "                      )\n",
    "                       \n",
    "model.run_model(till_termination=True)\n",
    "# model._initialize()\n",
    "\n",
    "# while model._clock_struct.model_is_finished is False:    \n",
    "#     # get depth to apply, RAW = 36%, p_up2 = 0.6 so TAW = 21.6, inverse is 78.4\n",
    "#     depth=get_depth(model,78.4)\n",
    "    \n",
    "#     model._param_struct.IrrMngt.depth=depth\n",
    "\n",
    "#     model.run_model(initialize_model=False)\n",
    "\n",
    "# python_output(model, 'Bru_Pot_Rainfed')\n",
    "run_comparison('Bru_Pot_Rainfed', model)"
   ]
  },
  {
   "cell_type": "markdown",
   "metadata": {},
   "source": [
    "36% RAW allowable depletion"
   ]
  },
  {
   "cell_type": "code",
   "execution_count": 33,
   "metadata": {},
   "outputs": [
    {
     "name": "stdout",
     "output_type": "stream",
     "text": [
      "1451.5172237974023\n",
      "14.515172237974022\n"
     ]
    },
    {
     "name": "stderr",
     "output_type": "stream",
     "text": [
      "C:\\Users\\s10034cb\\AppData\\Local\\Temp\\ipykernel_6868\\341318044.py:55: ParserWarning: Falling back to the 'python' engine because the 'c' engine does not support skipfooter; you can avoid this warning by specifying engine='python'.\n",
      "  win_daily_outputs = pd.read_table('C:/Users/s10034cb/Dropbox (The University of Manchester)/Manchester Postdoc/AquaCrop-windows/AquaCropV7.1/OUTP/'+win_filename+'Crop.OUT',\n",
      "C:\\Users\\s10034cb\\AppData\\Local\\Temp\\ipykernel_6868\\341318044.py:74: ParserWarning: Falling back to the 'python' engine because the 'c' engine does not support skipfooter; you can avoid this warning by specifying engine='python'.\n",
      "  win_daily_water = pd.read_table('C:/Users/s10034cb/Dropbox (The University of Manchester)/Manchester Postdoc/AquaCrop-windows/AquaCropV7.1/OUTP/'+win_filename+'WABAL.OUT',\n",
      "C:\\Users\\s10034cb\\AppData\\Local\\Temp\\ipykernel_6868\\341318044.py:166: ParserWarning: Falling back to the 'python' engine because the 'c' engine does not support skipfooter; you can avoid this warning by specifying engine='python'.\n",
      "  win_annual_outputs=pd.read_csv('C:/Users/s10034cb/Dropbox (The University of Manchester)/Manchester Postdoc/AquaCrop-windows/AquaCropV7.1/OUTP/'+win_filename+'Harvest.OUT',\n",
      "C:\\Users\\s10034cb\\AppData\\Local\\Temp\\ipykernel_6868\\341318044.py:210: SettingWithCopyWarning: \n",
      "A value is trying to be set on a copy of a slice from a DataFrame\n",
      "\n",
      "See the caveats in the documentation: https://pandas.pydata.org/pandas-docs/stable/user_guide/indexing.html#returning-a-view-versus-a-copy\n",
      "  temp_a.rename(columns={'Wr' : 'Py_Wr'}, inplace=True)\n",
      "C:\\Users\\s10034cb\\AppData\\Local\\Temp\\ipykernel_6868\\341318044.py:212: SettingWithCopyWarning: \n",
      "A value is trying to be set on a copy of a slice from a DataFrame\n",
      "\n",
      "See the caveats in the documentation: https://pandas.pydata.org/pandas-docs/stable/user_guide/indexing.html#returning-a-view-versus-a-copy\n",
      "  temp_b.rename(columns={'Wr' : 'Win_Wr'}, inplace=True)\n"
     ]
    }
   ],
   "source": [
    "# Loamy sand soil\n",
    "loamy_sand = Soil(soil_type='LoamySand')\n",
    "\n",
    "# crop\n",
    "potato = Crop('PotatoLocalGDD', planting_date='04/25')\n",
    "\n",
    "# create model with IrrMethod= Constant depth\n",
    "model = AquaCropModel(sim_start_time=f'{1976}/04/25',\n",
    "                      sim_end_time=f'{2005}/12/31',\n",
    "                      weather_df=brussels_weather,\n",
    "                      soil=loamy_sand,\n",
    "                      crop=potato,\n",
    "                      irrigation_management=IrrigationManagement(irrigation_method=5,),\n",
    "                      initial_water_content=fc,\n",
    "                      )\n",
    "                       \n",
    "\n",
    "model._initialize()\n",
    "\n",
    "while model._clock_struct.model_is_finished is False:    \n",
    "    # get depth to apply, RAW = 36%, p_up2 = 0.6 so TAW = 21.6, inverse is 78.4\n",
    "    depth=get_depth(model,78.4)\n",
    "    \n",
    "    model._param_struct.IrrMngt.depth=depth\n",
    "\n",
    "    model.run_model(initialize_model=False)\n",
    "\n",
    "# python_output(model, 'Bru_Pot_Irr36RAW')\n",
    "run_comparison('Bru_Pot_Irr36RAW3', model)"
   ]
  },
  {
   "cell_type": "markdown",
   "metadata": {},
   "source": [
    "With irrigation type 1, testing"
   ]
  },
  {
   "cell_type": "code",
   "execution_count": 34,
   "metadata": {},
   "outputs": [
    {
     "name": "stdout",
     "output_type": "stream",
     "text": [
      "1451.5172237974023\n",
      "14.515172237974022\n"
     ]
    },
    {
     "name": "stderr",
     "output_type": "stream",
     "text": [
      "C:\\Users\\s10034cb\\AppData\\Local\\Temp\\ipykernel_6868\\341318044.py:55: ParserWarning: Falling back to the 'python' engine because the 'c' engine does not support skipfooter; you can avoid this warning by specifying engine='python'.\n",
      "  win_daily_outputs = pd.read_table('C:/Users/s10034cb/Dropbox (The University of Manchester)/Manchester Postdoc/AquaCrop-windows/AquaCropV7.1/OUTP/'+win_filename+'Crop.OUT',\n",
      "C:\\Users\\s10034cb\\AppData\\Local\\Temp\\ipykernel_6868\\341318044.py:74: ParserWarning: Falling back to the 'python' engine because the 'c' engine does not support skipfooter; you can avoid this warning by specifying engine='python'.\n",
      "  win_daily_water = pd.read_table('C:/Users/s10034cb/Dropbox (The University of Manchester)/Manchester Postdoc/AquaCrop-windows/AquaCropV7.1/OUTP/'+win_filename+'WABAL.OUT',\n",
      "C:\\Users\\s10034cb\\AppData\\Local\\Temp\\ipykernel_6868\\341318044.py:166: ParserWarning: Falling back to the 'python' engine because the 'c' engine does not support skipfooter; you can avoid this warning by specifying engine='python'.\n",
      "  win_annual_outputs=pd.read_csv('C:/Users/s10034cb/Dropbox (The University of Manchester)/Manchester Postdoc/AquaCrop-windows/AquaCropV7.1/OUTP/'+win_filename+'Harvest.OUT',\n",
      "C:\\Users\\s10034cb\\AppData\\Local\\Temp\\ipykernel_6868\\341318044.py:210: SettingWithCopyWarning: \n",
      "A value is trying to be set on a copy of a slice from a DataFrame\n",
      "\n",
      "See the caveats in the documentation: https://pandas.pydata.org/pandas-docs/stable/user_guide/indexing.html#returning-a-view-versus-a-copy\n",
      "  temp_a.rename(columns={'Wr' : 'Py_Wr'}, inplace=True)\n",
      "C:\\Users\\s10034cb\\AppData\\Local\\Temp\\ipykernel_6868\\341318044.py:212: SettingWithCopyWarning: \n",
      "A value is trying to be set on a copy of a slice from a DataFrame\n",
      "\n",
      "See the caveats in the documentation: https://pandas.pydata.org/pandas-docs/stable/user_guide/indexing.html#returning-a-view-versus-a-copy\n",
      "  temp_b.rename(columns={'Wr' : 'Win_Wr'}, inplace=True)\n"
     ]
    }
   ],
   "source": [
    "net_irr = IrrigationManagement(irrigation_method=1,SMT=[78.4]*4, MaxIrr=15)\n",
    "\n",
    "model = AquaCropModel(sim_start_time=f'{1976}/04/25',\n",
    "                      sim_end_time=f'{2005}/12/31',\n",
    "                      weather_df=brussels_weather,\n",
    "                      soil=loamy_sand,\n",
    "                      crop=potato,\n",
    "                      irrigation_management=net_irr,\n",
    "                      initial_water_content=fc,\n",
    "                      )\n",
    "model.run_model(till_termination=True)\n",
    "\n",
    "run_comparison('Bru_Pot_Irr36RAW_noEToAdj', model)"
   ]
  },
  {
   "cell_type": "markdown",
   "metadata": {},
   "source": [
    "With irrigation type 4, testing"
   ]
  },
  {
   "cell_type": "code",
   "execution_count": 35,
   "metadata": {},
   "outputs": [
    {
     "name": "stdout",
     "output_type": "stream",
     "text": [
      "1451.379805796768\n",
      "14.513798057967682\n"
     ]
    },
    {
     "name": "stderr",
     "output_type": "stream",
     "text": [
      "C:\\Users\\s10034cb\\AppData\\Local\\Temp\\ipykernel_6868\\341318044.py:55: ParserWarning: Falling back to the 'python' engine because the 'c' engine does not support skipfooter; you can avoid this warning by specifying engine='python'.\n",
      "  win_daily_outputs = pd.read_table('C:/Users/s10034cb/Dropbox (The University of Manchester)/Manchester Postdoc/AquaCrop-windows/AquaCropV7.1/OUTP/'+win_filename+'Crop.OUT',\n",
      "C:\\Users\\s10034cb\\AppData\\Local\\Temp\\ipykernel_6868\\341318044.py:74: ParserWarning: Falling back to the 'python' engine because the 'c' engine does not support skipfooter; you can avoid this warning by specifying engine='python'.\n",
      "  win_daily_water = pd.read_table('C:/Users/s10034cb/Dropbox (The University of Manchester)/Manchester Postdoc/AquaCrop-windows/AquaCropV7.1/OUTP/'+win_filename+'WABAL.OUT',\n",
      "C:\\Users\\s10034cb\\AppData\\Local\\Temp\\ipykernel_6868\\341318044.py:166: ParserWarning: Falling back to the 'python' engine because the 'c' engine does not support skipfooter; you can avoid this warning by specifying engine='python'.\n",
      "  win_annual_outputs=pd.read_csv('C:/Users/s10034cb/Dropbox (The University of Manchester)/Manchester Postdoc/AquaCrop-windows/AquaCropV7.1/OUTP/'+win_filename+'Harvest.OUT',\n",
      "C:\\Users\\s10034cb\\AppData\\Local\\Temp\\ipykernel_6868\\341318044.py:210: SettingWithCopyWarning: \n",
      "A value is trying to be set on a copy of a slice from a DataFrame\n",
      "\n",
      "See the caveats in the documentation: https://pandas.pydata.org/pandas-docs/stable/user_guide/indexing.html#returning-a-view-versus-a-copy\n",
      "  temp_a.rename(columns={'Wr' : 'Py_Wr'}, inplace=True)\n",
      "C:\\Users\\s10034cb\\AppData\\Local\\Temp\\ipykernel_6868\\341318044.py:212: SettingWithCopyWarning: \n",
      "A value is trying to be set on a copy of a slice from a DataFrame\n",
      "\n",
      "See the caveats in the documentation: https://pandas.pydata.org/pandas-docs/stable/user_guide/indexing.html#returning-a-view-versus-a-copy\n",
      "  temp_b.rename(columns={'Wr' : 'Win_Wr'}, inplace=True)\n"
     ]
    }
   ],
   "source": [
    "net_irr = IrrigationManagement(irrigation_method=4,NetIrrSMT=78.4, MaxIrr=15)\n",
    "\n",
    "model = AquaCropModel(sim_start_time=f'{1976}/04/25',\n",
    "                      sim_end_time=f'{2005}/12/31',\n",
    "                      weather_df=brussels_weather,\n",
    "                      soil=loamy_sand,\n",
    "                      crop=potato,\n",
    "                      irrigation_management=net_irr,\n",
    "                      initial_water_content=fc,\n",
    "                      )\n",
    "model.run_model(till_termination=True)\n",
    "\n",
    "run_comparison('Bru_Pot_Irr36RAW3', model)"
   ]
  },
  {
   "cell_type": "markdown",
   "metadata": {},
   "source": [
    "100% RAW"
   ]
  },
  {
   "cell_type": "code",
   "execution_count": 36,
   "metadata": {},
   "outputs": [
    {
     "name": "stdout",
     "output_type": "stream",
     "text": [
      "1451.5172237974023\n",
      "14.515172237974022\n"
     ]
    },
    {
     "name": "stderr",
     "output_type": "stream",
     "text": [
      "C:\\Users\\s10034cb\\AppData\\Local\\Temp\\ipykernel_6868\\341318044.py:55: ParserWarning: Falling back to the 'python' engine because the 'c' engine does not support skipfooter; you can avoid this warning by specifying engine='python'.\n",
      "  win_daily_outputs = pd.read_table('C:/Users/s10034cb/Dropbox (The University of Manchester)/Manchester Postdoc/AquaCrop-windows/AquaCropV7.1/OUTP/'+win_filename+'Crop.OUT',\n",
      "C:\\Users\\s10034cb\\AppData\\Local\\Temp\\ipykernel_6868\\341318044.py:74: ParserWarning: Falling back to the 'python' engine because the 'c' engine does not support skipfooter; you can avoid this warning by specifying engine='python'.\n",
      "  win_daily_water = pd.read_table('C:/Users/s10034cb/Dropbox (The University of Manchester)/Manchester Postdoc/AquaCrop-windows/AquaCropV7.1/OUTP/'+win_filename+'WABAL.OUT',\n",
      "C:\\Users\\s10034cb\\AppData\\Local\\Temp\\ipykernel_6868\\341318044.py:166: ParserWarning: Falling back to the 'python' engine because the 'c' engine does not support skipfooter; you can avoid this warning by specifying engine='python'.\n",
      "  win_annual_outputs=pd.read_csv('C:/Users/s10034cb/Dropbox (The University of Manchester)/Manchester Postdoc/AquaCrop-windows/AquaCropV7.1/OUTP/'+win_filename+'Harvest.OUT',\n",
      "C:\\Users\\s10034cb\\AppData\\Local\\Temp\\ipykernel_6868\\341318044.py:210: SettingWithCopyWarning: \n",
      "A value is trying to be set on a copy of a slice from a DataFrame\n",
      "\n",
      "See the caveats in the documentation: https://pandas.pydata.org/pandas-docs/stable/user_guide/indexing.html#returning-a-view-versus-a-copy\n",
      "  temp_a.rename(columns={'Wr' : 'Py_Wr'}, inplace=True)\n",
      "C:\\Users\\s10034cb\\AppData\\Local\\Temp\\ipykernel_6868\\341318044.py:212: SettingWithCopyWarning: \n",
      "A value is trying to be set on a copy of a slice from a DataFrame\n",
      "\n",
      "See the caveats in the documentation: https://pandas.pydata.org/pandas-docs/stable/user_guide/indexing.html#returning-a-view-versus-a-copy\n",
      "  temp_b.rename(columns={'Wr' : 'Win_Wr'}, inplace=True)\n"
     ]
    }
   ],
   "source": [
    "# create model with IrrMethod= Constant depth\n",
    "model = AquaCropModel(sim_start_time=f'{1976}/04/25',\n",
    "                      sim_end_time=f'{2005}/12/31',\n",
    "                      weather_df=brussels_weather,\n",
    "                      soil=loamy_sand,\n",
    "                      crop=potato,\n",
    "                      irrigation_management=IrrigationManagement(irrigation_method=5,),\n",
    "                      initial_water_content=fc,\n",
    "                      )\n",
    "                       \n",
    "\n",
    "model._initialize()\n",
    "\n",
    "while model._clock_struct.model_is_finished is False:    \n",
    "    # get depth to apply, RAW = 100%, p_up2=0.6, TAW = 60%\n",
    "    depth=get_depth(model,60)\n",
    "    \n",
    "    model._param_struct.IrrMngt.depth=depth\n",
    "\n",
    "    model.run_model(initialize_model=False)\n",
    "\n",
    "# python_output(model, 'Bru_Pot_Irr100RAW')\n",
    "run_comparison('Bru_Pot_Irr100RAW3', model)"
   ]
  },
  {
   "cell_type": "markdown",
   "metadata": {},
   "source": [
    "With irrigation type 1, testing"
   ]
  },
  {
   "cell_type": "code",
   "execution_count": 37,
   "metadata": {},
   "outputs": [
    {
     "name": "stdout",
     "output_type": "stream",
     "text": [
      "1436.0493809723746\n",
      "14.360493809723746\n"
     ]
    },
    {
     "name": "stderr",
     "output_type": "stream",
     "text": [
      "C:\\Users\\s10034cb\\AppData\\Local\\Temp\\ipykernel_6868\\341318044.py:55: ParserWarning: Falling back to the 'python' engine because the 'c' engine does not support skipfooter; you can avoid this warning by specifying engine='python'.\n",
      "  win_daily_outputs = pd.read_table('C:/Users/s10034cb/Dropbox (The University of Manchester)/Manchester Postdoc/AquaCrop-windows/AquaCropV7.1/OUTP/'+win_filename+'Crop.OUT',\n",
      "C:\\Users\\s10034cb\\AppData\\Local\\Temp\\ipykernel_6868\\341318044.py:74: ParserWarning: Falling back to the 'python' engine because the 'c' engine does not support skipfooter; you can avoid this warning by specifying engine='python'.\n",
      "  win_daily_water = pd.read_table('C:/Users/s10034cb/Dropbox (The University of Manchester)/Manchester Postdoc/AquaCrop-windows/AquaCropV7.1/OUTP/'+win_filename+'WABAL.OUT',\n",
      "C:\\Users\\s10034cb\\AppData\\Local\\Temp\\ipykernel_6868\\341318044.py:166: ParserWarning: Falling back to the 'python' engine because the 'c' engine does not support skipfooter; you can avoid this warning by specifying engine='python'.\n",
      "  win_annual_outputs=pd.read_csv('C:/Users/s10034cb/Dropbox (The University of Manchester)/Manchester Postdoc/AquaCrop-windows/AquaCropV7.1/OUTP/'+win_filename+'Harvest.OUT',\n",
      "C:\\Users\\s10034cb\\AppData\\Local\\Temp\\ipykernel_6868\\341318044.py:210: SettingWithCopyWarning: \n",
      "A value is trying to be set on a copy of a slice from a DataFrame\n",
      "\n",
      "See the caveats in the documentation: https://pandas.pydata.org/pandas-docs/stable/user_guide/indexing.html#returning-a-view-versus-a-copy\n",
      "  temp_a.rename(columns={'Wr' : 'Py_Wr'}, inplace=True)\n",
      "C:\\Users\\s10034cb\\AppData\\Local\\Temp\\ipykernel_6868\\341318044.py:212: SettingWithCopyWarning: \n",
      "A value is trying to be set on a copy of a slice from a DataFrame\n",
      "\n",
      "See the caveats in the documentation: https://pandas.pydata.org/pandas-docs/stable/user_guide/indexing.html#returning-a-view-versus-a-copy\n",
      "  temp_b.rename(columns={'Wr' : 'Win_Wr'}, inplace=True)\n"
     ]
    }
   ],
   "source": [
    "net_irr = IrrigationManagement(irrigation_method=1,\n",
    "                               SMT=[40,40,40,40], \n",
    "                               MaxIrr=15,\n",
    "                            #    NetIrrSMT= 60,\n",
    "                               )\n",
    "\n",
    "model = AquaCropModel(sim_start_time=f'{1976}/04/25',\n",
    "                      sim_end_time=f'{2005}/12/31',\n",
    "                      weather_df=brussels_weather,\n",
    "                      soil=loamy_sand,\n",
    "                      crop=potato,\n",
    "                      irrigation_management=net_irr,\n",
    "                      initial_water_content=fc,\n",
    "                      )\n",
    "model.run_model(till_termination=True)\n",
    "\n",
    "run_comparison('Bru_Pot_Irr100RAW_noEToAdj', model)"
   ]
  },
  {
   "cell_type": "markdown",
   "metadata": {},
   "source": [
    "With irrigation type 4, testing"
   ]
  },
  {
   "cell_type": "code",
   "execution_count": 38,
   "metadata": {},
   "outputs": [
    {
     "name": "stdout",
     "output_type": "stream",
     "text": [
      "1435.9937088655595\n",
      "14.359937088655595\n"
     ]
    },
    {
     "name": "stderr",
     "output_type": "stream",
     "text": [
      "C:\\Users\\s10034cb\\AppData\\Local\\Temp\\ipykernel_6868\\341318044.py:55: ParserWarning: Falling back to the 'python' engine because the 'c' engine does not support skipfooter; you can avoid this warning by specifying engine='python'.\n",
      "  win_daily_outputs = pd.read_table('C:/Users/s10034cb/Dropbox (The University of Manchester)/Manchester Postdoc/AquaCrop-windows/AquaCropV7.1/OUTP/'+win_filename+'Crop.OUT',\n",
      "C:\\Users\\s10034cb\\AppData\\Local\\Temp\\ipykernel_6868\\341318044.py:74: ParserWarning: Falling back to the 'python' engine because the 'c' engine does not support skipfooter; you can avoid this warning by specifying engine='python'.\n",
      "  win_daily_water = pd.read_table('C:/Users/s10034cb/Dropbox (The University of Manchester)/Manchester Postdoc/AquaCrop-windows/AquaCropV7.1/OUTP/'+win_filename+'WABAL.OUT',\n",
      "C:\\Users\\s10034cb\\AppData\\Local\\Temp\\ipykernel_6868\\341318044.py:166: ParserWarning: Falling back to the 'python' engine because the 'c' engine does not support skipfooter; you can avoid this warning by specifying engine='python'.\n",
      "  win_annual_outputs=pd.read_csv('C:/Users/s10034cb/Dropbox (The University of Manchester)/Manchester Postdoc/AquaCrop-windows/AquaCropV7.1/OUTP/'+win_filename+'Harvest.OUT',\n",
      "C:\\Users\\s10034cb\\AppData\\Local\\Temp\\ipykernel_6868\\341318044.py:210: SettingWithCopyWarning: \n",
      "A value is trying to be set on a copy of a slice from a DataFrame\n",
      "\n",
      "See the caveats in the documentation: https://pandas.pydata.org/pandas-docs/stable/user_guide/indexing.html#returning-a-view-versus-a-copy\n",
      "  temp_a.rename(columns={'Wr' : 'Py_Wr'}, inplace=True)\n",
      "C:\\Users\\s10034cb\\AppData\\Local\\Temp\\ipykernel_6868\\341318044.py:212: SettingWithCopyWarning: \n",
      "A value is trying to be set on a copy of a slice from a DataFrame\n",
      "\n",
      "See the caveats in the documentation: https://pandas.pydata.org/pandas-docs/stable/user_guide/indexing.html#returning-a-view-versus-a-copy\n",
      "  temp_b.rename(columns={'Wr' : 'Win_Wr'}, inplace=True)\n"
     ]
    }
   ],
   "source": [
    "net_irr = IrrigationManagement(irrigation_method=4,\n",
    "                               #SMT=[40,40,40,40], \n",
    "                               MaxIrr=15,\n",
    "                               NetIrrSMT= 60,\n",
    "                               )\n",
    "\n",
    "model = AquaCropModel(sim_start_time=f'{1976}/04/25',\n",
    "                      sim_end_time=f'{2005}/12/31',\n",
    "                      weather_df=brussels_weather,\n",
    "                      soil=loamy_sand,\n",
    "                      crop=potato,\n",
    "                      irrigation_management=net_irr,\n",
    "                      initial_water_content=fc,\n",
    "                      )\n",
    "model.run_model(till_termination=True)\n",
    "\n",
    "run_comparison('Bru_Pot_Irr100RAW3', model)"
   ]
  },
  {
   "cell_type": "markdown",
   "metadata": {},
   "source": [
    "150% RAW"
   ]
  },
  {
   "cell_type": "code",
   "execution_count": 39,
   "metadata": {},
   "outputs": [
    {
     "name": "stdout",
     "output_type": "stream",
     "text": [
      "1451.5172237974023\n",
      "14.515172237974022\n"
     ]
    },
    {
     "name": "stderr",
     "output_type": "stream",
     "text": [
      "C:\\Users\\s10034cb\\AppData\\Local\\Temp\\ipykernel_6868\\341318044.py:55: ParserWarning: Falling back to the 'python' engine because the 'c' engine does not support skipfooter; you can avoid this warning by specifying engine='python'.\n",
      "  win_daily_outputs = pd.read_table('C:/Users/s10034cb/Dropbox (The University of Manchester)/Manchester Postdoc/AquaCrop-windows/AquaCropV7.1/OUTP/'+win_filename+'Crop.OUT',\n",
      "C:\\Users\\s10034cb\\AppData\\Local\\Temp\\ipykernel_6868\\341318044.py:74: ParserWarning: Falling back to the 'python' engine because the 'c' engine does not support skipfooter; you can avoid this warning by specifying engine='python'.\n",
      "  win_daily_water = pd.read_table('C:/Users/s10034cb/Dropbox (The University of Manchester)/Manchester Postdoc/AquaCrop-windows/AquaCropV7.1/OUTP/'+win_filename+'WABAL.OUT',\n",
      "C:\\Users\\s10034cb\\AppData\\Local\\Temp\\ipykernel_6868\\341318044.py:166: ParserWarning: Falling back to the 'python' engine because the 'c' engine does not support skipfooter; you can avoid this warning by specifying engine='python'.\n",
      "  win_annual_outputs=pd.read_csv('C:/Users/s10034cb/Dropbox (The University of Manchester)/Manchester Postdoc/AquaCrop-windows/AquaCropV7.1/OUTP/'+win_filename+'Harvest.OUT',\n",
      "C:\\Users\\s10034cb\\AppData\\Local\\Temp\\ipykernel_6868\\341318044.py:210: SettingWithCopyWarning: \n",
      "A value is trying to be set on a copy of a slice from a DataFrame\n",
      "\n",
      "See the caveats in the documentation: https://pandas.pydata.org/pandas-docs/stable/user_guide/indexing.html#returning-a-view-versus-a-copy\n",
      "  temp_a.rename(columns={'Wr' : 'Py_Wr'}, inplace=True)\n",
      "C:\\Users\\s10034cb\\AppData\\Local\\Temp\\ipykernel_6868\\341318044.py:212: SettingWithCopyWarning: \n",
      "A value is trying to be set on a copy of a slice from a DataFrame\n",
      "\n",
      "See the caveats in the documentation: https://pandas.pydata.org/pandas-docs/stable/user_guide/indexing.html#returning-a-view-versus-a-copy\n",
      "  temp_b.rename(columns={'Wr' : 'Win_Wr'}, inplace=True)\n"
     ]
    }
   ],
   "source": [
    "# create model with IrrMethod= Constant depth\n",
    "model = AquaCropModel(sim_start_time=f'{1976}/03/01',\n",
    "                      sim_end_time=f'{2005}/12/31',\n",
    "                      weather_df=brussels_weather,\n",
    "                      soil=loamy_sand,\n",
    "                      crop=potato,\n",
    "                      irrigation_management=IrrigationManagement(irrigation_method=5,),\n",
    "                      initial_water_content=fc,\n",
    "                      )\n",
    "                       \n",
    "\n",
    "model._initialize()\n",
    "\n",
    "while model._clock_struct.model_is_finished is False:    \n",
    "    # get depth to apply, RAW = 150%, p_up2=0.6, TAW = 90%,0.9\n",
    "    depth=get_depth(model,90)\n",
    "    \n",
    "    model._param_struct.IrrMngt.depth=depth\n",
    "\n",
    "    model.run_model(initialize_model=False)\n",
    "\n",
    "# python_output(model, 'Bru_Pot_Irr150RAW')\n",
    "run_comparison('Bru_Pot_Irr150RAW3', model)"
   ]
  },
  {
   "cell_type": "markdown",
   "metadata": {},
   "source": [
    "With irrigation type 1, testing"
   ]
  },
  {
   "cell_type": "code",
   "execution_count": 40,
   "metadata": {},
   "outputs": [
    {
     "name": "stdout",
     "output_type": "stream",
     "text": [
      "1397.853336725722\n",
      "13.97853336725722\n"
     ]
    },
    {
     "name": "stderr",
     "output_type": "stream",
     "text": [
      "C:\\Users\\s10034cb\\AppData\\Local\\Temp\\ipykernel_6868\\341318044.py:55: ParserWarning: Falling back to the 'python' engine because the 'c' engine does not support skipfooter; you can avoid this warning by specifying engine='python'.\n",
      "  win_daily_outputs = pd.read_table('C:/Users/s10034cb/Dropbox (The University of Manchester)/Manchester Postdoc/AquaCrop-windows/AquaCropV7.1/OUTP/'+win_filename+'Crop.OUT',\n",
      "C:\\Users\\s10034cb\\AppData\\Local\\Temp\\ipykernel_6868\\341318044.py:74: ParserWarning: Falling back to the 'python' engine because the 'c' engine does not support skipfooter; you can avoid this warning by specifying engine='python'.\n",
      "  win_daily_water = pd.read_table('C:/Users/s10034cb/Dropbox (The University of Manchester)/Manchester Postdoc/AquaCrop-windows/AquaCropV7.1/OUTP/'+win_filename+'WABAL.OUT',\n",
      "C:\\Users\\s10034cb\\AppData\\Local\\Temp\\ipykernel_6868\\341318044.py:166: ParserWarning: Falling back to the 'python' engine because the 'c' engine does not support skipfooter; you can avoid this warning by specifying engine='python'.\n",
      "  win_annual_outputs=pd.read_csv('C:/Users/s10034cb/Dropbox (The University of Manchester)/Manchester Postdoc/AquaCrop-windows/AquaCropV7.1/OUTP/'+win_filename+'Harvest.OUT',\n",
      "C:\\Users\\s10034cb\\AppData\\Local\\Temp\\ipykernel_6868\\341318044.py:210: SettingWithCopyWarning: \n",
      "A value is trying to be set on a copy of a slice from a DataFrame\n",
      "\n",
      "See the caveats in the documentation: https://pandas.pydata.org/pandas-docs/stable/user_guide/indexing.html#returning-a-view-versus-a-copy\n",
      "  temp_a.rename(columns={'Wr' : 'Py_Wr'}, inplace=True)\n",
      "C:\\Users\\s10034cb\\AppData\\Local\\Temp\\ipykernel_6868\\341318044.py:212: SettingWithCopyWarning: \n",
      "A value is trying to be set on a copy of a slice from a DataFrame\n",
      "\n",
      "See the caveats in the documentation: https://pandas.pydata.org/pandas-docs/stable/user_guide/indexing.html#returning-a-view-versus-a-copy\n",
      "  temp_b.rename(columns={'Wr' : 'Win_Wr'}, inplace=True)\n"
     ]
    }
   ],
   "source": [
    "net_irr = IrrigationManagement(irrigation_method=1,\n",
    "                               SMT=[10]*4, \n",
    "                               MaxIrr=15,\n",
    "                            #    NetIrrSMT= 60,\n",
    "                               )\n",
    "\n",
    "# Brussels climate\n",
    "filepath=get_filepath('brussels_climate.txt')\n",
    "brussels_weather = prepare_weather(filepath)\n",
    "\n",
    "# Loamy sand soil\n",
    "loamy_sand = Soil(soil_type='LoamySand')\n",
    "\n",
    "# crops\n",
    "potato = Crop('PotatoLocalGDD', planting_date='04/25')\n",
    "\n",
    "# IWC\n",
    "fc = InitialWaterContent(value=['FC'])\n",
    "\n",
    "\n",
    "model = AquaCropModel(sim_start_time=f'{1976}/04/25',\n",
    "                      sim_end_time=f'{2005}/12/31',\n",
    "                      weather_df=brussels_weather,\n",
    "                      soil=loamy_sand,\n",
    "                      crop=potato,\n",
    "                      irrigation_management=net_irr,\n",
    "                      initial_water_content=fc,\n",
    "                      )\n",
    "model.run_model(till_termination=True)\n",
    "\n",
    "run_comparison('Bru_Pot_Irr150RAW_noEToAdj', model)"
   ]
  },
  {
   "cell_type": "markdown",
   "metadata": {},
   "source": [
    "With irrigation type 4, testing"
   ]
  },
  {
   "cell_type": "code",
   "execution_count": 41,
   "metadata": {},
   "outputs": [
    {
     "name": "stdout",
     "output_type": "stream",
     "text": [
      "1406.3612907895551\n",
      "14.063612907895552\n"
     ]
    },
    {
     "name": "stderr",
     "output_type": "stream",
     "text": [
      "C:\\Users\\s10034cb\\AppData\\Local\\Temp\\ipykernel_6868\\341318044.py:55: ParserWarning: Falling back to the 'python' engine because the 'c' engine does not support skipfooter; you can avoid this warning by specifying engine='python'.\n",
      "  win_daily_outputs = pd.read_table('C:/Users/s10034cb/Dropbox (The University of Manchester)/Manchester Postdoc/AquaCrop-windows/AquaCropV7.1/OUTP/'+win_filename+'Crop.OUT',\n",
      "C:\\Users\\s10034cb\\AppData\\Local\\Temp\\ipykernel_6868\\341318044.py:74: ParserWarning: Falling back to the 'python' engine because the 'c' engine does not support skipfooter; you can avoid this warning by specifying engine='python'.\n",
      "  win_daily_water = pd.read_table('C:/Users/s10034cb/Dropbox (The University of Manchester)/Manchester Postdoc/AquaCrop-windows/AquaCropV7.1/OUTP/'+win_filename+'WABAL.OUT',\n",
      "C:\\Users\\s10034cb\\AppData\\Local\\Temp\\ipykernel_6868\\341318044.py:166: ParserWarning: Falling back to the 'python' engine because the 'c' engine does not support skipfooter; you can avoid this warning by specifying engine='python'.\n",
      "  win_annual_outputs=pd.read_csv('C:/Users/s10034cb/Dropbox (The University of Manchester)/Manchester Postdoc/AquaCrop-windows/AquaCropV7.1/OUTP/'+win_filename+'Harvest.OUT',\n",
      "C:\\Users\\s10034cb\\AppData\\Local\\Temp\\ipykernel_6868\\341318044.py:210: SettingWithCopyWarning: \n",
      "A value is trying to be set on a copy of a slice from a DataFrame\n",
      "\n",
      "See the caveats in the documentation: https://pandas.pydata.org/pandas-docs/stable/user_guide/indexing.html#returning-a-view-versus-a-copy\n",
      "  temp_a.rename(columns={'Wr' : 'Py_Wr'}, inplace=True)\n",
      "C:\\Users\\s10034cb\\AppData\\Local\\Temp\\ipykernel_6868\\341318044.py:212: SettingWithCopyWarning: \n",
      "A value is trying to be set on a copy of a slice from a DataFrame\n",
      "\n",
      "See the caveats in the documentation: https://pandas.pydata.org/pandas-docs/stable/user_guide/indexing.html#returning-a-view-versus-a-copy\n",
      "  temp_b.rename(columns={'Wr' : 'Win_Wr'}, inplace=True)\n"
     ]
    }
   ],
   "source": [
    "net_irr = IrrigationManagement(irrigation_method=4,\n",
    "                            #    SMT=[10]*4, \n",
    "                               MaxIrr=15,\n",
    "                               NetIrrSMT= 10,\n",
    "                               )\n",
    "\n",
    "model = AquaCropModel(sim_start_time=f'{1976}/04/25',\n",
    "                      sim_end_time=f'{2005}/12/31',\n",
    "                      weather_df=brussels_weather,\n",
    "                      soil=loamy_sand,\n",
    "                      crop=potato,\n",
    "                      irrigation_management=net_irr,\n",
    "                      initial_water_content=fc,\n",
    "                      )\n",
    "model.run_model(till_termination=True)\n",
    "\n",
    "run_comparison('Bru_Pot_Irr150RAW3', model)"
   ]
  },
  {
   "cell_type": "markdown",
   "metadata": {},
   "source": [
    "Get irrigation schedule from Windows"
   ]
  },
  {
   "cell_type": "code",
   "execution_count": 42,
   "metadata": {},
   "outputs": [
    {
     "name": "stderr",
     "output_type": "stream",
     "text": [
      "C:\\Users\\s10034cb\\AppData\\Local\\Temp\\ipykernel_6868\\390516051.py:1: ParserWarning: Falling back to the 'python' engine because the 'c' engine does not support skipfooter; you can avoid this warning by specifying engine='python'.\n",
      "  win_daily_water = pd.read_table('C:/Users/s10034cb/Dropbox (The University of Manchester)/Manchester Postdoc/AquaCrop-windows/AquaCropV7.1/OUTP/Bru_Pot_Irr150RAW3WABAL.OUT',\n"
     ]
    }
   ],
   "source": [
    "win_daily_water = pd.read_table('C:/Users/s10034cb/Dropbox (The University of Manchester)/Manchester Postdoc/AquaCrop-windows/AquaCropV7.1/OUTP/Bru_Pot_Irr150RAW3WABAL.OUT', \n",
    "                            skiprows=4, skipfooter=27,  delim_whitespace=True,encoding=\"latin1\")\n",
    "\n",
    "     # WIN DAILY WABAL COLS = ['Day', 'Month', 'Year', 'DAP', 'Stage', 'WCTot', 'Rain', 'Irri', 'Surf',\n",
    "    #    'Infilt', 'RO', 'Drain', 'CR', 'Zgwt', 'Ex', 'E', 'E/Ex', 'Trx', 'Tr',\n",
    "    #    'Tr/Trx', 'ETx', 'ET', 'ET/ETx']\n",
    "win_daily_water=win_daily_water.drop([0])\n",
    "win_daily_water.rename(columns={\n",
    "    'Year': 'year',\n",
    "    'Month': 'month',\n",
    "    'Day': 'day',\n",
    "    },\n",
    "    inplace=True, \n",
    "    errors='raise')\n",
    "win_daily_water=remove_headers(win_daily_water)\n",
    "win_daily_water['Irri']=win_daily_water['Irri'].astype(float)\n",
    "win_irri = win_daily_water[win_daily_water['Irri']!=0.0].reset_index(drop=True)\n",
    "win_irri['datetime']=pd.to_datetime(win_irri[['year', 'month', 'day']])\n",
    "\n",
    "irri_dates = win_irri['datetime'].to_numpy()\n",
    "\n",
    "n_years=len(irri_dates)\n",
    "depths=[15]*n_years\n",
    "\n",
    "schedule=pd.DataFrame([irri_dates,depths]).T # create pandas DataFrame\n",
    "schedule.columns=['Date','Depth'] # name columns"
   ]
  },
  {
   "cell_type": "code",
   "execution_count": 43,
   "metadata": {},
   "outputs": [
    {
     "name": "stdout",
     "output_type": "stream",
     "text": [
      "          Date Depth\n",
      "0   1976-06-23    15\n",
      "1   1976-06-25    15\n",
      "2   1976-06-27    15\n",
      "3   1976-06-29    15\n",
      "4   1976-07-01    15\n",
      "..         ...   ...\n",
      "144 2005-06-19    15\n",
      "145 2005-06-20    15\n",
      "146 2005-06-23    15\n",
      "147 2005-06-25    15\n",
      "148 2005-07-16    15\n",
      "\n",
      "[149 rows x 2 columns]\n"
     ]
    }
   ],
   "source": [
    "print(schedule)"
   ]
  },
  {
   "cell_type": "code",
   "execution_count": 44,
   "metadata": {},
   "outputs": [
    {
     "name": "stdout",
     "output_type": "stream",
     "text": [
      "1374.720832959984\n",
      "13.74720832959984\n"
     ]
    },
    {
     "name": "stderr",
     "output_type": "stream",
     "text": [
      "C:\\Users\\s10034cb\\AppData\\Local\\Temp\\ipykernel_6868\\341318044.py:55: ParserWarning: Falling back to the 'python' engine because the 'c' engine does not support skipfooter; you can avoid this warning by specifying engine='python'.\n",
      "  win_daily_outputs = pd.read_table('C:/Users/s10034cb/Dropbox (The University of Manchester)/Manchester Postdoc/AquaCrop-windows/AquaCropV7.1/OUTP/'+win_filename+'Crop.OUT',\n",
      "C:\\Users\\s10034cb\\AppData\\Local\\Temp\\ipykernel_6868\\341318044.py:74: ParserWarning: Falling back to the 'python' engine because the 'c' engine does not support skipfooter; you can avoid this warning by specifying engine='python'.\n",
      "  win_daily_water = pd.read_table('C:/Users/s10034cb/Dropbox (The University of Manchester)/Manchester Postdoc/AquaCrop-windows/AquaCropV7.1/OUTP/'+win_filename+'WABAL.OUT',\n",
      "C:\\Users\\s10034cb\\AppData\\Local\\Temp\\ipykernel_6868\\341318044.py:166: ParserWarning: Falling back to the 'python' engine because the 'c' engine does not support skipfooter; you can avoid this warning by specifying engine='python'.\n",
      "  win_annual_outputs=pd.read_csv('C:/Users/s10034cb/Dropbox (The University of Manchester)/Manchester Postdoc/AquaCrop-windows/AquaCropV7.1/OUTP/'+win_filename+'Harvest.OUT',\n",
      "C:\\Users\\s10034cb\\AppData\\Local\\Temp\\ipykernel_6868\\341318044.py:210: SettingWithCopyWarning: \n",
      "A value is trying to be set on a copy of a slice from a DataFrame\n",
      "\n",
      "See the caveats in the documentation: https://pandas.pydata.org/pandas-docs/stable/user_guide/indexing.html#returning-a-view-versus-a-copy\n",
      "  temp_a.rename(columns={'Wr' : 'Py_Wr'}, inplace=True)\n",
      "C:\\Users\\s10034cb\\AppData\\Local\\Temp\\ipykernel_6868\\341318044.py:212: SettingWithCopyWarning: \n",
      "A value is trying to be set on a copy of a slice from a DataFrame\n",
      "\n",
      "See the caveats in the documentation: https://pandas.pydata.org/pandas-docs/stable/user_guide/indexing.html#returning-a-view-versus-a-copy\n",
      "  temp_b.rename(columns={'Wr' : 'Win_Wr'}, inplace=True)\n"
     ]
    }
   ],
   "source": [
    "irr_schedule = IrrigationManagement(irrigation_method=3, Schedule =schedule)\n",
    "\n",
    "# Brussels climate\n",
    "filepath=get_filepath('brussels_climate.txt')\n",
    "brussels_weather = prepare_weather(filepath)\n",
    "\n",
    "# Loamy sand soil\n",
    "loamy_sand = Soil(soil_type='LoamySand')\n",
    "\n",
    "# crops\n",
    "potato = Crop('PotatoLocalGDD', planting_date='04/25')\n",
    "\n",
    "# IWC\n",
    "fc = InitialWaterContent(value=['FC'])\n",
    "\n",
    "\n",
    "model = AquaCropModel(sim_start_time=f'{1976}/04/25',\n",
    "                      sim_end_time=f'{2005}/12/31',\n",
    "                      weather_df=brussels_weather,\n",
    "                      soil=loamy_sand,\n",
    "                      crop=potato,\n",
    "                      irrigation_management=irr_schedule,\n",
    "                      initial_water_content=fc,\n",
    "                      )\n",
    "model.run_model(till_termination=True)\n",
    "\n",
    "# python_output(model, 'Bru_Pot_Irr150RAW_noEToAdj')\n",
    "run_comparison('Bru_Pot_Irr150RAW_noEToAdj', model)"
   ]
  },
  {
   "cell_type": "markdown",
   "metadata": {},
   "source": [
    "## 9.6 Climate change impact"
   ]
  },
  {
   "cell_type": "markdown",
   "metadata": {},
   "source": [
    "Historical:"
   ]
  },
  {
   "cell_type": "code",
   "execution_count": 45,
   "metadata": {},
   "outputs": [
    {
     "name": "stdout",
     "output_type": "stream",
     "text": [
      "1390.9983956694628\n",
      "13.909983956694628\n"
     ]
    },
    {
     "name": "stderr",
     "output_type": "stream",
     "text": [
      "C:\\Users\\s10034cb\\AppData\\Local\\Temp\\ipykernel_6868\\341318044.py:55: ParserWarning: Falling back to the 'python' engine because the 'c' engine does not support skipfooter; you can avoid this warning by specifying engine='python'.\n",
      "  win_daily_outputs = pd.read_table('C:/Users/s10034cb/Dropbox (The University of Manchester)/Manchester Postdoc/AquaCrop-windows/AquaCropV7.1/OUTP/'+win_filename+'Crop.OUT',\n",
      "C:\\Users\\s10034cb\\AppData\\Local\\Temp\\ipykernel_6868\\341318044.py:74: ParserWarning: Falling back to the 'python' engine because the 'c' engine does not support skipfooter; you can avoid this warning by specifying engine='python'.\n",
      "  win_daily_water = pd.read_table('C:/Users/s10034cb/Dropbox (The University of Manchester)/Manchester Postdoc/AquaCrop-windows/AquaCropV7.1/OUTP/'+win_filename+'WABAL.OUT',\n",
      "C:\\Users\\s10034cb\\AppData\\Local\\Temp\\ipykernel_6868\\341318044.py:166: ParserWarning: Falling back to the 'python' engine because the 'c' engine does not support skipfooter; you can avoid this warning by specifying engine='python'.\n",
      "  win_annual_outputs=pd.read_csv('C:/Users/s10034cb/Dropbox (The University of Manchester)/Manchester Postdoc/AquaCrop-windows/AquaCropV7.1/OUTP/'+win_filename+'Harvest.OUT',\n",
      "C:\\Users\\s10034cb\\AppData\\Local\\Temp\\ipykernel_6868\\341318044.py:210: SettingWithCopyWarning: \n",
      "A value is trying to be set on a copy of a slice from a DataFrame\n",
      "\n",
      "See the caveats in the documentation: https://pandas.pydata.org/pandas-docs/stable/user_guide/indexing.html#returning-a-view-versus-a-copy\n",
      "  temp_a.rename(columns={'Wr' : 'Py_Wr'}, inplace=True)\n",
      "C:\\Users\\s10034cb\\AppData\\Local\\Temp\\ipykernel_6868\\341318044.py:212: SettingWithCopyWarning: \n",
      "A value is trying to be set on a copy of a slice from a DataFrame\n",
      "\n",
      "See the caveats in the documentation: https://pandas.pydata.org/pandas-docs/stable/user_guide/indexing.html#returning-a-view-versus-a-copy\n",
      "  temp_b.rename(columns={'Wr' : 'Win_Wr'}, inplace=True)\n"
     ]
    }
   ],
   "source": [
    "# Hist climate\n",
    "filepath=get_filepath('brussels_climate.txt')\n",
    "brussels_weather = prepare_weather(filepath)\n",
    "\n",
    "# Local Brussels soil\n",
    "loam_soil = Soil(soil_type='Loam')\n",
    "\n",
    "# crops\n",
    "potato = Crop('PotatoLocalGDD', planting_date='04/25')\n",
    "\n",
    "# IWC\n",
    "fc = InitialWaterContent(value=['FC'])\n",
    "\n",
    "# irr management\n",
    "irr_mngt = IrrigationManagement(irrigation_method=0)\n",
    "\n",
    "model = AquaCropModel(sim_start_time=f'{1976}/03/01',\n",
    "                      sim_end_time=f'{2005}/12/31',\n",
    "                      weather_df=brussels_weather,\n",
    "                      soil=loam_soil,\n",
    "                      crop=potato,\n",
    "                      irrigation_management=irr_mngt,\n",
    "                      initial_water_content=fc,\n",
    "                      )\n",
    "model.run_model(till_termination=True)\n",
    "\n",
    "# python_output(model, 'Bru_Pot_Historical')\n",
    "run_comparison('Bru_Pot_Historical3', model)"
   ]
  },
  {
   "cell_type": "markdown",
   "metadata": {},
   "source": [
    "Future:"
   ]
  },
  {
   "cell_type": "code",
   "execution_count": 46,
   "metadata": {},
   "outputs": [
    {
     "name": "stdout",
     "output_type": "stream",
     "text": [
      "1597.8011883309516\n",
      "15.978011883309517\n"
     ]
    },
    {
     "name": "stderr",
     "output_type": "stream",
     "text": [
      "C:\\Users\\s10034cb\\AppData\\Local\\Temp\\ipykernel_6868\\341318044.py:55: ParserWarning: Falling back to the 'python' engine because the 'c' engine does not support skipfooter; you can avoid this warning by specifying engine='python'.\n",
      "  win_daily_outputs = pd.read_table('C:/Users/s10034cb/Dropbox (The University of Manchester)/Manchester Postdoc/AquaCrop-windows/AquaCropV7.1/OUTP/'+win_filename+'Crop.OUT',\n",
      "C:\\Users\\s10034cb\\AppData\\Local\\Temp\\ipykernel_6868\\341318044.py:74: ParserWarning: Falling back to the 'python' engine because the 'c' engine does not support skipfooter; you can avoid this warning by specifying engine='python'.\n",
      "  win_daily_water = pd.read_table('C:/Users/s10034cb/Dropbox (The University of Manchester)/Manchester Postdoc/AquaCrop-windows/AquaCropV7.1/OUTP/'+win_filename+'WABAL.OUT',\n",
      "C:\\Users\\s10034cb\\AppData\\Local\\Temp\\ipykernel_6868\\341318044.py:166: ParserWarning: Falling back to the 'python' engine because the 'c' engine does not support skipfooter; you can avoid this warning by specifying engine='python'.\n",
      "  win_annual_outputs=pd.read_csv('C:/Users/s10034cb/Dropbox (The University of Manchester)/Manchester Postdoc/AquaCrop-windows/AquaCropV7.1/OUTP/'+win_filename+'Harvest.OUT',\n",
      "C:\\Users\\s10034cb\\AppData\\Local\\Temp\\ipykernel_6868\\341318044.py:210: SettingWithCopyWarning: \n",
      "A value is trying to be set on a copy of a slice from a DataFrame\n",
      "\n",
      "See the caveats in the documentation: https://pandas.pydata.org/pandas-docs/stable/user_guide/indexing.html#returning-a-view-versus-a-copy\n",
      "  temp_a.rename(columns={'Wr' : 'Py_Wr'}, inplace=True)\n",
      "C:\\Users\\s10034cb\\AppData\\Local\\Temp\\ipykernel_6868\\341318044.py:212: SettingWithCopyWarning: \n",
      "A value is trying to be set on a copy of a slice from a DataFrame\n",
      "\n",
      "See the caveats in the documentation: https://pandas.pydata.org/pandas-docs/stable/user_guide/indexing.html#returning-a-view-versus-a-copy\n",
      "  temp_b.rename(columns={'Wr' : 'Win_Wr'}, inplace=True)\n"
     ]
    }
   ],
   "source": [
    "# Future climate\n",
    "filepath=get_filepath('C:/Users/s10034cb/Dropbox (The University of Manchester)/Manchester Postdoc/aquacrop/aquacrop/data/brussels_future.txt')\n",
    "brussels_future = prepare_weather(filepath)\n",
    "\n",
    "# crops\n",
    "potato = Crop('PotatoLocalGDD', planting_date='04/25')\n",
    "\n",
    "model = AquaCropModel(sim_start_time=f'{2041}/04/25',\n",
    "                      sim_end_time=f'{2070}/12/31',\n",
    "                      weather_df=brussels_future,\n",
    "                      soil=loam_soil,\n",
    "                      crop=potato,\n",
    "                      irrigation_management=irr_mngt,\n",
    "                      initial_water_content=fc,\n",
    "                      )\n",
    "model.run_model(till_termination=True)\n",
    "\n",
    "# python_output(model, 'Bru_Pot_Future')\n",
    "run_comparison('Bru_Pot_Future3', model)"
   ]
  },
  {
   "cell_type": "markdown",
   "metadata": {},
   "source": [
    "### Convert future climate data from AQ-Win formatting for use in AQ-Py"
   ]
  },
  {
   "cell_type": "code",
   "execution_count": 47,
   "metadata": {},
   "outputs": [
    {
     "name": "stdout",
     "output_type": "stream",
     "text": [
      "       Et0(mm)  Tmin(C)  Tmax(C)  Prcp(mm)   datetime  Year  Month  Day\n",
      "0          0.4      2.5      8.5       0.0 2041-01-01  2041      1    1\n",
      "1          0.2      0.2      6.3       0.0 2041-01-02  2041      1    2\n",
      "2          0.6     -1.4      7.9       0.0 2041-01-03  2041      1    3\n",
      "3          0.5     -3.0      3.9       0.0 2041-01-04  2041      1    4\n",
      "4          1.1    -10.6      6.1       0.0 2041-01-05  2041      1    5\n",
      "...        ...      ...      ...       ...        ...   ...    ...  ...\n",
      "10952      0.6      6.0     11.9       9.7 2070-12-27  2070     12   27\n",
      "10953      0.4      0.4      8.3       0.0 2070-12-28  2070     12   28\n",
      "10954      0.4      2.0      6.8       0.0 2070-12-29  2070     12   29\n",
      "10955      0.3     -0.8      3.7       0.0 2070-12-30  2070     12   30\n",
      "10956      0.3      3.3      6.6       0.0 2070-12-31  2070     12   31\n",
      "\n",
      "[10957 rows x 8 columns]\n",
      "       Day  Month  Year  Tmin(C)  Tmax(C)  Prcp(mm)  Et0(mm)\n",
      "0        1      1  2041      2.5      8.5       0.0      0.4\n",
      "1        2      1  2041      0.2      6.3       0.0      0.2\n",
      "2        3      1  2041     -1.4      7.9       0.0      0.6\n",
      "3        4      1  2041     -3.0      3.9       0.0      0.5\n",
      "4        5      1  2041    -10.6      6.1       0.0      1.1\n",
      "...    ...    ...   ...      ...      ...       ...      ...\n",
      "10952   27     12  2070      6.0     11.9       9.7      0.6\n",
      "10953   28     12  2070      0.4      8.3       0.0      0.4\n",
      "10954   29     12  2070      2.0      6.8       0.0      0.4\n",
      "10955   30     12  2070     -0.8      3.7       0.0      0.3\n",
      "10956   31     12  2070      3.3      6.6       0.0      0.3\n",
      "\n",
      "[10957 rows x 7 columns]\n"
     ]
    }
   ],
   "source": [
    "future_eto=pd.read_csv('../../AquaCrop-windows/AquaCropV7.1/DATA/BrusselsFuture2py.ETo')\n",
    "future_temp=pd.read_table('../../AquaCrop-windows/AquaCropV7.1/DATA/BrusselsFuture2py.Tnx')\n",
    "future_precip=pd.read_table('../../AquaCrop-windows/AquaCropV7.1/DATA/BrusselsFuture2py.PLU')\n",
    "\n",
    "temp=future_eto.join(future_temp)\n",
    "future_clim=temp.join(future_precip)\n",
    "future_clim['datetime']=pd.date_range('2041/01/01','2070/12/31')\n",
    "future_clim['Year']=pd.DatetimeIndex(future_clim['datetime']).year\n",
    "future_clim['Month']=pd.DatetimeIndex(future_clim['datetime']).month\n",
    "future_clim['Day']=pd.DatetimeIndex(future_clim['datetime']).day\n",
    "\n",
    "future_clim.rename(columns={\n",
    "    'Tmin (C)' : 'Tmin(C)',\n",
    "    'TMax (C)' : 'Tmax(C)',\n",
    "    'Average ETo (mm/day)' : 'Et0(mm)',\n",
    "    'Total Rain (mm)' : 'Prcp(mm)'\n",
    "},\n",
    "inplace=True    \n",
    ")\n",
    "\n",
    "print(future_clim)\n",
    "\n",
    "future_clim.drop('datetime',axis=1,inplace=True)\n",
    "col_order=['Day', 'Month','Year','Tmin(C)','Tmax(C)','Prcp(mm)','Et0(mm)']\n",
    "future_clim=future_clim[col_order]\n",
    "\n",
    "future_clim.to_csv('brussels_future.txt', sep='\\t')\n",
    "\n",
    "print(future_clim)\n"
   ]
  },
  {
   "cell_type": "markdown",
   "metadata": {},
   "source": [
    "# TEST: Setting up irrigation schedule to check it's working as expected"
   ]
  },
  {
   "cell_type": "code",
   "execution_count": 48,
   "metadata": {},
   "outputs": [
    {
     "name": "stdout",
     "output_type": "stream",
     "text": [
      "1248.1736835111737\n",
      "12.481736835111738\n"
     ]
    },
    {
     "name": "stderr",
     "output_type": "stream",
     "text": [
      "C:\\Users\\s10034cb\\AppData\\Local\\Temp\\ipykernel_6868\\341318044.py:55: ParserWarning: Falling back to the 'python' engine because the 'c' engine does not support skipfooter; you can avoid this warning by specifying engine='python'.\n",
      "  win_daily_outputs = pd.read_table('C:/Users/s10034cb/Dropbox (The University of Manchester)/Manchester Postdoc/AquaCrop-windows/AquaCropV7.1/OUTP/'+win_filename+'Crop.OUT',\n",
      "C:\\Users\\s10034cb\\AppData\\Local\\Temp\\ipykernel_6868\\341318044.py:74: ParserWarning: Falling back to the 'python' engine because the 'c' engine does not support skipfooter; you can avoid this warning by specifying engine='python'.\n",
      "  win_daily_water = pd.read_table('C:/Users/s10034cb/Dropbox (The University of Manchester)/Manchester Postdoc/AquaCrop-windows/AquaCropV7.1/OUTP/'+win_filename+'WABAL.OUT',\n",
      "C:\\Users\\s10034cb\\AppData\\Local\\Temp\\ipykernel_6868\\341318044.py:166: ParserWarning: Falling back to the 'python' engine because the 'c' engine does not support skipfooter; you can avoid this warning by specifying engine='python'.\n",
      "  win_annual_outputs=pd.read_csv('C:/Users/s10034cb/Dropbox (The University of Manchester)/Manchester Postdoc/AquaCrop-windows/AquaCropV7.1/OUTP/'+win_filename+'Harvest.OUT',\n",
      "C:\\Users\\s10034cb\\AppData\\Local\\Temp\\ipykernel_6868\\341318044.py:210: SettingWithCopyWarning: \n",
      "A value is trying to be set on a copy of a slice from a DataFrame\n",
      "\n",
      "See the caveats in the documentation: https://pandas.pydata.org/pandas-docs/stable/user_guide/indexing.html#returning-a-view-versus-a-copy\n",
      "  temp_a.rename(columns={'Wr' : 'Py_Wr'}, inplace=True)\n",
      "C:\\Users\\s10034cb\\AppData\\Local\\Temp\\ipykernel_6868\\341318044.py:212: SettingWithCopyWarning: \n",
      "A value is trying to be set on a copy of a slice from a DataFrame\n",
      "\n",
      "See the caveats in the documentation: https://pandas.pydata.org/pandas-docs/stable/user_guide/indexing.html#returning-a-view-versus-a-copy\n",
      "  temp_b.rename(columns={'Wr' : 'Win_Wr'}, inplace=True)\n"
     ]
    }
   ],
   "source": [
    "irri_dates = ['2000-04-26', '2000-04-27', '2000-04-28', '2000-04-30', '2000-05-10']\n",
    "n_years=len(irri_dates)\n",
    "depths=[21, 22, 23, 24, 25]\n",
    "\n",
    "schedule=pd.DataFrame([irri_dates,depths]).T # create pandas DataFrame\n",
    "schedule.columns=['Date','Depth'] # name columns\n",
    "\n",
    "irr_schedule = IrrigationManagement(irrigation_method=3, Schedule =schedule)\n",
    "\n",
    "# Brussels climate\n",
    "filepath=get_filepath('brussels_climate.txt')\n",
    "brussels_weather = prepare_weather(filepath)\n",
    "\n",
    "# Loamy sand soil\n",
    "loamy_sand = Soil(soil_type='LoamySand')\n",
    "\n",
    "# crops\n",
    "potato = Crop('PotatoLocalGDD', planting_date='04/25')\n",
    "\n",
    "# IWC\n",
    "fc = InitialWaterContent(value=['FC'])\n",
    "\n",
    "\n",
    "model = AquaCropModel(sim_start_time=f'{2000}/04/25',\n",
    "                      sim_end_time=f'{2000}/12/31',\n",
    "                      weather_df=brussels_weather,\n",
    "                      soil=loamy_sand,\n",
    "                      crop=potato,\n",
    "                      irrigation_management=irr_schedule,\n",
    "                      initial_water_content=fc,\n",
    "                      )\n",
    "model.run_model(till_termination=True)\n",
    "\n",
    "# python_output(model, 'Bru_Pot_Irr150RAW_noEToAdj')\n",
    "run_comparison('Bru_Pot_Irr150RAW_noEToAdj', model)"
   ]
  }
 ],
 "metadata": {
  "kernelspec": {
   "display_name": "Python 3 (ipykernel)",
   "language": "python",
   "name": "python3"
  },
  "language_info": {
   "codemirror_mode": {
    "name": "ipython",
    "version": 3
   },
   "file_extension": ".py",
   "mimetype": "text/x-python",
   "name": "python",
   "nbconvert_exporter": "python",
   "pygments_lexer": "ipython3",
   "version": "3.10.17"
  }
 },
 "nbformat": 4,
 "nbformat_minor": 4
}
