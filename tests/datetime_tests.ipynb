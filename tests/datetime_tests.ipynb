{
 "cells": [
  {
   "cell_type": "code",
   "execution_count": 9,
   "metadata": {},
   "outputs": [],
   "source": [
    "import pandas as pd\n",
    "import matplotlib.pyplot as plt\n",
    "import seaborn as sns\n",
    "import numpy as np\n",
    "import datetime\n",
    "from dateutil.parser import parse"
   ]
  },
  {
   "cell_type": "code",
   "execution_count": 27,
   "metadata": {},
   "outputs": [
    {
     "name": "stdout",
     "output_type": "stream",
     "text": [
      "0    1999-06-18\n",
      "1    1999-06-23\n",
      "2    1999-06-26\n",
      "3    2000-06-19\n",
      "4    2000-06-24\n",
      "5    2000-06-27\n",
      "6    2001-06-18\n",
      "7    2001-06-23\n",
      "8    2001-06-26\n",
      "9    2002-06-18\n",
      "10   2002-06-23\n",
      "11   2002-06-26\n",
      "Name: datetime, dtype: datetime64[ns]\n"
     ]
    },
    {
     "data": {
      "text/plain": [
       "datetime.datetime(1999, 1, 25, 0, 0)"
      ]
     },
     "execution_count": 27,
     "metadata": {},
     "output_type": "execute_result"
    }
   ],
   "source": [
    "test_df=pd.DataFrame({'year':[1999,1999,1999,2000,2000,2000,2001,2001,2001,2002,2002,2002],\n",
    "                    #   'month':[1,1,2,1,1,2,1,1,2,1,1,2],\n",
    "                      'dap':[1,6,9,1,6,9,1,6,9,1,6,9]})\n",
    "start_month=3\n",
    "start_day=25\n",
    "\n",
    "# test_df['datetime']=test_df.apply(lambda x:datetime.datetime(x.year,start_month,start_day+1)+datetime.timedelta(x.dap),axis=1)\n",
    "# test_df['datetime']=pd.to_datetime()\n",
    "# print(test_df.datetime)\n",
    "test_df['combined']=test_df['year'].astype(str) + ' ' + str(start_month) + ' ' + str(start_day)\n",
    "test_df['start_date']=pd.to_datetime(test_df['combined'], format='%Y %m %d')\n",
    "test_df['start_doy'] = test_df[\"start_date\"].dt.strftime('%j')\n",
    "test_df['doy_dap']=test_df['start_doy'].astype(int)+test_df['dap'].astype(int)\n",
    "test_df['time_added']=pd.to_timedelta(test_df['doy_dap'], 'd')\n",
    "test_df['datetime']=test_df['start_date'] + test_df['time_added']\n",
    "print(test_df.datetime)\n",
    "datetime.datetime.strptime('1999 25', '%Y %j')"
   ]
  }
 ],
 "metadata": {
  "kernelspec": {
   "display_name": "Python 3 (ipykernel)",
   "language": "python",
   "name": "python3"
  },
  "language_info": {
   "codemirror_mode": {
    "name": "ipython",
    "version": 3
   },
   "file_extension": ".py",
   "mimetype": "text/x-python",
   "name": "python",
   "nbconvert_exporter": "python",
   "pygments_lexer": "ipython3",
   "version": "3.10.17"
  }
 },
 "nbformat": 4,
 "nbformat_minor": 4
}
